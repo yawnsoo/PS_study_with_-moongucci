{
 "cells": [
  {
   "cell_type": "code",
   "execution_count": 107,
   "metadata": {},
   "outputs": [
    {
     "name": "stdout",
     "output_type": "stream",
     "text": [
      "happy\n"
     ]
    }
   ],
   "source": [
    "s = 'aukks'\n",
    "skip = 'wbqd'\n",
    "index = 5\n",
    "\n",
    "skip_word = list(skip)\n",
    "\n",
    "al_num = {}\n",
    "num_al = {}\n",
    "\n",
    "alpha = 'abcdefghijklnmopqrstuvwxyz'\n",
    "\n",
    "for i,v in enumerate(alpha):\n",
    "    num_al[i] = v\n",
    "    \n",
    "for i,v in enumerate(alpha):\n",
    "    al_num[v] = i\n",
    "\n",
    "s_num = []\n",
    "\n",
    "for x in s:\n",
    "    s_num.append(al_num[x])\n",
    "\n",
    "\n",
    "for i,item in enumerate(s):\n",
    "    jump = 0\n",
    "    cnt = 0\n",
    "    go = alpha[alpha.find(item):alpha.find(item)+index]\n",
    "    for g in go:\n",
    "        if g in skip_word:\n",
    "            cnt +=1\n",
    "        else:\n",
    "            pass\n",
    "    jump = index+cnt\n",
    "    s_num[i] += jump\n",
    "\n",
    "for i,x in enumerate(s_num):\n",
    "    x %= len(alpha)\n",
    "    s_num[i] = x\n",
    "\n",
    "    \n",
    "answer = []\n",
    "\n",
    "for x in s_num:\n",
    "    answer.append(num_al[x])\n",
    "\n",
    "answer = \"\".join(answer) \n",
    "\n",
    "print(answer)\n",
    "\n",
    "#테스트만 맞음 ;;"
   ]
  },
  {
   "cell_type": "code",
   "execution_count": 156,
   "metadata": {
    "scrolled": true
   },
   "outputs": [
    {
     "name": "stdout",
     "output_type": "stream",
     "text": [
      "klmnopqrstuvwxyz\n",
      "3\n",
      "n\n"
     ]
    }
   ],
   "source": [
    "# 1. skip을 제외하고 시작하기 아이디어.\n",
    "\n",
    "# 2. 알파벳 순서 잘못 적음 ...\n",
    "\n",
    "s = 'z'\n",
    "skip = 'abcdefghij'\n",
    "index = 20\n",
    "\n",
    "answer = ''\n",
    "\n",
    "alpha = 'abcdefghijklmnopqrstuvwxyz'\n",
    "\n",
    "for v in skip:\n",
    "    if v in alpha:\n",
    "        alpha = alpha.replace(v, \"\")\n",
    "print(alpha)\n",
    "        \n",
    "for x in s:\n",
    "    print((alpha.index(x) + index)%16)\n",
    "    change = alpha[(alpha.index(x) + index) % len(alpha)]\n",
    "    answer += change\n",
    "\n",
    "print(answer)"
   ]
  },
  {
   "cell_type": "code",
   "execution_count": 151,
   "metadata": {},
   "outputs": [
    {
     "data": {
      "text/plain": [
       "'n'"
      ]
     },
     "execution_count": 151,
     "metadata": {},
     "output_type": "execute_result"
    }
   ],
   "source": [
    "s = 'z'\n",
    "skip = 'abcdefghij'\n",
    "index = 20\n",
    "\n",
    "\n",
    "def solution(s, skip, index):\n",
    "    answer = 'abcdefghijklmnopqrstuvwxyz'\n",
    "    result = []\n",
    "    \n",
    "    for i in skip:\n",
    "        if i in answer:\n",
    "            answer = answer.replace(i, \"\")\n",
    "            \n",
    "    for j in s:\n",
    "        result.append(answer[(answer.index(j)+index) % len(answer)])\n",
    "            \n",
    "    return \"\".join(result)\n",
    "solution(s, skip, index)"
   ]
  },
  {
   "cell_type": "code",
   "execution_count": 145,
   "metadata": {},
   "outputs": [
    {
     "data": {
      "text/plain": [
       "'n'"
      ]
     },
     "execution_count": 145,
     "metadata": {},
     "output_type": "execute_result"
    }
   ],
   "source": [
    "# 알파벳을 아스키 코드로 변환해주는 ord와 문자로 변환해주는 chr 활용하여\n",
    "#알파벳 소문자 리스트 생성\n",
    "s = 'z'\n",
    "skip = 'abcdefghij'\n",
    "index = 20\n",
    "\n",
    "def get_skip_alphabet_list(skip):\n",
    "    return [chr(alpha_num) for alpha_num in range(ord('a'), ord('z') + 1) if chr(alpha_num) not in skip]\n",
    "\n",
    "# 제외된 알파벳 리스트에서 현재 알파벳 인덱스값 + index값을 전체 길이로 나누는 나머지 값의 위치 알파벳 호출\n",
    "def shift_alphabet(alphabet, index, skip_alphabet_list):\n",
    "    skip_alpha_len = len(skip_alphabet_list)\n",
    "    return skip_alphabet_list[(skip_alphabet_list.index(alphabet) + index) % skip_alpha_len]\n",
    "\n",
    "def solution(s, skip, index):    \n",
    "    alphabet_list = get_skip_alphabet_list(skip)\n",
    "    \n",
    "    shift_s = \"\".join([\n",
    "        shift_alphabet(alphabet, index, alphabet_list) for alphabet in list(s)\n",
    "    ])\n",
    "    \n",
    "    return shift_s\n",
    "\n",
    "solution(s, skip, index)\n",
    "#위의 답이랑 뭐가 다르지?"
   ]
  },
  {
   "cell_type": "code",
   "execution_count": null,
   "metadata": {},
   "outputs": [],
   "source": []
  }
 ],
 "metadata": {
  "kernelspec": {
   "display_name": "Python 3",
   "language": "python",
   "name": "python3"
  },
  "language_info": {
   "codemirror_mode": {
    "name": "ipython",
    "version": 3
   },
   "file_extension": ".py",
   "mimetype": "text/x-python",
   "name": "python",
   "nbconvert_exporter": "python",
   "pygments_lexer": "ipython3",
   "version": "3.8.3"
  }
 },
 "nbformat": 4,
 "nbformat_minor": 4
}
