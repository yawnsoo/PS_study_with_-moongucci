{
 "cells": [
  {
   "cell_type": "code",
   "execution_count": 154,
   "metadata": {},
   "outputs": [],
   "source": [
    "keymap =[\"BC\", \"CDB\"]\n",
    "targets =[\"BB\"]\n",
    "\n",
    "dickey = {}\n",
    "\n",
    "for key in keymap:\n",
    "    set_key = set(key)\n",
    "    for x in set_key:\n",
    "        dickey[x] = 100 # dictionary 초기값 설정\n",
    "    \n",
    "for key in keymap:    # dictionary keymap에 맞게 갱신\n",
    "    for i, v in enumerate(key):\n",
    "        if dickey[v] > i+1:\n",
    "            dickey[v] = i+1\n",
    "        else:\n",
    "            pass\n",
    "\n",
    "\n",
    "check = dickey.keys()\n",
    "answer = []  \n",
    "\n",
    "\n",
    "for t in targets: \n",
    "    ans=0\n",
    "    for v in t:\n",
    "        # 타겟이 keymap에 존재하면 더하기\n",
    "        if v in check:\n",
    "            ans += dickey[v]\n",
    "        #존재하지 않다면 ans값 초기화\n",
    "        else:\n",
    "            ans = 0\n",
    "            break\n",
    "    #값이 초기화가 안됐다면 모든알파벳 존재. 값 추가        \n",
    "    if ans != 0:\n",
    "        answer.append(ans)\n",
    "    #ans가 계속 0이라면 keymap에 없는 알파벳 존재\n",
    "    else:\n",
    "        answer.append(-1)\n",
    "\n",
    "        \n",
    "#11, 12, 13빼고 실패"
   ]
  },
  {
   "cell_type": "code",
   "execution_count": 155,
   "metadata": {},
   "outputs": [
    {
     "data": {
      "text/plain": [
       "[2]"
      ]
     },
     "execution_count": 155,
     "metadata": {},
     "output_type": "execute_result"
    }
   ],
   "source": [
    "answer"
   ]
  },
  {
   "cell_type": "code",
   "execution_count": null,
   "metadata": {},
   "outputs": [],
   "source": []
  }
 ],
 "metadata": {
  "kernelspec": {
   "display_name": "Python 3",
   "language": "python",
   "name": "python3"
  },
  "language_info": {
   "codemirror_mode": {
    "name": "ipython",
    "version": 3
   },
   "file_extension": ".py",
   "mimetype": "text/x-python",
   "name": "python",
   "nbconvert_exporter": "python",
   "pygments_lexer": "ipython3",
   "version": "3.8.3"
  }
 },
 "nbformat": 4,
 "nbformat_minor": 4
}
