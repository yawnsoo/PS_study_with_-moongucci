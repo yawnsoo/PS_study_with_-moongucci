{
 "cells": [
  {
   "cell_type": "code",
   "execution_count": 74,
   "metadata": {},
   "outputs": [],
   "source": [
    "id_list = [\"muzi\", \"frodo\", \"apeach\", \"neo\"]\n",
    "report = [\"muzi frodo\",\"apeach frodo\",\"frodo neo\",\"muzi neo\",\"apeach muzi\"]\n",
    "k = 2\n",
    "\n",
    "score = {}\n",
    "report_score = {}\n",
    "for x in id_list:\n",
    "    score[x] = 0\n",
    "\n",
    "for x in id_list:\n",
    "    report_score[x] = []\n",
    "    \n",
    "print(report_score)\n",
    "    \n",
    "for item in report:\n",
    "#     print(item.split(' '))\n",
    "#     print(item.split(' ')[1])\n",
    "    report_score[item.split(' ')[0]].append(item.split(' ')[1])\n",
    "\n",
    "\n",
    "for v in report_score:\n",
    "    report_score[v] = set(report_score[v])\n",
    "\n",
    "for val in report_score.values():\n",
    "    if len(val)==0:\n",
    "        pass\n",
    "    else:\n",
    "        for x in val:\n",
    "            score[x] += 1\n",
    "\n",
    "check = []\n",
    "\n",
    "for x in score:\n",
    "    if score[x] >= k:\n",
    "        check.append(x)\n",
    "    else:\n",
    "        pass\n",
    "\n",
    "answer = []\n",
    "for x in report_score.values():\n",
    "    cnt = 0\n",
    "\n",
    "    for y in x:\n",
    "        if y in check:\n",
    "            cnt += 1\n",
    "    answer.append(cnt)"
   ]
  },
  {
   "cell_type": "code",
   "execution_count": 95,
   "metadata": {},
   "outputs": [
    {
     "data": {
      "text/plain": [
       "[2, 1, 1, 0]"
      ]
     },
     "execution_count": 95,
     "metadata": {},
     "output_type": "execute_result"
    }
   ],
   "source": [
    "answer"
   ]
  },
  {
   "cell_type": "code",
   "execution_count": null,
   "metadata": {},
   "outputs": [],
   "source": []
  }
 ],
 "metadata": {
  "kernelspec": {
   "display_name": "Python 3",
   "language": "python",
   "name": "python3"
  },
  "language_info": {
   "codemirror_mode": {
    "name": "ipython",
    "version": 3
   },
   "file_extension": ".py",
   "mimetype": "text/x-python",
   "name": "python",
   "nbconvert_exporter": "python",
   "pygments_lexer": "ipython3",
   "version": "3.8.3"
  }
 },
 "nbformat": 4,
 "nbformat_minor": 4
}
