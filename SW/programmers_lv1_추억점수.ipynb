{
 "cells": [
  {
   "cell_type": "code",
   "execution_count": 41,
   "metadata": {},
   "outputs": [
    {
     "name": "stdout",
     "output_type": "stream",
     "text": [
      "{'may': 5, 'kein': 10, 'kain': 1, 'radi': 3}\n",
      "[19, 15, 6]\n"
     ]
    }
   ],
   "source": [
    "name = [\"may\", \"kein\", \"kain\", \"radi\"]\n",
    "yearning = [5, 10, 1, 3]\n",
    "photo = [[\"may\", \"kein\", \"kain\", \"radi\"],[\"may\", \"kein\", \"brin\", \"deny\"], [\"kon\", \"kain\", \"may\", \"coni\"]]\n",
    "\n",
    "point = {}\n",
    "\n",
    "for k, v in zip(name, yearning):\n",
    "    point[k] = v\n",
    "\n",
    "print(point)\n",
    "result = []\n",
    "\n",
    "temp = 0\n",
    "for p_list in photo:\n",
    "    for man in p_list:    \n",
    "        if man in name:\n",
    "            temp += point[man]\n",
    "        else:   \n",
    "            continue\n",
    "    result.append(temp)\n",
    "    temp = 0\n",
    "    \n",
    "print(result)"
   ]
  },
  {
   "cell_type": "code",
   "execution_count": null,
   "metadata": {},
   "outputs": [],
   "source": []
  }
 ],
 "metadata": {
  "kernelspec": {
   "display_name": "Python 3",
   "language": "python",
   "name": "python3"
  },
  "language_info": {
   "codemirror_mode": {
    "name": "ipython",
    "version": 3
   },
   "file_extension": ".py",
   "mimetype": "text/x-python",
   "name": "python",
   "nbconvert_exporter": "python",
   "pygments_lexer": "ipython3",
   "version": "3.8.3"
  }
 },
 "nbformat": 4,
 "nbformat_minor": 4
}
