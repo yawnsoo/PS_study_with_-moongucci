{
 "cells": [
  {
   "cell_type": "code",
   "execution_count": 48,
   "metadata": {},
   "outputs": [],
   "source": [
    "food = [1, 7, 1, 2]"
   ]
  },
  {
   "cell_type": "code",
   "execution_count": 49,
   "metadata": {
    "scrolled": true
   },
   "outputs": [],
   "source": [
    "#홀수는 쓰지 못하므로 -1개 해주고\n",
    "for i in range(1, len(food)):\n",
    "    if (food[i] % 2) != 0:\n",
    "        food[i] -= 1\n",
    "        food[i] = int(food[i] / 2)\n",
    "    else:\n",
    "        food[i] = int(food[i] / 2)\n",
    "    \n",
    "\n",
    "# 음식의 수에 맞게 스트링으로 변환\n",
    "\n",
    "s = ''\n",
    "for i, item in enumerate(food):\n",
    "    if item != 0:\n",
    "        s += str(i)*item\n",
    "    else:\n",
    "        pass\n",
    "s_list = list(s)\n",
    "\n",
    "# 물 빼기\n",
    "s_list.pop(0)\n",
    "s_list_back = sorted(s_list, reverse=True)\n",
    "\n",
    "s_list.append(0)\n",
    "s_list += s_list_back\n",
    "\n",
    "answer = ''\n",
    "\n",
    "for x in s_list:\n",
    "    answer += str(x)\n",
    "print(answer)"
   ]
  },
  {
   "cell_type": "code",
   "execution_count": null,
   "metadata": {},
   "outputs": [],
   "source": []
  },
  {
   "cell_type": "code",
   "execution_count": null,
   "metadata": {},
   "outputs": [],
   "source": []
  }
 ],
 "metadata": {
  "kernelspec": {
   "display_name": "Python 3",
   "language": "python",
   "name": "python3"
  },
  "language_info": {
   "codemirror_mode": {
    "name": "ipython",
    "version": 3
   },
   "file_extension": ".py",
   "mimetype": "text/x-python",
   "name": "python",
   "nbconvert_exporter": "python",
   "pygments_lexer": "ipython3",
   "version": "3.8.3"
  }
 },
 "nbformat": 4,
 "nbformat_minor": 4
}
