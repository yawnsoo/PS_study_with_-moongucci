{
 "cells": [
  {
   "cell_type": "code",
   "execution_count": 59,
   "metadata": {},
   "outputs": [
    {
     "name": "stdout",
     "output_type": "stream",
     "text": [
      "aaa\n"
     ]
    }
   ],
   "source": [
    "new_id = \"=.=\"\n",
    "\n",
    "#1단계\n",
    "new_id = new_id.lower()\n",
    "\n",
    "#2단계\n",
    "temp = ''\n",
    "for i in new_id:\n",
    "    if i.isalpha() or i.isdigit() or i == '-' or i =='_' or i =='.':\n",
    "        temp += i\n",
    "        \n",
    "new_id = temp\n",
    "\n",
    "#3단계\n",
    "while '..' in new_id:\n",
    "    new_id = new_id.replace('..', '.')\n",
    "\n",
    "#4단계\n",
    "if len(new_id) >= 2:\n",
    "    if new_id[0] == '.':\n",
    "        new_id = new_id[1:]\n",
    "    if new_id[-1] == '.':\n",
    "        new_id = new_id[:-1]\n",
    "        \n",
    "if new_id == '.':\n",
    "    new_id = ''\n",
    "\n",
    "#5단계\n",
    "\n",
    "if len(new_id) == 0:\n",
    "    new_id += 'a'\n",
    "\n",
    "#6단계\n",
    "if len(new_id) >= 16:\n",
    "    new_id = new_id[:15]\n",
    "    if new_id[-1] == '.':\n",
    "        new_id = new_id[:-1]\n",
    "\n",
    "#7단계\n",
    "        \n",
    "if len(new_id) <= 2:\n",
    "    while len(new_id) <= 2:\n",
    "        new_id += new_id[-1]\n",
    "        \n",
    "print(new_id)"
   ]
  },
  {
   "cell_type": "code",
   "execution_count": null,
   "metadata": {},
   "outputs": [],
   "source": []
  }
 ],
 "metadata": {
  "kernelspec": {
   "display_name": "Python 3",
   "language": "python",
   "name": "python3"
  },
  "language_info": {
   "codemirror_mode": {
    "name": "ipython",
    "version": 3
   },
   "file_extension": ".py",
   "mimetype": "text/x-python",
   "name": "python",
   "nbconvert_exporter": "python",
   "pygments_lexer": "ipython3",
   "version": "3.8.3"
  }
 },
 "nbformat": 4,
 "nbformat_minor": 4
}
