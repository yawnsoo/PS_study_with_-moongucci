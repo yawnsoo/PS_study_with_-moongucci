{
 "cells": [
  {
   "cell_type": "code",
   "execution_count": 53,
   "metadata": {},
   "outputs": [],
   "source": [
    "d = [1,3,2,5,4]\n",
    "budget = 9"
   ]
  },
  {
   "cell_type": "code",
   "execution_count": 56,
   "metadata": {},
   "outputs": [
    {
     "name": "stdout",
     "output_type": "stream",
     "text": [
      "(1,)\n",
      "1\n",
      "(3,)\n",
      "3\n",
      "(2,)\n",
      "2\n",
      "(5,)\n",
      "5\n",
      "(4,)\n",
      "4\n",
      "(1, 3)\n",
      "4\n",
      "(1, 2)\n",
      "3\n",
      "(1, 5)\n",
      "6\n",
      "(1, 4)\n",
      "5\n",
      "(3, 2)\n",
      "5\n",
      "(3, 5)\n",
      "8\n",
      "(3, 4)\n",
      "7\n",
      "(2, 5)\n",
      "7\n",
      "(2, 4)\n",
      "6\n",
      "(5, 4)\n",
      "9\n",
      "(1, 3, 2)\n",
      "6\n",
      "(1, 3, 5)\n",
      "9\n",
      "(1, 3, 4)\n",
      "8\n",
      "(1, 2, 5)\n",
      "8\n",
      "(1, 2, 4)\n",
      "7\n",
      "(1, 5, 4)\n",
      "10\n",
      "(3, 2, 5)\n",
      "10\n",
      "(3, 2, 4)\n",
      "9\n",
      "(3, 5, 4)\n",
      "12\n",
      "(2, 5, 4)\n",
      "11\n",
      "(1, 3, 2, 5)\n",
      "11\n",
      "(1, 3, 2, 4)\n",
      "10\n",
      "(1, 3, 5, 4)\n",
      "13\n",
      "(1, 2, 5, 4)\n",
      "12\n",
      "(3, 2, 5, 4)\n",
      "14\n",
      "(1, 3, 2, 5, 4)\n",
      "15\n"
     ]
    }
   ],
   "source": [
    "import itertools\n",
    "\n",
    "answer = set()\n",
    "for i in range(1,len(d)+1):\n",
    "    temp = itertools.combinations(d,i)\n",
    "    for x in temp:\n",
    "        print(x)\n",
    "        print(sum(x))\n",
    "        if sum(x) <= budget:\n",
    "            answer.add(len(x))\n",
    "            \n",
    "#런타임 에러"
   ]
  },
  {
   "cell_type": "code",
   "execution_count": null,
   "metadata": {},
   "outputs": [],
   "source": [
    "max(answer)"
   ]
  },
  {
   "cell_type": "code",
   "execution_count": 70,
   "metadata": {},
   "outputs": [],
   "source": [
    "d = [1,3,2,5,4]\n",
    "budget = 9"
   ]
  },
  {
   "cell_type": "code",
   "execution_count": 71,
   "metadata": {},
   "outputs": [],
   "source": [
    "temp = sorted(d)\n",
    "\n",
    "answer = 0\n",
    "for x in temp:\n",
    "    budget -= x\n",
    "    answer += 1\n",
    "    if budget > 0:\n",
    "        pass\n",
    "    elif budget < 0:\n",
    "        budget += x\n",
    "        answer -= 1\n",
    "        break\n",
    "    else:\n",
    "        break"
   ]
  },
  {
   "cell_type": "code",
   "execution_count": 74,
   "metadata": {},
   "outputs": [
    {
     "data": {
      "text/plain": [
       "3"
      ]
     },
     "execution_count": 74,
     "metadata": {},
     "output_type": "execute_result"
    }
   ],
   "source": [
    "answer"
   ]
  },
  {
   "cell_type": "code",
   "execution_count": null,
   "metadata": {},
   "outputs": [],
   "source": []
  }
 ],
 "metadata": {
  "kernelspec": {
   "display_name": "Python 3",
   "language": "python",
   "name": "python3"
  },
  "language_info": {
   "codemirror_mode": {
    "name": "ipython",
    "version": 3
   },
   "file_extension": ".py",
   "mimetype": "text/x-python",
   "name": "python",
   "nbconvert_exporter": "python",
   "pygments_lexer": "ipython3",
   "version": "3.8.3"
  }
 },
 "nbformat": 4,
 "nbformat_minor": 4
}
