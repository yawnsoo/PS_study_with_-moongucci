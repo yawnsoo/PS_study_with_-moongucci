{
 "cells": [
  {
   "cell_type": "code",
   "execution_count": 34,
   "metadata": {},
   "outputs": [],
   "source": [
    "s =\"aaabbaccccabba\"\n",
    "\n",
    "temp = []\n",
    "\n",
    "initial = 0\n",
    "comp = 0\n",
    "answer = 0\n",
    "s_list = list(s)\n",
    "\n",
    "for i in range(len(s)):\n",
    "    temp.append(s_list[0])\n",
    "    if  temp[0] == s_list.pop(0):\n",
    "        initial += 1\n",
    "    else:\n",
    "        comp += 1\n",
    "\n",
    "    if initial == comp:\n",
    "        answer += 1\n",
    "        initial = 0\n",
    "        comp = 0\n",
    "        temp = []\n",
    "    else:\n",
    "        pass\n",
    "if initial != 0:\n",
    "    answer += 1"
   ]
  },
  {
   "cell_type": "code",
   "execution_count": 35,
   "metadata": {},
   "outputs": [
    {
     "data": {
      "text/plain": [
       "3"
      ]
     },
     "execution_count": 35,
     "metadata": {},
     "output_type": "execute_result"
    }
   ],
   "source": [
    "answer"
   ]
  },
  {
   "cell_type": "code",
   "execution_count": null,
   "metadata": {},
   "outputs": [],
   "source": []
  }
 ],
 "metadata": {
  "kernelspec": {
   "display_name": "Python 3",
   "language": "python",
   "name": "python3"
  },
  "language_info": {
   "codemirror_mode": {
    "name": "ipython",
    "version": 3
   },
   "file_extension": ".py",
   "mimetype": "text/x-python",
   "name": "python",
   "nbconvert_exporter": "python",
   "pygments_lexer": "ipython3",
   "version": "3.8.3"
  }
 },
 "nbformat": 4,
 "nbformat_minor": 4
}
