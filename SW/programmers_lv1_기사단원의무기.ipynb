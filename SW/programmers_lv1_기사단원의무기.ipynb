{
 "cells": [
  {
   "cell_type": "code",
   "execution_count": 84,
   "metadata": {},
   "outputs": [],
   "source": [
    "def yaksu(x):\n",
    "    cnt = 0\n",
    "    if x == 1:\n",
    "        cnt = 1\n",
    "    else:\n",
    "        cnt = 1\n",
    "        for i in range(1,int((math.sqrt(x)))+1):\n",
    "            if (x % i) == 0:\n",
    "                cnt += 1\n",
    "            else:\n",
    "                pass\n",
    "    return cnt\n",
    "#갯수를 구하려고 하니 실패"
   ]
  },
  {
   "cell_type": "code",
   "execution_count": 83,
   "metadata": {},
   "outputs": [],
   "source": [
    "def yaksu(x):\n",
    "    temp = []\n",
    "    if x == 1:\n",
    "        cnt = 1\n",
    "    else:\n",
    "        for i in range(1,int(math.sqrt(x))+1):\n",
    "            if (x % i) == 0:\n",
    "                temp.append(i)\n",
    "                # i는 x의 약수임\n",
    "                #이후 완전제곱수가 아니면 짝지어진 약수 추가\n",
    "                if (i**2) != x:\n",
    "                    temp.append(x//i)\n",
    "\n",
    "        cnt = len(temp)\n",
    "\n",
    "    return cnt\n"
   ]
  },
  {
   "cell_type": "code",
   "execution_count": 87,
   "metadata": {},
   "outputs": [],
   "source": [
    "import math\n",
    "\n",
    "number = 10\n",
    "limit =  3\n",
    "power = 2\n",
    "\n",
    "\n",
    "\n",
    "#약수 구하면 끝\n",
    "\n",
    "\n",
    "#약수는 절반만 탐색\n",
    "def yaksu(x):\n",
    "    temp = []\n",
    "    if x == 1:\n",
    "        cnt = 1\n",
    "    else:\n",
    "        for i in range(1,int(math.sqrt(x))+1):\n",
    "            if (x % i) == 0:\n",
    "                temp.append(i)\n",
    "                # i는 x의 약수임\n",
    "                #이후 완전제곱수가 아니면 짝지어진 약수 추가\n",
    "                if (i**2) != x:\n",
    "                    temp.append(x//i)\n",
    "\n",
    "        cnt = len(temp)\n",
    "\n",
    "    return cnt\n",
    "\n",
    "answer = 0\n",
    "atk = []\n",
    "\n",
    "\n",
    "for i in range(number):\n",
    "    atk.append(yaksu(i+1))\n",
    "    \n",
    "for x in atk:\n",
    "    if x <= limit:\n",
    "        answer += x\n",
    "    else: answer += power"
   ]
  },
  {
   "cell_type": "code",
   "execution_count": 88,
   "metadata": {},
   "outputs": [
    {
     "name": "stdout",
     "output_type": "stream",
     "text": [
      "21\n"
     ]
    }
   ],
   "source": [
    "print(answer)"
   ]
  },
  {
   "cell_type": "code",
   "execution_count": null,
   "metadata": {},
   "outputs": [],
   "source": []
  }
 ],
 "metadata": {
  "kernelspec": {
   "display_name": "Python 3",
   "language": "python",
   "name": "python3"
  },
  "language_info": {
   "codemirror_mode": {
    "name": "ipython",
    "version": 3
   },
   "file_extension": ".py",
   "mimetype": "text/x-python",
   "name": "python",
   "nbconvert_exporter": "python",
   "pygments_lexer": "ipython3",
   "version": "3.8.3"
  }
 },
 "nbformat": 4,
 "nbformat_minor": 4
}
