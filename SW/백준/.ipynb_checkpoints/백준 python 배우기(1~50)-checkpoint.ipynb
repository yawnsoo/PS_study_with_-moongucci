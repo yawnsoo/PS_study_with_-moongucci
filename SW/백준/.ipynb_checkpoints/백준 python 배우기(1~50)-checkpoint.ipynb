{
 "cells": [
  {
   "cell_type": "code",
   "execution_count": 16,
   "metadata": {},
   "outputs": [
    {
     "name": "stdout",
     "output_type": "stream",
     "text": [
      "2 5 6373 35 252 633  32 2256 1\n",
      "[2, 5, 6373, 35, 252, 633, 32, 2256, 1]\n"
     ]
    }
   ],
   "source": [
    "#1000\n",
    "\n",
    "a,b = map(int, input().split())\n",
    "print(a+b)"
   ]
  },
  {
   "cell_type": "code",
   "execution_count": 17,
   "metadata": {},
   "outputs": [
    {
     "name": "stdout",
     "output_type": "stream",
     "text": [
      "2 4\n",
      "8\n"
     ]
    }
   ],
   "source": [
    "#10998\n",
    "\n",
    "a, b = map(int, input().split())\n",
    "print(a*b)"
   ]
  },
  {
   "cell_type": "code",
   "execution_count": null,
   "metadata": {},
   "outputs": [],
   "source": [
    "#1001\n",
    "\n",
    "a, b = map(int, input().split())\n",
    "print(a-b)"
   ]
  },
  {
   "cell_type": "code",
   "execution_count": 19,
   "metadata": {},
   "outputs": [
    {
     "name": "stdout",
     "output_type": "stream",
     "text": [
      "4 5\n",
      "0.8\n"
     ]
    }
   ],
   "source": [
    "#1008\n",
    "\n",
    "a, b = map(float, input().split())\n",
    "print(a/b)"
   ]
  },
  {
   "cell_type": "code",
   "execution_count": 26,
   "metadata": {},
   "outputs": [
    {
     "name": "stdout",
     "output_type": "stream",
     "text": [
      "13 7\n",
      "20\n",
      "6\n",
      "91\n",
      "1\n",
      "6\n"
     ]
    }
   ],
   "source": [
    "#10869\n",
    "\n",
    "a, b = map(int, input().split())\n",
    "print(a+b)\n",
    "print(a-b)\n",
    "print(a*b)\n",
    "print(int(a/b))\n",
    "print(a%b)"
   ]
  },
  {
   "cell_type": "code",
   "execution_count": 27,
   "metadata": {},
   "outputs": [
    {
     "name": "stdout",
     "output_type": "stream",
     "text": [
      "5 8 4\n",
      "1\n",
      "1\n",
      "0\n",
      "0\n"
     ]
    }
   ],
   "source": [
    "#10430\n",
    "\n",
    "A, B, C = map(int, input().split())\n",
    "print((A+B)%C)\n",
    "print(((A%C) + (B%C))%C)\n",
    "print((A*B)%C)\n",
    "print(((A%C) * (B%C))%C)"
   ]
  },
  {
   "cell_type": "code",
   "execution_count": 32,
   "metadata": {},
   "outputs": [
    {
     "name": "stdout",
     "output_type": "stream",
     "text": [
      "2\n",
      "4\n",
      "6\n"
     ]
    }
   ],
   "source": [
    "#2558\n",
    "\n",
    "a = int(input())\n",
    "b = int(input())\n",
    "print(a+b)"
   ]
  },
  {
   "cell_type": "code",
   "execution_count": 36,
   "metadata": {
    "scrolled": true
   },
   "outputs": [
    {
     "name": "stdout",
     "output_type": "stream",
     "text": [
      "472\n",
      "385\n",
      "2360\n",
      "3776\n",
      "1416\n",
      "181720\n"
     ]
    }
   ],
   "source": [
    "#2588\n",
    "\n",
    "a = int(input())\n",
    "b = int(input())\n",
    "b1 = b%10\n",
    "b10 = (int(b/10))%10\n",
    "b100 = int(b/100)\n",
    "\n",
    "print(a*b1)\n",
    "print(a*b10)\n",
    "print(a*b100)\n",
    "print(a*b)"
   ]
  },
  {
   "cell_type": "code",
   "execution_count": 41,
   "metadata": {},
   "outputs": [
    {
     "name": "stdout",
     "output_type": "stream",
     "text": [
      "4 3\n",
      "2\n"
     ]
    }
   ],
   "source": [
    "#3046 r2\n",
    "\n",
    "r1, s = map(int, input().split())\n",
    "\n",
    "r2 = s*2 - r1\n",
    "print(r2)"
   ]
  },
  {
   "cell_type": "code",
   "execution_count": 45,
   "metadata": {},
   "outputs": [
    {
     "name": "stdout",
     "output_type": "stream",
     "text": [
      "2 2\n",
      "3\n"
     ]
    }
   ],
   "source": [
    "#2163 초콜릿자르기\n",
    "\n",
    "n, m = map(int, input().split())\n",
    "\n",
    "print(n*m-1)"
   ]
  },
  {
   "cell_type": "code",
   "execution_count": 64,
   "metadata": {},
   "outputs": [
    {
     "name": "stdout",
     "output_type": "stream",
     "text": [
      "5\n",
      "1 1\n",
      "2 3\n",
      " 3 4\n",
      "9 8\n",
      "5 2\n",
      "Case #1: 2\n",
      "Case #2: 5\n",
      "Case #3: 7\n",
      "Case #4: 17\n",
      "Case #5: 7\n"
     ]
    }
   ],
   "source": [
    "#11021\n",
    "\n",
    "t = int(input())\n",
    "tc = []\n",
    "for i in range(t):\n",
    "    tc.append(sum(map(int,input().split())))\n",
    "    \n",
    "for i in range(t):\n",
    "    print(f\"Case #{i+1}: \" + str(tc[i]))"
   ]
  },
  {
   "cell_type": "code",
   "execution_count": 82,
   "metadata": {},
   "outputs": [
    {
     "name": "stdout",
     "output_type": "stream",
     "text": [
      "3\n",
      "1 3\n",
      "2 4\n",
      "5 6\n",
      "Case #1: 1 + 3 = 4\n",
      "Case #2: 2 + 4 = 6\n",
      "Case #3: 5 + 6 = 11\n"
     ]
    }
   ],
   "source": [
    "#11022\n",
    "\n",
    "\n",
    "t =int(input())\n",
    "for i in range(t):\n",
    "    globals()[f\"a{i+1}\"], globals()[f\"b{i+1}\"] = map(int, input().split())\n",
    "    \n",
    "    \n",
    "for i in range(t):\n",
    "    a = globals()[f\"a{i+1}\"]\n",
    "    b = globals()[f\"b{i+1}\"]\n",
    "    print(f\"Case #{i+1}: \" + str(a) + \" + \" + str(b) + \" = \" + str(a+b))"
   ]
  },
  {
   "cell_type": "code",
   "execution_count": 79,
   "metadata": {},
   "outputs": [
    {
     "name": "stdout",
     "output_type": "stream",
     "text": [
      "14억\n",
      "13억\n",
      "9억\n",
      "7억\n",
      "6억\n"
     ]
    }
   ],
   "source": [
    "#동적 변수 할당과 호출\n",
    "\n",
    "regionPrice = ['14억', '13억', '9억', '7억', '6억']\n",
    "for i in range(0, len(regionPrice)):\n",
    "    locals()['df{}'.format(i)] = regionPrice[i]\n",
    "    \n",
    "for i in range(0, len(regionPrice)):\n",
    "    df = locals()['df{}'.format(i)]\n",
    "    print(df)"
   ]
  },
  {
   "cell_type": "code",
   "execution_count": 90,
   "metadata": {},
   "outputs": [
    {
     "name": "stdout",
     "output_type": "stream",
     "text": [
      "2023-04-10\n"
     ]
    }
   ],
   "source": [
    "#10699\n",
    "\n",
    "import datetime\n",
    "s_day = datetime.datetime.now()\n",
    "print(s_day.strftime('%Y-%m-%d'))"
   ]
  },
  {
   "cell_type": "code",
   "execution_count": null,
   "metadata": {},
   "outputs": [],
   "source": [
    "#7287\n",
    "\n"
   ]
  },
  {
   "cell_type": "code",
   "execution_count": 108,
   "metadata": {},
   "outputs": [
    {
     "name": "stdout",
     "output_type": "stream",
     "text": [
      "17 40\n",
      "80\n",
      "19 0\n"
     ]
    }
   ],
   "source": [
    "#2525\n",
    "a, b = map(int, input().split())\n",
    "c = int(input())\n",
    "new_b = b+c\n",
    "if ((new_b)>=60):\n",
    "    a += int(new_b/60)\n",
    "    new_b %= 60\n",
    "\n",
    "while(a>=24):\n",
    "    a %= 24\n",
    "    \n",
    "    \n",
    "print(a, new_b)\n",
    "\n",
    "#시계 그대로 풀기"
   ]
  },
  {
   "cell_type": "code",
   "execution_count": 118,
   "metadata": {},
   "outputs": [
    {
     "name": "stdout",
     "output_type": "stream",
     "text": [
      "23 48 59\n",
      "2515\n",
      "0 30 54\n"
     ]
    }
   ],
   "source": [
    "#2530\n",
    "\n",
    "h, m, s = map(int, input().split())\n",
    "add =int(input())\n",
    "\n",
    "alltime = 60*60*h + 60*m + s\n",
    "alltime += add\n",
    "\n",
    "newh = int(alltime / (60 * 60))\n",
    "alltime %= 60*60\n",
    "newm = int(alltime / 60)\n",
    "alltime %= 60\n",
    "news = alltime\n",
    "while (newh >= 24):\n",
    "    newh %= 24\n",
    "print (str(newh) +\" \"+str(newm) + \" \" +str(news))\n",
    "\n",
    "\n",
    "#시간 총량으로 풀기"
   ]
  },
  {
   "cell_type": "code",
   "execution_count": 133,
   "metadata": {},
   "outputs": [
    {
     "name": "stdout",
     "output_type": "stream",
     "text": [
      "38 24\n",
      "875\n"
     ]
    }
   ],
   "source": [
    "#2914\n",
    "import math\n",
    "\n",
    "a, i = map(int, input().split())\n",
    "\n",
    "print(a*(i-1)+1)\n",
    "\n",
    "#평균값이 달라지는 임계지점 확인\n"
   ]
  },
  {
   "cell_type": "code",
   "execution_count": 192,
   "metadata": {},
   "outputs": [
    {
     "name": "stdout",
     "output_type": "stream",
     "text": [
      "3\n",
      "3 @ %\n",
      "10.4 # % @\n",
      "8 #\n",
      "14.00\n",
      "25.20\n",
      "1.00\n"
     ]
    }
   ],
   "source": [
    "#5355\n",
    "def operate(a, x):\n",
    "    if (x == '@'):\n",
    "        a *= 3\n",
    "        return a\n",
    "    elif (x == '%'):\n",
    "        a += 5\n",
    "        return a\n",
    "    elif (x == '#'):\n",
    "        a-= 7\n",
    "        return a\n",
    "\n",
    "t = int(input())\n",
    "\n",
    "for i in range(t):\n",
    "    globals()['num_{}'.format(i+1)] = list(map(str, input().split()))\n",
    "    \n",
    "\n",
    "for i in range(t):\n",
    "    for j in range(1, len(globals()['num_{}'.format(i+1)])):\n",
    "        globals()['num_{}'.format(i+1)][0] = operate(float(globals()['num_{}'.format(i+1)][0]),globals()['num_{}'.format(i+1)][j])\n",
    "    print( \"{:.2f}\".format(globals()['num_{}'.format(i+1)][0]) )"
   ]
  },
  {
   "cell_type": "code",
   "execution_count": 194,
   "metadata": {},
   "outputs": [
    {
     "name": "stdout",
     "output_type": "stream",
     "text": [
      "3\n",
      "3 @ %\n",
      "14.00\n",
      "10.4 # % @\n",
      "25.20\n",
      "8 #\n",
      "1.00\n"
     ]
    }
   ],
   "source": [
    "#5355\n",
    "\n",
    "t = int(input())\n",
    "\n",
    "for i in range(t):\n",
    "    math = list(input().split())\n",
    "    num = float(math[0])\n",
    "    for x in math[1:]:\n",
    "        if (x =='@'):\n",
    "            num *= 3 \n",
    "        elif (x =='%'):\n",
    "            num += 5\n",
    "        elif (x =='#'):\n",
    "            num -= 7\n",
    "    print('%0.2f' %num)"
   ]
  },
  {
   "cell_type": "code",
   "execution_count": 230,
   "metadata": {},
   "outputs": [
    {
     "name": "stdout",
     "output_type": "stream",
     "text": [
      "2\n",
      "3 ABC\n",
      "AAABBBCCC\n",
      "5 /HTP\n",
      "/////HHHHHTTTTTPPPPP\n"
     ]
    }
   ],
   "source": [
    "T = int(input())\n",
    "\n",
    "for t in range(T):\n",
    "    a = list(input().split())\n",
    "    r = int(a[0])\n",
    "    ans = ''\n",
    "\n",
    "    for i in range(len(a[1])):\n",
    "        ans += a[1][i]*r\n",
    "    print(ans)"
   ]
  },
  {
   "cell_type": "code",
   "execution_count": null,
   "metadata": {},
   "outputs": [],
   "source": [
    "# 2935\n",
    "\n"
   ]
  }
 ],
 "metadata": {
  "kernelspec": {
   "display_name": "Python 3",
   "language": "python",
   "name": "python3"
  },
  "language_info": {
   "codemirror_mode": {
    "name": "ipython",
    "version": 3
   },
   "file_extension": ".py",
   "mimetype": "text/x-python",
   "name": "python",
   "nbconvert_exporter": "python",
   "pygments_lexer": "ipython3",
   "version": "3.8.3"
  }
 },
 "nbformat": 4,
 "nbformat_minor": 4
}
