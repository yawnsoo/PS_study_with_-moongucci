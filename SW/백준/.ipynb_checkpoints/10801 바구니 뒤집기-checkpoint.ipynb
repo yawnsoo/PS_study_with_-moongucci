{
 "cells": [
  {
   "cell_type": "code",
   "execution_count": 95,
   "metadata": {},
   "outputs": [
    {
     "name": "stdout",
     "output_type": "stream",
     "text": [
      "5 4\n",
      "1 2\n",
      "3 4\n",
      "1 4\n",
      "2 2\n",
      "3 4 1 2 5\n"
     ]
    }
   ],
   "source": [
    "N, m = map(int, input().split())\n",
    "\n",
    "li = []\n",
    "for i in range(N):\n",
    "    li.append(i+1)    ### li = [1,2,3,4,5] 바구니 생성\n",
    "\n",
    "for a in range(m): ### m번 반복해서 역순\n",
    "    i, j = map(int, input().split()) # i~j 번째\n",
    "    li2 = list(reversed(li[i-1:j])) # i~j번째만큼 슬라이싱해서 역순처리 후 임시리스트에 저장\n",
    "    li[i-1:j] = li2 #역순처리한 임시리스트를 그 자리에 덮어씌우기\n",
    "    \n",
    "li = list(map(str, li))\n",
    "print(' '.join(li))"
   ]
  }
 ],
 "metadata": {
  "kernelspec": {
   "display_name": "Python 3",
   "language": "python",
   "name": "python3"
  },
  "language_info": {
   "codemirror_mode": {
    "name": "ipython",
    "version": 3
   },
   "file_extension": ".py",
   "mimetype": "text/x-python",
   "name": "python",
   "nbconvert_exporter": "python",
   "pygments_lexer": "ipython3",
   "version": "3.8.3"
  }
 },
 "nbformat": 4,
 "nbformat_minor": 4
}
