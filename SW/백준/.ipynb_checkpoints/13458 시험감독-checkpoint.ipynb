{
 "cells": [
  {
   "cell_type": "code",
   "execution_count": 186,
   "metadata": {
    "scrolled": true
   },
   "outputs": [
    {
     "name": "stdout",
     "output_type": "stream",
     "text": [
      "5\n",
      "10 9 10 9 10\n",
      "7 20\n"
     ]
    },
    {
     "ename": "NameError",
     "evalue": "name 'long' is not defined",
     "output_type": "error",
     "traceback": [
      "\u001b[1;31m---------------------------------------------------------------------------\u001b[0m",
      "\u001b[1;31mNameError\u001b[0m                                 Traceback (most recent call last)",
      "\u001b[1;32m<ipython-input-186-23b3187584b2>\u001b[0m in \u001b[0;36m<module>\u001b[1;34m\u001b[0m\n\u001b[0;32m      3\u001b[0m \u001b[0mB\u001b[0m\u001b[1;33m,\u001b[0m \u001b[0mC\u001b[0m \u001b[1;33m=\u001b[0m \u001b[0mmap\u001b[0m\u001b[1;33m(\u001b[0m\u001b[0mint\u001b[0m\u001b[1;33m,\u001b[0m\u001b[0minput\u001b[0m\u001b[1;33m(\u001b[0m\u001b[1;33m)\u001b[0m\u001b[1;33m.\u001b[0m\u001b[0msplit\u001b[0m\u001b[1;33m(\u001b[0m\u001b[1;33m)\u001b[0m\u001b[1;33m)\u001b[0m\u001b[1;33m\u001b[0m\u001b[1;33m\u001b[0m\u001b[0m\n\u001b[0;32m      4\u001b[0m \u001b[0mcnt\u001b[0m \u001b[1;33m=\u001b[0m \u001b[1;36m0\u001b[0m\u001b[1;33m\u001b[0m\u001b[1;33m\u001b[0m\u001b[0m\n\u001b[1;32m----> 5\u001b[1;33m \u001b[0mlong\u001b[0m\u001b[1;33m(\u001b[0m\u001b[0mcnt\u001b[0m\u001b[1;33m)\u001b[0m\u001b[1;33m\u001b[0m\u001b[1;33m\u001b[0m\u001b[0m\n\u001b[0m\u001b[0;32m      6\u001b[0m \u001b[0mnew\u001b[0m \u001b[1;33m=\u001b[0m \u001b[1;33m[\u001b[0m\u001b[1;33m]\u001b[0m\u001b[1;33m\u001b[0m\u001b[1;33m\u001b[0m\u001b[0m\n\u001b[0;32m      7\u001b[0m \u001b[1;33m\u001b[0m\u001b[0m\n",
      "\u001b[1;31mNameError\u001b[0m: name 'long' is not defined"
     ]
    }
   ],
   "source": [
    "N = int(input())\n",
    "A_i = list(map(int,input().split()))\n",
    "B, C = map(int,input().split())\n",
    "\n",
    "cnt = 0\n",
    "new = []\n",
    "\n",
    "for i in range(N): # 총 감독관 먼저 처리.\n",
    "    if (A_i[i] - B <= 0):\n",
    "        A_i[i] -= B\n",
    "        cnt += 1 \n",
    "    else:\n",
    "        A_i[i] -= B\n",
    "        new.append(A_i[i])\n",
    "        cnt += 1\n",
    "\n",
    "for i in new:\n",
    "    if ((i % C) != 0):\n",
    "        cnt += (int(i / C) + 1)\n",
    "    else:\n",
    "        cnt += int(i / C)\n",
    "        \n",
    "print(cnt)"
   ]
  },
  {
   "cell_type": "code",
   "execution_count": 125,
   "metadata": {},
   "outputs": [],
   "source": [
    "cnt = 0\n",
    "\n",
    "if (B > C): #총 감독관이 더 크면\n",
    "    if (A_i[0]-B) > 0: #총 감독관이 다 커버하지 못하면\n",
    "        A_i[0]-= B\n",
    "        cnt += 1\n",
    "        while A_i[0] > 0:\n",
    "            A_i[0] -= C\n",
    "            cnt += 1\n",
    "    else : #커버할 수 있으면\n",
    "        A_i[0] -= B\n",
    "        cnt += 1\n",
    "else : # 부감독관이 더 크거나 같으면\n",
    "    if (A_i[0]-C) > 0: #부 감독관이 다 커버하지 못하면\n",
    "        A_i[0]-= C\n",
    "        cnt += 1\n",
    "        \n",
    "        if (A_i[0] - B > 0):\n",
    "            A_i[0] -= B\n",
    "            cnt += 1\n",
    "            while A_i[0] > 0:\n",
    "                A_i[0] -= C\n",
    "                cnt += 1\n",
    "        else:\n",
    "            A_i[0] -= B\n",
    "            cnt += 1\n",
    "                \n",
    "    else : #커버할 수 있으면\n",
    "        A_i[0] -= C\n",
    "        cnt += 1\n",
    "        for i in range(1,N):\n",
    "            if (A_i[i] <= B): #나머지 중에서 B감독관이 한 시험장 커버 가능한지\n",
    "                A_i[i] -= B\n",
    "                cnt += 1\n",
    "                break\n",
    "            else :\n",
    "                pass #총 감독관이 한 시험장 커버 못하면\n",
    "        A_i[-1] -= B\n",
    "        cnt += 1\n",
    "\n",
    "\n",
    "\n",
    "for i in range(1,N):\n",
    "    while (A_i[i] > 0):\n",
    "        A_i[i] -= C\n",
    "        cnt += 1\n",
    "\n",
    "#문제 이해 잘못"
   ]
  },
  {
   "cell_type": "code",
   "execution_count": 126,
   "metadata": {},
   "outputs": [
    {
     "data": {
      "text/plain": [
       "[-10, -10, -10, -11, -18]"
      ]
     },
     "execution_count": 126,
     "metadata": {},
     "output_type": "execute_result"
    }
   ],
   "source": [
    "A_i"
   ]
  },
  {
   "cell_type": "code",
   "execution_count": 127,
   "metadata": {},
   "outputs": [
    {
     "data": {
      "text/plain": [
       "6"
      ]
     },
     "execution_count": 127,
     "metadata": {},
     "output_type": "execute_result"
    }
   ],
   "source": [
    "cnt"
   ]
  },
  {
   "cell_type": "code",
   "execution_count": null,
   "metadata": {},
   "outputs": [],
   "source": []
  }
 ],
 "metadata": {
  "kernelspec": {
   "display_name": "Python 3",
   "language": "python",
   "name": "python3"
  },
  "language_info": {
   "codemirror_mode": {
    "name": "ipython",
    "version": 3
   },
   "file_extension": ".py",
   "mimetype": "text/x-python",
   "name": "python",
   "nbconvert_exporter": "python",
   "pygments_lexer": "ipython3",
   "version": "3.8.3"
  }
 },
 "nbformat": 4,
 "nbformat_minor": 4
}
