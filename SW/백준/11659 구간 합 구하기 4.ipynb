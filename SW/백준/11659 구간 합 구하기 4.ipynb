{
 "cells": [
  {
   "cell_type": "code",
   "execution_count": 10,
   "metadata": {},
   "outputs": [
    {
     "name": "stdout",
     "output_type": "stream",
     "text": [
      "5 3\n",
      "5 4 3 2 1\n",
      "1 3\n",
      "2 4\n",
      "5 5\n"
     ]
    },
    {
     "data": {
      "text/plain": [
       "[12, 9, 1]"
      ]
     },
     "execution_count": 10,
     "metadata": {},
     "output_type": "execute_result"
    }
   ],
   "source": [
    "n, m = map(int, input().split())\n",
    "\n",
    "num = list(map(int, input().split()))\n",
    "\n",
    "prefix_sum = [0]\n",
    "\n",
    "temp = 0\n",
    "\n",
    "for i in num:\n",
    "    temp += i\n",
    "    prefix_sum.append(temp)\n",
    "    \n",
    "ans = []\n",
    "\n",
    "for _ in range(m):\n",
    "    i,j = map(int, input().split())\n",
    "    ans.append(prefix_sum[j]-prefix_sum[i-1])\n",
    "\n",
    "for x in ans:\n",
    "    print(x)"
   ]
  },
  {
   "cell_type": "code",
   "execution_count": null,
   "metadata": {},
   "outputs": [],
   "source": []
  }
 ],
 "metadata": {
  "kernelspec": {
   "display_name": "Python 3",
   "language": "python",
   "name": "python3"
  },
  "language_info": {
   "codemirror_mode": {
    "name": "ipython",
    "version": 3
   },
   "file_extension": ".py",
   "mimetype": "text/x-python",
   "name": "python",
   "nbconvert_exporter": "python",
   "pygments_lexer": "ipython3",
   "version": "3.8.3"
  }
 },
 "nbformat": 4,
 "nbformat_minor": 4
}
