{
 "cells": [
  {
   "cell_type": "code",
   "execution_count": 6,
   "metadata": {},
   "outputs": [
    {
     "name": "stdout",
     "output_type": "stream",
     "text": [
      "7\n",
      "3 10\n",
      "5 20\n",
      "1 10\n",
      "1 20\n",
      "2 15\n",
      "4 40\n",
      "2 200\n"
     ]
    }
   ],
   "source": [
    "# Ti = 각각의 상담은 상담을 완료하는데 걸리는 기간 \n",
    "# Pi = 상담을 했을 때 받을 수 있는 금액\n",
    "\n",
    "# T1 = 3 / 상담에 3일 걸림\n",
    "# P1 = 10 /받을 수 있는 금액 10\n",
    "\n",
    "N = int(input())\n",
    "tl, pl = [],[]\n",
    "\n",
    "schedule = [0 for _ in range(N)]\n",
    "\n",
    "for i in range(N):\n",
    "    t, p = list(map(int,input().split()))\n",
    "    tl.append(t)\n",
    "    pl.append(p)"
   ]
  },
  {
   "cell_type": "code",
   "execution_count": 7,
   "metadata": {},
   "outputs": [
    {
     "data": {
      "text/plain": [
       "[0, 0, 0, 0, 0, 0, 0]"
      ]
     },
     "execution_count": 7,
     "metadata": {},
     "output_type": "execute_result"
    }
   ],
   "source": [
    "schedule"
   ]
  },
  {
   "cell_type": "code",
   "execution_count": null,
   "metadata": {},
   "outputs": [],
   "source": []
  },
  {
   "cell_type": "code",
   "execution_count": 110,
   "metadata": {
    "scrolled": true
   },
   "outputs": [
    {
     "name": "stdout",
     "output_type": "stream",
     "text": [
      "10\n",
      "5 50\n",
      "4 40\n",
      "3 30\n",
      "2 20\n",
      "1 10\n",
      "1 10\n",
      "2 20\n",
      "3 30\n",
      "4 40\n",
      "5 50\n",
      "[1, 1, 1, 1, 1, 1, 0, 1, 1, 1]\n",
      "90\n"
     ]
    }
   ],
   "source": [
    "#이익 순서로 할당\n",
    "N = int(input())\n",
    "\n",
    "li = []\n",
    "\n",
    "schedule = [0 for _ in range(N)]\n",
    "\n",
    "for i in range(N):\n",
    "    a = tuple(map(int,input().split()))\n",
    "    li.append(a)\n",
    "\n",
    "li2 = []\n",
    "for idx, i in enumerate(li):\n",
    "    li2.append((idx,i))\n",
    "\n",
    "answer = 0\n",
    "\n",
    "\n",
    "li2 = sorted(li2, key = lambda x : x[1][0])\n",
    "\n",
    "li2 = sorted(li2, key = lambda x : x[1][1], reverse=True) #이익 최대인 것부터 순서대로 일정 확인\n",
    "\n",
    "\n",
    "for item in li2:\n",
    "    if ((N-item[0]) < item[1][0]): #잔여 일수보다 상담기간이 길면\n",
    "        pass\n",
    "    else: # 잔여 일수보다 작으면 상담 잡기\n",
    "        if (max(schedule[item[0] :item[0] + item[1][0]]) == 0):\n",
    "            for i in range(item[0], item[0] + item[1][0]):\n",
    "                schedule[i] = 1\n",
    "            answer += item[1][1]\n",
    "        else :\n",
    "            pass\n",
    "\n",
    "print(answer)"
   ]
  },
  {
   "cell_type": "code",
   "execution_count": null,
   "metadata": {},
   "outputs": [],
   "source": [
    "# DFS 이용해서 풀어보기\n",
    "\n"
   ]
  }
 ],
 "metadata": {
  "kernelspec": {
   "display_name": "Python 3",
   "language": "python",
   "name": "python3"
  },
  "language_info": {
   "codemirror_mode": {
    "name": "ipython",
    "version": 3
   },
   "file_extension": ".py",
   "mimetype": "text/x-python",
   "name": "python",
   "nbconvert_exporter": "python",
   "pygments_lexer": "ipython3",
   "version": "3.8.3"
  }
 },
 "nbformat": 4,
 "nbformat_minor": 4
}
