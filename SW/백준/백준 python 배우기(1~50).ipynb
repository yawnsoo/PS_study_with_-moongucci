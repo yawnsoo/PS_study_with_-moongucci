{
 "cells": [
  {
   "cell_type": "code",
   "execution_count": 16,
   "metadata": {},
   "outputs": [
    {
     "name": "stdout",
     "output_type": "stream",
     "text": [
      "2 5 6373 35 252 633  32 2256 1\n",
      "[2, 5, 6373, 35, 252, 633, 32, 2256, 1]\n"
     ]
    }
   ],
   "source": [
    "#1000\n",
    "\n",
    "a,b = map(int, input().split())\n",
    "print(a+b)"
   ]
  },
  {
   "cell_type": "code",
   "execution_count": 17,
   "metadata": {},
   "outputs": [
    {
     "name": "stdout",
     "output_type": "stream",
     "text": [
      "2 4\n",
      "8\n"
     ]
    }
   ],
   "source": [
    "#10998\n",
    "\n",
    "a, b = map(int, input().split())\n",
    "print(a*b)"
   ]
  },
  {
   "cell_type": "code",
   "execution_count": null,
   "metadata": {},
   "outputs": [],
   "source": [
    "#1001\n",
    "\n",
    "a, b = map(int, input().split())\n",
    "print(a-b)"
   ]
  },
  {
   "cell_type": "code",
   "execution_count": 19,
   "metadata": {},
   "outputs": [
    {
     "name": "stdout",
     "output_type": "stream",
     "text": [
      "4 5\n",
      "0.8\n"
     ]
    }
   ],
   "source": [
    "#1008\n",
    "\n",
    "a, b = map(float, input().split())\n",
    "print(a/b)"
   ]
  },
  {
   "cell_type": "code",
   "execution_count": 26,
   "metadata": {},
   "outputs": [
    {
     "name": "stdout",
     "output_type": "stream",
     "text": [
      "13 7\n",
      "20\n",
      "6\n",
      "91\n",
      "1\n",
      "6\n"
     ]
    }
   ],
   "source": [
    "#10869\n",
    "\n",
    "a, b = map(int, input().split())\n",
    "print(a+b)\n",
    "print(a-b)\n",
    "print(a*b)\n",
    "print(int(a/b))\n",
    "print(a%b)"
   ]
  },
  {
   "cell_type": "code",
   "execution_count": 27,
   "metadata": {},
   "outputs": [
    {
     "name": "stdout",
     "output_type": "stream",
     "text": [
      "5 8 4\n",
      "1\n",
      "1\n",
      "0\n",
      "0\n"
     ]
    }
   ],
   "source": [
    "#10430\n",
    "\n",
    "A, B, C = map(int, input().split())\n",
    "print((A+B)%C)\n",
    "print(((A%C) + (B%C))%C)\n",
    "print((A*B)%C)\n",
    "print(((A%C) * (B%C))%C)"
   ]
  },
  {
   "cell_type": "code",
   "execution_count": 32,
   "metadata": {},
   "outputs": [
    {
     "name": "stdout",
     "output_type": "stream",
     "text": [
      "2\n",
      "4\n",
      "6\n"
     ]
    }
   ],
   "source": [
    "#2558\n",
    "\n",
    "a = int(input())\n",
    "b = int(input())\n",
    "print(a+b)"
   ]
  },
  {
   "cell_type": "code",
   "execution_count": 36,
   "metadata": {
    "scrolled": true
   },
   "outputs": [
    {
     "name": "stdout",
     "output_type": "stream",
     "text": [
      "472\n",
      "385\n",
      "2360\n",
      "3776\n",
      "1416\n",
      "181720\n"
     ]
    }
   ],
   "source": [
    "#2588\n",
    "\n",
    "a = int(input())\n",
    "b = int(input())\n",
    "b1 = b%10\n",
    "b10 = (int(b/10))%10\n",
    "b100 = int(b/100)\n",
    "\n",
    "print(a*b1)\n",
    "print(a*b10)\n",
    "print(a*b100)\n",
    "print(a*b)"
   ]
  },
  {
   "cell_type": "code",
   "execution_count": 41,
   "metadata": {},
   "outputs": [
    {
     "name": "stdout",
     "output_type": "stream",
     "text": [
      "4 3\n",
      "2\n"
     ]
    }
   ],
   "source": [
    "#3046 r2\n",
    "\n",
    "r1, s = map(int, input().split())\n",
    "\n",
    "r2 = s*2 - r1\n",
    "print(r2)"
   ]
  },
  {
   "cell_type": "code",
   "execution_count": 45,
   "metadata": {},
   "outputs": [
    {
     "name": "stdout",
     "output_type": "stream",
     "text": [
      "2 2\n",
      "3\n"
     ]
    }
   ],
   "source": [
    "#2163 초콜릿자르기\n",
    "\n",
    "n, m = map(int, input().split())\n",
    "\n",
    "print(n*m-1)"
   ]
  },
  {
   "cell_type": "code",
   "execution_count": 64,
   "metadata": {},
   "outputs": [
    {
     "name": "stdout",
     "output_type": "stream",
     "text": [
      "5\n",
      "1 1\n",
      "2 3\n",
      " 3 4\n",
      "9 8\n",
      "5 2\n",
      "Case #1: 2\n",
      "Case #2: 5\n",
      "Case #3: 7\n",
      "Case #4: 17\n",
      "Case #5: 7\n"
     ]
    }
   ],
   "source": [
    "#11021\n",
    "\n",
    "t = int(input())\n",
    "tc = []\n",
    "for i in range(t):\n",
    "    tc.append(sum(map(int,input().split())))\n",
    "    \n",
    "for i in range(t):\n",
    "    print(f\"Case #{i+1}: \" + str(tc[i]))"
   ]
  },
  {
   "cell_type": "code",
   "execution_count": 82,
   "metadata": {},
   "outputs": [
    {
     "name": "stdout",
     "output_type": "stream",
     "text": [
      "3\n",
      "1 3\n",
      "2 4\n",
      "5 6\n",
      "Case #1: 1 + 3 = 4\n",
      "Case #2: 2 + 4 = 6\n",
      "Case #3: 5 + 6 = 11\n"
     ]
    }
   ],
   "source": [
    "#11022\n",
    "\n",
    "\n",
    "t =int(input())\n",
    "for i in range(t):\n",
    "    globals()[f\"a{i+1}\"], globals()[f\"b{i+1}\"] = map(int, input().split())\n",
    "    \n",
    "    \n",
    "for i in range(t):\n",
    "    a = globals()[f\"a{i+1}\"]\n",
    "    b = globals()[f\"b{i+1}\"]\n",
    "    print(f\"Case #{i+1}: \" + str(a) + \" + \" + str(b) + \" = \" + str(a+b))"
   ]
  },
  {
   "cell_type": "code",
   "execution_count": 79,
   "metadata": {},
   "outputs": [
    {
     "name": "stdout",
     "output_type": "stream",
     "text": [
      "14억\n",
      "13억\n",
      "9억\n",
      "7억\n",
      "6억\n"
     ]
    }
   ],
   "source": [
    "#동적 변수 할당과 호출\n",
    "\n",
    "regionPrice = ['14억', '13억', '9억', '7억', '6억']\n",
    "for i in range(0, len(regionPrice)):\n",
    "    locals()['df{}'.format(i)] = regionPrice[i]\n",
    "    \n",
    "for i in range(0, len(regionPrice)):\n",
    "    df = locals()['df{}'.format(i)]\n",
    "    print(df)"
   ]
  },
  {
   "cell_type": "code",
   "execution_count": 90,
   "metadata": {},
   "outputs": [
    {
     "name": "stdout",
     "output_type": "stream",
     "text": [
      "2023-04-10\n"
     ]
    }
   ],
   "source": [
    "#10699\n",
    "\n",
    "import datetime\n",
    "s_day = datetime.datetime.now()\n",
    "print(s_day.strftime('%Y-%m-%d'))"
   ]
  },
  {
   "cell_type": "code",
   "execution_count": null,
   "metadata": {},
   "outputs": [],
   "source": [
    "#7287\n",
    "\n"
   ]
  },
  {
   "cell_type": "code",
   "execution_count": 108,
   "metadata": {},
   "outputs": [
    {
     "name": "stdout",
     "output_type": "stream",
     "text": [
      "17 40\n",
      "80\n",
      "19 0\n"
     ]
    }
   ],
   "source": [
    "#2525\n",
    "a, b = map(int, input().split())\n",
    "c = int(input())\n",
    "new_b = b+c\n",
    "if ((new_b)>=60):\n",
    "    a += int(new_b/60)\n",
    "    new_b %= 60\n",
    "\n",
    "while(a>=24):\n",
    "    a %= 24\n",
    "    \n",
    "    \n",
    "print(a, new_b)\n",
    "\n",
    "#시계 그대로 풀기"
   ]
  },
  {
   "cell_type": "code",
   "execution_count": 118,
   "metadata": {},
   "outputs": [
    {
     "name": "stdout",
     "output_type": "stream",
     "text": [
      "23 48 59\n",
      "2515\n",
      "0 30 54\n"
     ]
    }
   ],
   "source": [
    "#2530\n",
    "\n",
    "h, m, s = map(int, input().split())\n",
    "add =int(input())\n",
    "\n",
    "alltime = 60*60*h + 60*m + s\n",
    "alltime += add\n",
    "\n",
    "newh = int(alltime / (60 * 60))\n",
    "alltime %= 60*60\n",
    "newm = int(alltime / 60)\n",
    "alltime %= 60\n",
    "news = alltime\n",
    "while (newh >= 24):\n",
    "    newh %= 24\n",
    "print (str(newh) +\" \"+str(newm) + \" \" +str(news))\n",
    "\n",
    "\n",
    "#시간 총량으로 풀기"
   ]
  },
  {
   "cell_type": "code",
   "execution_count": 133,
   "metadata": {},
   "outputs": [
    {
     "name": "stdout",
     "output_type": "stream",
     "text": [
      "38 24\n",
      "875\n"
     ]
    }
   ],
   "source": [
    "#2914\n",
    "import math\n",
    "\n",
    "a, i = map(int, input().split())\n",
    "\n",
    "print(a*(i-1)+1)\n",
    "\n",
    "#평균값이 달라지는 임계지점 확인\n"
   ]
  },
  {
   "cell_type": "code",
   "execution_count": 192,
   "metadata": {},
   "outputs": [
    {
     "name": "stdout",
     "output_type": "stream",
     "text": [
      "3\n",
      "3 @ %\n",
      "10.4 # % @\n",
      "8 #\n",
      "14.00\n",
      "25.20\n",
      "1.00\n"
     ]
    }
   ],
   "source": [
    "#5355\n",
    "def operate(a, x):\n",
    "    if (x == '@'):\n",
    "        a *= 3\n",
    "        return a\n",
    "    elif (x == '%'):\n",
    "        a += 5\n",
    "        return a\n",
    "    elif (x == '#'):\n",
    "        a-= 7\n",
    "        return a\n",
    "\n",
    "t = int(input())\n",
    "\n",
    "for i in range(t):\n",
    "    globals()['num_{}'.format(i+1)] = list(map(str, input().split()))\n",
    "    \n",
    "\n",
    "for i in range(t):\n",
    "    for j in range(1, len(globals()['num_{}'.format(i+1)])):\n",
    "        globals()['num_{}'.format(i+1)][0] = operate(float(globals()['num_{}'.format(i+1)][0]),globals()['num_{}'.format(i+1)][j])\n",
    "    print( \"{:.2f}\".format(globals()['num_{}'.format(i+1)][0]) )"
   ]
  },
  {
   "cell_type": "code",
   "execution_count": 194,
   "metadata": {},
   "outputs": [
    {
     "name": "stdout",
     "output_type": "stream",
     "text": [
      "3\n",
      "3 @ %\n",
      "14.00\n",
      "10.4 # % @\n",
      "25.20\n",
      "8 #\n",
      "1.00\n"
     ]
    }
   ],
   "source": [
    "#5355\n",
    "\n",
    "t = int(input())\n",
    "\n",
    "for i in range(t):\n",
    "    math = list(input().split())\n",
    "    num = float(math[0])\n",
    "    for x in math[1:]:\n",
    "        if (x =='@'):\n",
    "            num *= 3 \n",
    "        elif (x =='%'):\n",
    "            num += 5\n",
    "        elif (x =='#'):\n",
    "            num -= 7\n",
    "    print('%0.2f' %num)"
   ]
  },
  {
   "cell_type": "code",
   "execution_count": 230,
   "metadata": {},
   "outputs": [
    {
     "name": "stdout",
     "output_type": "stream",
     "text": [
      "2\n",
      "3 ABC\n",
      "AAABBBCCC\n",
      "5 /HTP\n",
      "/////HHHHHTTTTTPPPPP\n"
     ]
    }
   ],
   "source": [
    "#2675\n",
    "T = int(input())\n",
    "\n",
    "for t in range(T):\n",
    "    a = list(input().split())\n",
    "    r = int(a[0])\n",
    "    ans = ''\n",
    "\n",
    "    for i in range(len(a[1])):\n",
    "        ans += a[1][i]*r\n",
    "    print(ans)"
   ]
  },
  {
   "cell_type": "code",
   "execution_count": 240,
   "metadata": {},
   "outputs": [
    {
     "name": "stdout",
     "output_type": "stream",
     "text": [
      "1000\n",
      "*\n",
      "100\n",
      "100000\n"
     ]
    }
   ],
   "source": [
    "# 2935\n",
    "problem = []\n",
    "for i in range(3):\n",
    "    problem.append(input())\n",
    "    \n",
    "if (problem[1] == '*'):\n",
    "    print(int(problem[0]) * int(problem[2]))\n",
    "elif (problem[1] == '+'):\n",
    "    print(int(problem[0]) + int(problem[2]))\n",
    "    "
   ]
  },
  {
   "cell_type": "code",
   "execution_count": 243,
   "metadata": {},
   "outputs": [
    {
     "name": "stdout",
     "output_type": "stream",
     "text": [
      "100\n",
      "A\n"
     ]
    }
   ],
   "source": [
    "#9498\n",
    "\n",
    "score = int(input())\n",
    "\n",
    "if (90 <= score <= 100):\n",
    "    print('A')\n",
    "elif (80 <= score < 90):\n",
    "    print('B')\n",
    "elif ( 70 <= score < 80):\n",
    "    print('C')\n",
    "elif ( 60 <= score < 70):\n",
    "    print('D')\n",
    "else:\n",
    "    print('F')"
   ]
  },
  {
   "cell_type": "code",
   "execution_count": 269,
   "metadata": {},
   "outputs": [
    {
     "name": "stdout",
     "output_type": "stream",
     "text": [
      "40 40 20\n",
      "40\n"
     ]
    }
   ],
   "source": [
    "#10817\n",
    "#int로 바로 리스트에 저장하는 방법?\n",
    "\n",
    "num = list(input().split())\n",
    "num2 = []\n",
    "for i in num:\n",
    "    num2.append(int(i))\n",
    "\n",
    "num2 = sorted(num2)\n",
    "\n",
    "print(num2[1])"
   ]
  },
  {
   "cell_type": "code",
   "execution_count": 315,
   "metadata": {},
   "outputs": [
    {
     "name": "stdout",
     "output_type": "stream",
     "text": [
      "6\n",
      "2\n",
      "3\n"
     ]
    }
   ],
   "source": [
    "#11653\n",
    "N = int(input())\n",
    "num = []\n",
    "\n",
    "while (N > 1):\n",
    "    for i in range(2,half+1):\n",
    "        if (N % i == 0):\n",
    "            N /= i\n",
    "            N = int(N)\n",
    "            num.append(i)\n",
    "            break\n",
    "\n",
    "for item in num:\n",
    "    print(item)"
   ]
  },
  {
   "cell_type": "code",
   "execution_count": 319,
   "metadata": {},
   "outputs": [
    {
     "name": "stdout",
     "output_type": "stream",
     "text": [
      "2\n",
      "2\n"
     ]
    }
   ],
   "source": [
    "#11653 모범답안 by reve_yj\n",
    "n=int(input()) \n",
    "for i in range(2,int(n**(0.5))+2):\n",
    "    while (n%i==0):print(i);n//=i\n",
    "if n!=1:print(n)"
   ]
  },
  {
   "cell_type": "code",
   "execution_count": 433,
   "metadata": {},
   "outputs": [
    {
     "name": "stdout",
     "output_type": "stream",
     "text": [
      "6\n",
      "3\n"
     ]
    }
   ],
   "source": [
    "#1789\n",
    "\n",
    "S = int(input())\n",
    "a = []\n",
    "\n",
    "for i in range(1, S+1):\n",
    "    if (S > i):\n",
    "        a.append(i)\n",
    "        S -= i\n",
    "    elif (S == i):\n",
    "        a.append(i)\n",
    "        print(len(a))\n",
    "        break\n",
    "    else :\n",
    "        a.append(S)\n",
    "        print(len(a)-1)\n",
    "        break\n"
   ]
  },
  {
   "cell_type": "code",
   "execution_count": 440,
   "metadata": {},
   "outputs": [
    {
     "name": "stdout",
     "output_type": "stream",
     "text": [
      "2000\n",
      "1\n"
     ]
    }
   ],
   "source": [
    "# (50%/100%)\n",
    "\n",
    "#2753\n",
    "\n",
    "year = int(input())\n",
    "\n",
    "if ( (year % 4 == 0 and year % 100 != 0) or year % 400 == 0):\n",
    "    print(1)\n",
    "else:\n",
    "    print(0)\n"
   ]
  },
  {
   "cell_type": "code",
   "execution_count": null,
   "metadata": {},
   "outputs": [],
   "source": [
    "# 10039\n",
    "\n",
    "sum = 0\n",
    "for i in range(5):\n",
    "    a = int(input())\n",
    "    if (a >= 40 ):\n",
    "        sum += a\n",
    "    else:\n",
    "        sum += 40\n",
    "\n",
    "ans = int(sum / 5)\n",
    "print(ans)"
   ]
  },
  {
   "cell_type": "code",
   "execution_count": 15,
   "metadata": {},
   "outputs": [
    {
     "name": "stdout",
     "output_type": "stream",
     "text": [
      "3\n",
      "1 45000\n",
      "6 10\n",
      "13 17\n",
      "45000\n",
      "30\n",
      "221\n"
     ]
    }
   ],
   "source": [
    "#1934\n",
    "\n",
    "#서로소가 나올 때 까지 공약수로 나누기\n",
    "\n",
    "#공약수와 서로소를 모두 곱하기\n",
    "n = int(input())\n",
    "ans = []\n",
    "\n",
    "for i in range(n):\n",
    "    a,b = map(int, input().split())\n",
    "    count2 = 1\n",
    "    count3 = 1\n",
    "    while (a > 1 and b > 1):\n",
    "        \n",
    "        if (a % 2 == 0 and b % 2 ==0): ## 소인수분해? 공통된 약수 어떻게 제거할 것인지..? 소수 개많은데\n",
    "            a/= 2\n",
    "            b/= 2\n",
    "            count2 *= 2\n",
    "        elif (a % 3 == 0 and b % 3 == 0):\n",
    "            a/= 3\n",
    "            b/= 3\n",
    "            count3 *= 3\n",
    "        else:\n",
    "            break\n",
    "    ans.append(int(a*b*count2*count3))\n",
    "    \n",
    "for x in ans:\n",
    "    print(x)"
   ]
  },
  {
   "cell_type": "code",
   "execution_count": 31,
   "metadata": {},
   "outputs": [
    {
     "name": "stdout",
     "output_type": "stream",
     "text": [
      "3\n",
      "1 45000\n",
      "6 10\n",
      "13 17\n"
     ]
    }
   ],
   "source": [
    "n = int(input())\n",
    "ans = []\n",
    "\n",
    "for i in range(n):\n",
    "    a,b = map(int, input().split())\n",
    "    a_list = [a*i for i in range(1,b+1)]\n",
    "    b_list = [b*i for i in range(1,a+1)]\n",
    "    intersec = list(set(a_list) & set(b_list))\n",
    "    ans.append(min(intersec))\n",
    "for x in ans:\n",
    "    print(x)"
   ]
  },
  {
   "cell_type": "code",
   "execution_count": 65,
   "metadata": {},
   "outputs": [
    {
     "name": "stdout",
     "output_type": "stream",
     "text": [
      "3\n",
      "1 45000\n",
      "6 10\n",
      "13 17\n",
      "45000\n",
      "30\n",
      "221\n"
     ]
    }
   ],
   "source": [
    "#유클리드 호제법을 통하여 최대공약수를 찾는다.\n",
    "#호출하여 a * b * gcd\n",
    "\n",
    "# def gcd(a,b):\n",
    "#     if (b == 0):\n",
    "#         return a\n",
    "#     else:\n",
    "#         gcd(b, a%b)  왜 안되는지?\n",
    "\n",
    "\n",
    "def gcd(a, b):\n",
    "    while b > 0:\n",
    "        a, b = b, a % b\n",
    "    return a\n",
    "\n",
    "n = int(input())\n",
    "ans = []\n",
    "\n",
    "for i in range(n):\n",
    "    a,b = map(int, input().split())\n",
    "    ans.append(int(a*b/gcd(a,b)))\n",
    "    \n",
    "for x in ans:\n",
    "    print(x)"
   ]
  },
  {
   "cell_type": "code",
   "execution_count": 76,
   "metadata": {},
   "outputs": [
    {
     "name": "stdout",
     "output_type": "stream",
     "text": [
      "3 3 6\n",
      "1300\n"
     ]
    }
   ],
   "source": [
    "#2480\n",
    "\n",
    "a,b,c = map(int,input().split())\n",
    "ans = 0\n",
    "if (a == b and b == c):\n",
    "    ans = 10000 + 1000*a\n",
    "elif (a == b and b!= c):\n",
    "    ans = 1000 + 100*a\n",
    "elif ( a!= b and b==c):\n",
    "    ans = 1000 + 100*b\n",
    "elif (a==c and a!=b):\n",
    "    ans = 1000 + 100*c\n",
    "else:\n",
    "    ans = max(a,b,c)*100\n",
    "print(ans)"
   ]
  },
  {
   "cell_type": "code",
   "execution_count": 99,
   "metadata": {},
   "outputs": [
    {
     "name": "stdout",
     "output_type": "stream",
     "text": [
      "1 19\n",
      "No\n",
      "4 4\n",
      "No\n",
      "23 14\n",
      "Yes\n",
      "0 0\n"
     ]
    }
   ],
   "source": [
    "#4101\n",
    "def compare(a,b):\n",
    "    if (a > b):\n",
    "        print(\"Yes\")\n",
    "    else:\n",
    "        print(\"No\")\n",
    "\n",
    "a,b = map(int, input().split()) ### 얘까지 루프에 넣을 수 있을까\n",
    "\n",
    "while (a>0 or b>0):\n",
    "    compare(a,b)\n",
    "    a,b = map(int, input().split())\n",
    "\n"
   ]
  },
  {
   "cell_type": "code",
   "execution_count": 103,
   "metadata": {},
   "outputs": [
    {
     "name": "stdout",
     "output_type": "stream",
     "text": [
      "20 10 320\n",
      "0\n"
     ]
    }
   ],
   "source": [
    "#10156\n",
    "\n",
    "K = 50 #과자 한 개 가격\n",
    "N = 3 #과자의 개수\n",
    "M = 100 #현재 가진 돈의 액수\n",
    "\n",
    "#ans 모자란 돈\n",
    "\n",
    "K, N, M = map(int, input().split())\n",
    "ans = K*N-M\n",
    "if (ans <= 0):\n",
    "    ans = 0\n",
    "\n",
    "print(ans)"
   ]
  },
  {
   "cell_type": "code",
   "execution_count": 171,
   "metadata": {
    "scrolled": true
   },
   "outputs": [
    {
     "name": "stdout",
     "output_type": "stream",
     "text": [
      "30 20\n",
      "10 10\n",
      "10 20\n",
      "10 10\n"
     ]
    }
   ],
   "source": [
    "#3009\n",
    "x_gap = 0\n",
    "y_gap = 0\n",
    "x1,y1 = map(int, input().split())\n",
    "\n",
    "x2,y2 = map(int, input().split())\n",
    "if (x1 == x2 and y1!=y2):\n",
    "    y_gap = abs(y1-y2)\n",
    "elif (x1!= x2, y1== y2):\n",
    "    x_gap = abs(x1-x2)\n",
    "else:\n",
    "    x_gap = abs(x1-x2)\n",
    "    y_gap = abs(y1-y2)\n",
    "    \n",
    "x3,y3 = map(int, input().split())\n",
    "\n",
    "if (x_gap==0 and y_gap != 0):\n",
    "    x_gap = abs(x1-x3)\n",
    "elif (x_gap !=0 and y_gap ==0):\n",
    "    y_gap = abs(y1-y3)\n",
    "else:\n",
    "    pass\n",
    "\n",
    "x4 = 0\n",
    "y4 = 0\n",
    "\n",
    "if (x1 == x2 and y1 < y2):\n",
    "        if (x3 < x2 and y3 == y2):\n",
    "            x4 = x3\n",
    "            y4 = y3-y_gap\n",
    "            \n",
    "        elif ( x3 < x2 and y3 == y1):\n",
    "            x4 = x1\n",
    "            y4 = y2\n",
    "            \n",
    "        elif (x3 > x2 and y3 == y2):\n",
    "            x4 = x1+x_gap\n",
    "            y4 = y1\n",
    "\n",
    "        else:\n",
    "            x4 = x1+x_gap\n",
    "            y4 = y2\n",
    "            \n",
    "else:\n",
    "    if ( x3 < x1 and y3 == y1):\n",
    "        x4 = x3\n",
    "        y4 = y2\n",
    "    elif ( x3 < x1 and y3 == y2):\n",
    "        x4 = x1\n",
    "        y4 = y1-y_gap\n",
    "    elif (x3 > x1 and y3 == y1):\n",
    "        x4 = x1+x_gap\n",
    "        y4 = y2\n",
    "    else:\n",
    "        x4 = x1+x_gap\n",
    "        y4 = y1\n",
    "    \n",
    "    \n",
    "\n",
    "# point = [(x1,y1), (x2,y2), (x3,y3)]\n",
    "# point.sort()\n",
    "\n",
    "# new_point = []\n",
    "# new = [i+j for i,j in zip(point[0],[x_gap,y_gap])]\n",
    "# new_point.append(tuple(new))\n",
    "# new = [i+j for i,j in zip(point[0],[x_gap,0])]\n",
    "# new_point.append(tuple(new))\n",
    "# new = [i+j for i,j in zip(point[0],[0,y_gap])]\n",
    "# new_point.append(tuple(new))\n",
    "\n",
    "# np = set(new_point)\n",
    "# p = set(point)\n",
    "\n",
    "# ans = list(np-p)\n",
    "# ans = list(ans[0])\n",
    "# print(ans[0], ans[1])\n",
    "print(x4, y4)"
   ]
  },
  {
   "cell_type": "code",
   "execution_count": null,
   "metadata": {},
   "outputs": [],
   "source": []
  }
 ],
 "metadata": {
  "kernelspec": {
   "display_name": "Python 3",
   "language": "python",
   "name": "python3"
  },
  "language_info": {
   "codemirror_mode": {
    "name": "ipython",
    "version": 3
   },
   "file_extension": ".py",
   "mimetype": "text/x-python",
   "name": "python",
   "nbconvert_exporter": "python",
   "pygments_lexer": "ipython3",
   "version": "3.8.3"
  }
 },
 "nbformat": 4,
 "nbformat_minor": 4
}
