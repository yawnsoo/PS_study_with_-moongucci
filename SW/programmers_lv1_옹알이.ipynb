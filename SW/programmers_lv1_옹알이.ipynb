{
 "cells": [
  {
   "cell_type": "code",
   "execution_count": 36,
   "metadata": {},
   "outputs": [],
   "source": [
    "babbling = [\"ayaye\", \"uuu\", \"yeye\", \"yemawoo\", \"ayaayaa\"]"
   ]
  },
  {
   "cell_type": "code",
   "execution_count": 43,
   "metadata": {},
   "outputs": [],
   "source": [
    "say = ['aya', 'ye', 'woo', 'ma']\n",
    "\n",
    "answer =0\n",
    "\n",
    "# babbling을 탐색하며 발음 가능한 지 불가능한지 체크\n",
    "#이때 발음 되는 것을 마킹하기 위해서 인덱스로 탐색\n",
    "\n",
    "for i in range(len(babbling)):\n",
    "    for s in say:\n",
    "        if s in babbling[i] and s*2 not in babbling[i]:\n",
    "            babbling[i] = babbling[i].replace(s, '*')\n",
    "            \n",
    "# any, all 쓸 때 all(안에는 iterable . x for x in ___으로 탐색)            \n",
    "    if all(x == '*' for x in babbling[i]):\n",
    "        answer += 1"
   ]
  },
  {
   "cell_type": "code",
   "execution_count": null,
   "metadata": {},
   "outputs": [],
   "source": []
  },
  {
   "cell_type": "code",
   "execution_count": null,
   "metadata": {},
   "outputs": [],
   "source": []
  }
 ],
 "metadata": {
  "kernelspec": {
   "display_name": "Python 3",
   "language": "python",
   "name": "python3"
  },
  "language_info": {
   "codemirror_mode": {
    "name": "ipython",
    "version": 3
   },
   "file_extension": ".py",
   "mimetype": "text/x-python",
   "name": "python",
   "nbconvert_exporter": "python",
   "pygments_lexer": "ipython3",
   "version": "3.8.3"
  }
 },
 "nbformat": 4,
 "nbformat_minor": 4
}
