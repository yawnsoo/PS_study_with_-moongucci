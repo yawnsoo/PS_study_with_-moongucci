{
 "cells": [
  {
   "cell_type": "code",
   "execution_count": 142,
   "metadata": {},
   "outputs": [],
   "source": [
    "brown = 24\n",
    "yellow = 24"
   ]
  },
  {
   "cell_type": "code",
   "execution_count": 152,
   "metadata": {},
   "outputs": [],
   "source": [
    "width = 0\n",
    "height = 0\n",
    "ans = []\n",
    "\n",
    "def rec(n):\n",
    "    if (n % 2 == 0):\n",
    "        n /= 2\n",
    "        if (n == 1):\n",
    "            return False\n",
    "        else:\n",
    "            pass\n",
    "        recur(n)\n",
    "    else:\n",
    "        return True\n",
    "\n",
    "        #직사각형 판단"
   ]
  },
  {
   "cell_type": "code",
   "execution_count": 153,
   "metadata": {},
   "outputs": [
    {
     "name": "stdout",
     "output_type": "stream",
     "text": [
      "True\n"
     ]
    }
   ],
   "source": [
    "if (yellow % 2 != 0): #yellow가 홀수면\n",
    "    width = yellow + 2\n",
    "    height = 3\n",
    "    if ((width * height) == (brown+yellow)):\n",
    "        ans.append(width)\n",
    "        ans.append(height)\n",
    "elif (rec(yellow)): #가로로 긴 직사각형\n",
    "    width = int(yellow/2) + 2\n",
    "    height = int(yellow / (yellow /2)) +2\n",
    "    if (width * height == brown+yellow):\n",
    "        ans.append(width)\n",
    "        ans.append(height)\n",
    "else : #정사각형\n",
    "    width = yellow\n",
    "    height = yellow\n",
    "    if (width * height == brown+yellow):\n",
    "        ans.append(width)\n",
    "        ans.append(height)\n",
    "        "
   ]
  },
  {
   "cell_type": "code",
   "execution_count": 154,
   "metadata": {},
   "outputs": [
    {
     "data": {
      "text/plain": [
       "[]"
      ]
     },
     "execution_count": 154,
     "metadata": {},
     "output_type": "execute_result"
    }
   ],
   "source": [
    "ans"
   ]
  },
  {
   "cell_type": "code",
   "execution_count": 155,
   "metadata": {},
   "outputs": [],
   "source": [
    "brown = 24\n",
    "yellow = 24"
   ]
  },
  {
   "cell_type": "code",
   "execution_count": 157,
   "metadata": {},
   "outputs": [
    {
     "name": "stdout",
     "output_type": "stream",
     "text": [
      "True\n"
     ]
    }
   ],
   "source": [
    "rec(yellow)"
   ]
  },
  {
   "cell_type": "code",
   "execution_count": null,
   "metadata": {},
   "outputs": [],
   "source": []
  },
  {
   "cell_type": "code",
   "execution_count": 169,
   "metadata": {},
   "outputs": [],
   "source": [
    "def issquare(n):\n",
    "    return int(n**0.5) ** 2 == n\n",
    "\n",
    "brown = 10\n",
    "yellow = 2\n",
    "\n",
    "ans = []\n",
    "\n",
    "if (yellow % 2 != 0): #yellow가 홀수면\n",
    "    if (issquare(yellow)): #제곱수이면\n",
    "        width = int(yellow**(0.5))+2\n",
    "        height = width\n",
    "        ans.append(width)\n",
    "        ans.append(height)\n",
    "    else :\n",
    "        width = yellow + 2\n",
    "        height = 3\n",
    "        ans.append(width)\n",
    "        ans.append(height)\n",
    "        \n",
    "else:\n",
    "    if (issquare(yellow)):\n",
    "        width = int(yellow**(0.5))+2\n",
    "        height = width\n",
    "        ans.append(width)\n",
    "        ans.append(height)\n",
    "    elif (yellow == 2):\n",
    "            ans.append(4)\n",
    "            ans.append(3)\n",
    "    else: #직사각형\n",
    "        for i in range(2,int(yellow/2)+1,2):\n",
    "            width = int(yellow / i) + 2\n",
    "            height = int(yellow / (yellow / i)) + 2\n",
    "            \n",
    "            if (width * height == brown+yellow):\n",
    "                ans.append(width)\n",
    "                ans.append(height)\n",
    "                break\n",
    "            else:\n",
    "                pass"
   ]
  },
  {
   "cell_type": "code",
   "execution_count": 184,
   "metadata": {},
   "outputs": [
    {
     "data": {
      "text/plain": [
       "[4, 3]"
      ]
     },
     "execution_count": 184,
     "metadata": {},
     "output_type": "execute_result"
    }
   ],
   "source": [
    "ans"
   ]
  },
  {
   "cell_type": "code",
   "execution_count": null,
   "metadata": {},
   "outputs": [],
   "source": []
  }
 ],
 "metadata": {
  "kernelspec": {
   "display_name": "Python 3",
   "language": "python",
   "name": "python3"
  },
  "language_info": {
   "codemirror_mode": {
    "name": "ipython",
    "version": 3
   },
   "file_extension": ".py",
   "mimetype": "text/x-python",
   "name": "python",
   "nbconvert_exporter": "python",
   "pygments_lexer": "ipython3",
   "version": "3.8.3"
  }
 },
 "nbformat": 4,
 "nbformat_minor": 4
}
