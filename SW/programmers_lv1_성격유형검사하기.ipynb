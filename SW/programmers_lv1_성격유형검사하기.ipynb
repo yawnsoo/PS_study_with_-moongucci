{
 "cells": [
  {
   "cell_type": "code",
   "execution_count": 51,
   "metadata": {},
   "outputs": [],
   "source": [
    "survey = [\"TR\", \"RT\", \"TR\"]\n",
    "\n",
    "choices = [7, 1, 3]\n",
    "choices = [x-4 for x in choices]\n",
    "\n",
    "answer = ''\n",
    "\n",
    "feature = ['RT', 'CF', 'JM', 'AN']\n",
    "score = {}\n",
    "for x in feature:\n",
    "    score[x] = 0\n",
    "    \n",
    "\n",
    "for i in range(len(survey)):\n",
    "    if survey[i][0] == 'A':\n",
    "        score[survey[i]] += choices[i]\n",
    "    elif survey[i][0] == 'N':\n",
    "        score['AN'] -= choices[i]\n",
    "        \n",
    "    if survey[i][0] == 'R':\n",
    "        score[survey[i]] += choices[i]\n",
    "    elif survey[i][0] == 'T':\n",
    "        score['RT'] -= choices[i]\n",
    " \n",
    "    if survey[i][0] == 'C':\n",
    "        score[survey[i]] += choices[i]\n",
    "    elif survey[i][0] == 'F':\n",
    "        score['CF'] -= choices[i]\n",
    "        \n",
    "    if survey[i][0] == 'J':\n",
    "        score[survey[i]] += choices[i]\n",
    "    elif survey[i][0] == 'M':\n",
    "        score['JM'] -= choices[i]\n",
    "\n",
    "\n",
    "for k in score.keys():\n",
    "    if score[k] > 0:\n",
    "        answer += k[1]\n",
    "    else:\n",
    "        answer += k[0]\n",
    "answer"
   ]
  },
  {
   "cell_type": "code",
   "execution_count": null,
   "metadata": {},
   "outputs": [],
   "source": []
  },
  {
   "cell_type": "code",
   "execution_count": null,
   "metadata": {},
   "outputs": [],
   "source": []
  },
  {
   "cell_type": "code",
   "execution_count": null,
   "metadata": {},
   "outputs": [],
   "source": []
  }
 ],
 "metadata": {
  "kernelspec": {
   "display_name": "Python 3",
   "language": "python",
   "name": "python3"
  },
  "language_info": {
   "codemirror_mode": {
    "name": "ipython",
    "version": 3
   },
   "file_extension": ".py",
   "mimetype": "text/x-python",
   "name": "python",
   "nbconvert_exporter": "python",
   "pygments_lexer": "ipython3",
   "version": "3.8.3"
  }
 },
 "nbformat": 4,
 "nbformat_minor": 4
}
