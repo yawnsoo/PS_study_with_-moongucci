{
 "cells": [
  {
   "cell_type": "code",
   "execution_count": 25,
   "metadata": {},
   "outputs": [],
   "source": [
    "phone_book = \t[\"12\", \"123\", \"1235\", \"567\", \"88\"]"
   ]
  },
  {
   "cell_type": "code",
   "execution_count": 26,
   "metadata": {
    "scrolled": true
   },
   "outputs": [
    {
     "name": "stdout",
     "output_type": "stream",
     "text": [
      "False\n"
     ]
    }
   ],
   "source": [
    "check_num = []\n",
    "minimum = len(min(phone_book))\n",
    "\n",
    "for i in phone_book:\n",
    "    if(len(i) ==minimum):\n",
    "        phone_book.remove(i)\n",
    "        check_num.append(i)\n",
    "\n",
    "answer = True\n",
    "\n",
    "for num in check_num:\n",
    "    for item in phone_book:\n",
    "        if ((item.find(num) == 0) & (item != (num))):\n",
    "            answer = False\n",
    "            break\n",
    "        else:\n",
    "            pass\n",
    "        \n",
    "print(answer)"
   ]
  },
  {
   "cell_type": "code",
   "execution_count": null,
   "metadata": {},
   "outputs": [],
   "source": []
  },
  {
   "cell_type": "code",
   "execution_count": 343,
   "metadata": {},
   "outputs": [],
   "source": [
    "phone_book = \t[\"119\", \"97674223\", \"1195524421\"]"
   ]
  },
  {
   "cell_type": "code",
   "execution_count": 344,
   "metadata": {
    "scrolled": true
   },
   "outputs": [
    {
     "name": "stdout",
     "output_type": "stream",
     "text": [
      "False\n"
     ]
    }
   ],
   "source": [
    "dic = {}\n",
    "for item in phone_book:\n",
    "    dic[item] = 0\n",
    "\n",
    "for k in dic.keys():\n",
    "    for i in range(len(phone_book)):\n",
    "        if phone_book[i].startswith(k) and phone_book[i] != k:\n",
    "            dic[k] += 1\n",
    "            break\n",
    "\n",
    "if max(list(dic.values())) == 1:\n",
    "    print(\"False\")\n",
    "else:\n",
    "    print(\"True\")\n",
    "\n",
    "#너무 오래걸림"
   ]
  },
  {
   "cell_type": "code",
   "execution_count": 341,
   "metadata": {},
   "outputs": [],
   "source": [
    "phone_book = \t[\"119\", \"97119223\", \"117524421\"]"
   ]
  },
  {
   "cell_type": "code",
   "execution_count": 345,
   "metadata": {},
   "outputs": [],
   "source": [
    "def solution(phone_book):\n",
    "\n",
    "    dic = {}\n",
    "\n",
    "    for item in phone_book:\n",
    "        dic[item] = 1\n",
    "\n",
    "    for item in phone_book: \n",
    "        con = \"\"\n",
    "        for x in item: # 모든 전화번호의 글자 분해\n",
    "            con += x\n",
    "            if con in dic and con != item: # 딕셔너리에 글자 포함 & 자기 자신이 아니면\n",
    "                return False\n",
    "\n",
    "    return True"
   ]
  },
  {
   "cell_type": "code",
   "execution_count": null,
   "metadata": {},
   "outputs": [],
   "source": []
  }
 ],
 "metadata": {
  "kernelspec": {
   "display_name": "Python 3",
   "language": "python",
   "name": "python3"
  },
  "language_info": {
   "codemirror_mode": {
    "name": "ipython",
    "version": 3
   },
   "file_extension": ".py",
   "mimetype": "text/x-python",
   "name": "python",
   "nbconvert_exporter": "python",
   "pygments_lexer": "ipython3",
   "version": "3.8.3"
  }
 },
 "nbformat": 4,
 "nbformat_minor": 4
}
