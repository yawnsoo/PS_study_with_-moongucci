{
 "cells": [
  {
   "cell_type": "code",
   "execution_count": 100,
   "metadata": {},
   "outputs": [
    {
     "name": "stdout",
     "output_type": "stream",
     "text": [
      "{1: 5, 2: 0, 3: 0}\n"
     ]
    },
    {
     "data": {
      "text/plain": [
       "[1]"
      ]
     },
     "execution_count": 100,
     "metadata": {},
     "output_type": "execute_result"
    }
   ],
   "source": [
    "student = {1:[1,2,3,4,5], 2:[2,1,2,3,2,4,2,5], 3:[3,3,1,1,2,2,4,4,5,5]}\n",
    "\n",
    "answer = [1,2,3,4,5]\n",
    "\n",
    "score = {1:0,2:0,3:0}\n",
    "\n",
    "for (k,v) in student.items():\n",
    "    for i in range(len(answer)):\n",
    "        if (answer[i] == v[i%len(v)]): ### answer 가 찍는 리스트보다 클 경우 다시 찍어야 하니까 나머지로 돌기\n",
    "            score[k] += 1\n",
    "        else:\n",
    "            pass\n",
    "\n",
    "print(score)\n",
    "maximum = max(score.values())\n",
    "result = [k for k, v in score.items() if v == maximum] ### List comprehension\n",
    "result\n",
    "\n",
    "#런타임 에러"
   ]
  },
  {
   "cell_type": "code",
   "execution_count": null,
   "metadata": {},
   "outputs": [],
   "source": []
  },
  {
   "cell_type": "code",
   "execution_count": null,
   "metadata": {},
   "outputs": [],
   "source": [
    "#   dictionary 에서\n",
    "#  .items()  .keys()  .values()\n",
    "#  items는 쌍으로 묶임. packed"
   ]
  },
  {
   "cell_type": "code",
   "execution_count": 101,
   "metadata": {},
   "outputs": [],
   "source": [
    "### 정답\n",
    "\n",
    "def solution(answers):\n",
    "    student = {1:[1,2,3,4,5], 2:[2,1,2,3,2,4,2,5], 3:[3,3,1,1,2,2,4,4,5,5]}\n",
    "\n",
    "\n",
    "    score = {1:0,2:0,3:0}\n",
    "\n",
    "    for (k,v) in student.items():\n",
    "        for i in range(len(answers)):\n",
    "            if (answers[i] == v[i%len(v)]):\n",
    "                score[k] += 1\n",
    "            else:\n",
    "                pass\n",
    "\n",
    "    maximum = max(score.values())\n",
    "    result = [k for k, v in score.items() if v == maximum] ### List comprehension\n",
    "    return result\n"
   ]
  },
  {
   "cell_type": "code",
   "execution_count": null,
   "metadata": {},
   "outputs": [],
   "source": []
  }
 ],
 "metadata": {
  "kernelspec": {
   "display_name": "Python 3",
   "language": "python",
   "name": "python3"
  },
  "language_info": {
   "codemirror_mode": {
    "name": "ipython",
    "version": 3
   },
   "file_extension": ".py",
   "mimetype": "text/x-python",
   "name": "python",
   "nbconvert_exporter": "python",
   "pygments_lexer": "ipython3",
   "version": "3.8.5"
  }
 },
 "nbformat": 4,
 "nbformat_minor": 4
}
