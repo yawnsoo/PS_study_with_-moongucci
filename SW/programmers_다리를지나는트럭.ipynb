{
 "cells": [
  {
   "cell_type": "code",
   "execution_count": 23,
   "metadata": {},
   "outputs": [],
   "source": [
    "bridge_length = 2\n",
    "weight = 10\n",
    "truck_weight = [7,4,5,6]"
   ]
  },
  {
   "cell_type": "code",
   "execution_count": 20,
   "metadata": {},
   "outputs": [],
   "source": [
    "answer = 0\n",
    "queue = truck_weight\n",
    "\n",
    "while len(truck_weight) > 0:\n",
    "    for i in range(bridge_length):\n",
    "        a = truck_weight.pop(0)\n",
    "        w = weight\n",
    "        if (weight >= a):\n",
    "            w -= a\n",
    "            answer += 1\n",
    "        else:\n",
    "            truck_weight.appendleft(a)\n",
    "            w = weight\n",
    "            answer += 1\n",
    "            "
   ]
  },
  {
   "cell_type": "code",
   "execution_count": 45,
   "metadata": {},
   "outputs": [],
   "source": [
    "bridge_length = 2\n",
    "weight = 10\n",
    "truck_weight = [7,4,5,6]"
   ]
  },
  {
   "cell_type": "code",
   "execution_count": 46,
   "metadata": {},
   "outputs": [
    {
     "name": "stdout",
     "output_type": "stream",
     "text": [
      "10\n"
     ]
    },
    {
     "ename": "AttributeError",
     "evalue": "'list' object has no attribute 'appendleft'",
     "output_type": "error",
     "traceback": [
      "\u001b[1;31m---------------------------------------------------------------------------\u001b[0m",
      "\u001b[1;31mAttributeError\u001b[0m                            Traceback (most recent call last)",
      "\u001b[1;32m<ipython-input-46-a8367fa8b2c6>\u001b[0m in \u001b[0;36m<module>\u001b[1;34m\u001b[0m\n\u001b[0;32m     22\u001b[0m         \u001b[1;32melse\u001b[0m\u001b[1;33m:\u001b[0m\u001b[1;33m\u001b[0m\u001b[1;33m\u001b[0m\u001b[0m\n\u001b[0;32m     23\u001b[0m             \u001b[0mweight\u001b[0m \u001b[1;33m=\u001b[0m \u001b[0mweight\u001b[0m\u001b[1;33m\u001b[0m\u001b[1;33m\u001b[0m\u001b[0m\n\u001b[1;32m---> 24\u001b[1;33m             \u001b[0mtruck_weight\u001b[0m\u001b[1;33m.\u001b[0m\u001b[0mappendleft\u001b[0m\u001b[1;33m(\u001b[0m\u001b[0mtruck\u001b[0m\u001b[1;33m)\u001b[0m\u001b[1;33m\u001b[0m\u001b[1;33m\u001b[0m\u001b[0m\n\u001b[0m\u001b[0;32m     25\u001b[0m             \u001b[0msec\u001b[0m \u001b[1;33m+=\u001b[0m \u001b[1;36m1\u001b[0m\u001b[1;33m\u001b[0m\u001b[1;33m\u001b[0m\u001b[0m\n\u001b[0;32m     26\u001b[0m \u001b[1;33m\u001b[0m\u001b[0m\n",
      "\u001b[1;31mAttributeError\u001b[0m: 'list' object has no attribute 'appendleft'"
     ]
    }
   ],
   "source": [
    "#다리를 건너는 트럭과 하중을 비교\n",
    "\n",
    "#트럭을 얹고 다음 트럭이 올라갈 수 있는지 확인\n",
    "\n",
    "#가능하면 같이 얹고 불가능하면 기다린다 (시간 증가)\n",
    "\n",
    "#대기하는 트럭 리스트가 비고 다리 위에 있는 트럭 리스트도 비면 시간 return\n",
    "on_bridge = []\n",
    "sec = 0\n",
    "while (len(truck_weight) > 0):\n",
    "    if (truck_weight[0] <= weight):\n",
    "        print(weight)\n",
    "        truck = truck_weight.pop(0)\n",
    "        on_bridge.append(truck)\n",
    "        weight -= truck\n",
    "        sec += 1\n",
    "        truck = truck_weight.pop()\n",
    "        if (len(on_bridge) < bridge_length and truck < weight):\n",
    "            on_bridge.append(truck)\n",
    "            weight -= truck\n",
    "            sec += 1\n",
    "        else:\n",
    "            weight = weight\n",
    "            truck_weight.appendleft(truck)\n",
    "            sec += 1\n",
    "        \n",
    "        \n",
    "\n",
    "on_bridge"
   ]
  },
  {
   "cell_type": "code",
   "execution_count": 66,
   "metadata": {},
   "outputs": [],
   "source": [
    "bridge_length = 2\n",
    "weight = 10\n",
    "truck_weights = [7,4,5,6]"
   ]
  },
  {
   "cell_type": "code",
   "execution_count": 67,
   "metadata": {},
   "outputs": [
    {
     "name": "stdout",
     "output_type": "stream",
     "text": [
      "8\n"
     ]
    }
   ],
   "source": [
    "answer = 0\n",
    "on_bridge = [0 for _ in range(bridge_length)]\n",
    "\n",
    "while on_bridge: #bridge 리스트의 길이가 0이 되면 반복문 종료후 경과시간 (answer) 리턴 \n",
    "    \n",
    "    answer += 1\n",
    "    on_bridge.pop(0)\n",
    "    \n",
    "    if truck_weights: # 트럭의 대기열의 길이가 0이 되면 내부 반복문 종료\n",
    "        if sum(on_bridge) + truck_weights[0] <= weight: #bridge 리스트 안 (즉 다리 위에 있느 트럭의 총 무게)과 다음 대기열에 있는 트럭 무게가 다리가 감당할 수 있는 총 무게 (weight) 을 넘지 않는 조건을 만족하면 \n",
    "            truck = truck_weights.pop(0) \n",
    "            on_bridge.append(truck) # 다음 트럭을 리스트에 추가한다\n",
    "        else:\n",
    "            on_bridge.append(0) # 만족을 하지 못한다면 0을 추가하여 다리의 길이를 유지\n",
    "print(answer)        \n",
    "\n",
    "\n",
    "#by NoowaH"
   ]
  },
  {
   "cell_type": "code",
   "execution_count": 68,
   "metadata": {},
   "outputs": [
    {
     "data": {
      "text/plain": [
       "8"
      ]
     },
     "execution_count": 68,
     "metadata": {},
     "output_type": "execute_result"
    }
   ],
   "source": [
    "answer"
   ]
  },
  {
   "cell_type": "code",
   "execution_count": null,
   "metadata": {},
   "outputs": [],
   "source": []
  }
 ],
 "metadata": {
  "kernelspec": {
   "display_name": "Python 3",
   "language": "python",
   "name": "python3"
  },
  "language_info": {
   "codemirror_mode": {
    "name": "ipython",
    "version": 3
   },
   "file_extension": ".py",
   "mimetype": "text/x-python",
   "name": "python",
   "nbconvert_exporter": "python",
   "pygments_lexer": "ipython3",
   "version": "3.8.3"
  }
 },
 "nbformat": 4,
 "nbformat_minor": 4
}
