{
 "cells": [
  {
   "cell_type": "code",
   "execution_count": 47,
   "metadata": {},
   "outputs": [],
   "source": [
    "cards1 = [\"i\", \"water\", \"drink\"]\n",
    "cards2 = [\"want\", \"to\"]\n",
    "goal = [\"i\", \"want\", \"to\", \"drink\", \"water\"]\n",
    "\n",
    "cnt = 0\n",
    "\n",
    "for x in goal:\n",
    "    if len(cards1) > 0 and x==cards1[0]:\n",
    "        cards1.pop(0)\n",
    "        cnt +=1\n",
    "    elif len(cards2) > 0 and x==cards2[0]:\n",
    "        cards2.pop(0)\n",
    "        cnt +=1\n",
    "        \n",
    "\n",
    "if cnt == len(goal):\n",
    "    answer ='Yes'\n",
    "else:\n",
    "    answer = 'No'\n",
    "    \n",
    "#문제의 조건. cards는 원하는 단어 다 써도 잉여 단어 남아있을 수 있음"
   ]
  },
  {
   "cell_type": "code",
   "execution_count": 45,
   "metadata": {},
   "outputs": [
    {
     "name": "stdout",
     "output_type": "stream",
     "text": [
      "No\n"
     ]
    }
   ],
   "source": [
    "print(answer)"
   ]
  },
  {
   "cell_type": "code",
   "execution_count": null,
   "metadata": {},
   "outputs": [],
   "source": []
  }
 ],
 "metadata": {
  "kernelspec": {
   "display_name": "Python 3",
   "language": "python",
   "name": "python3"
  },
  "language_info": {
   "codemirror_mode": {
    "name": "ipython",
    "version": 3
   },
   "file_extension": ".py",
   "mimetype": "text/x-python",
   "name": "python",
   "nbconvert_exporter": "python",
   "pygments_lexer": "ipython3",
   "version": "3.8.3"
  }
 },
 "nbformat": 4,
 "nbformat_minor": 4
}
