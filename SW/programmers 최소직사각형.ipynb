{
 "cells": [
  {
   "cell_type": "code",
   "execution_count": 56,
   "metadata": {},
   "outputs": [],
   "source": [
    "sizes = [[60, 50], [30, 70], [60, 30], [80, 40]]"
   ]
  },
  {
   "cell_type": "code",
   "execution_count": 58,
   "metadata": {},
   "outputs": [
    {
     "data": {
      "text/plain": [
       "4000"
      ]
     },
     "execution_count": 58,
     "metadata": {},
     "output_type": "execute_result"
    }
   ],
   "source": [
    "width = []\n",
    "height = []\n",
    "\n",
    "for i in range(len(sizes)):\n",
    "    if (sizes[i][0] >= sizes[i][1]):\n",
    "        width.append(sizes[i][0])\n",
    "        height.append(sizes[i][1])\n",
    "    else:\n",
    "        width.append(sizes[i][1])\n",
    "        height.append(sizes[i][0])\n",
    "        \n",
    "ans = max(width) * max(height)\n",
    "    \n",
    "ans\n",
    "\n",
    "#핵심!!! 뒤죽박죽 된 명함을 나란히 맞추고 난 후, 가로길이와 세로길이의 최대를 찾는다.\n",
    "#가로로 있는거랑 세로로 있는거를 일일이 뒤집어 연산할 필요 없이 기준만 맞추어 비교하면 됨.\n",
    "#어렵게 생각하지 말자"
   ]
  },
  {
   "cell_type": "code",
   "execution_count": null,
   "metadata": {},
   "outputs": [],
   "source": []
  },
  {
   "cell_type": "code",
   "execution_count": 77,
   "metadata": {},
   "outputs": [],
   "source": [
    "sizes = [[60, 50], [30, 70], [60, 30], [80, 40]]"
   ]
  },
  {
   "cell_type": "code",
   "execution_count": 78,
   "metadata": {},
   "outputs": [
    {
     "data": {
      "text/plain": [
       "4000"
      ]
     },
     "execution_count": 78,
     "metadata": {},
     "output_type": "execute_result"
    }
   ],
   "source": [
    "w=[]\n",
    "h=[]\n",
    "\n",
    "for item in sizes:\n",
    "    w.append(max(item[0],item[1]))\n",
    "    h.append(min(item[0],item[1]))\n",
    "    \n",
    "max(w)*max(h)"
   ]
  },
  {
   "cell_type": "code",
   "execution_count": null,
   "metadata": {},
   "outputs": [],
   "source": []
  },
  {
   "cell_type": "code",
   "execution_count": 101,
   "metadata": {
    "scrolled": true
   },
   "outputs": [
    {
     "data": {
      "text/plain": [
       "4000"
      ]
     },
     "execution_count": 101,
     "metadata": {},
     "output_type": "execute_result"
    }
   ],
   "source": [
    "#타인의 풀이\n",
    "def solution(sizes):\n",
    "    return max(max(x) for x in sizes) * max(min(x) for x in sizes)\n",
    "\n",
    "#LIST COMPREHENSHION을 이용한 단축\n",
    "\n",
    "def solution(sizes):\n",
    "    return max(max(x[0],x[1]) for x in sizes) * max(min(x[0],x[1]) for x in sizes)\n",
    "\n",
    "#풀어 쓴 것 \n",
    "\n",
    "solution([[60, 50], [30, 70], [60, 30], [80, 40]])\n",
    "\n",
    "\n",
    "w = [max(x) for x in sizes]  ### [60, 70, 60, 80]\n",
    "h = [min(x) for x in sizes] ### [50, 30, 30, 40]\n",
    "max(w)*max(h)  # 80 * 50"
   ]
  },
  {
   "cell_type": "code",
   "execution_count": null,
   "metadata": {},
   "outputs": [],
   "source": []
  }
 ],
 "metadata": {
  "kernelspec": {
   "display_name": "Python 3",
   "language": "python",
   "name": "python3"
  },
  "language_info": {
   "codemirror_mode": {
    "name": "ipython",
    "version": 3
   },
   "file_extension": ".py",
   "mimetype": "text/x-python",
   "name": "python",
   "nbconvert_exporter": "python",
   "pygments_lexer": "ipython3",
   "version": "3.8.5"
  }
 },
 "nbformat": 4,
 "nbformat_minor": 4
}
