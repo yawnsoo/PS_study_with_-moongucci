{
 "cells": [
  {
   "cell_type": "code",
   "execution_count": 97,
   "metadata": {},
   "outputs": [],
   "source": [
    "X = \"100\"\n",
    "Y = '2345'\n",
    "Y_li = list(Y)\n",
    "result = []\n",
    "\n",
    "# 다중 교집합 구현\n",
    "\n",
    "for item in X:\n",
    "    if item in Y_li: #Y 그대로 넣으면 안됨. 리스트로 변환해서 제거\n",
    "        result.append(item)\n",
    "        Y_li.remove(item) \n",
    "        \n",
    "result.sort(reverse=True) # 내림차순\n",
    "\n",
    "if len(result) == 0:\n",
    "    answer = '-1'\n",
    "elif result[0] == '0':\n",
    "    answer = '0'\n",
    "else:\n",
    "    answer = ''.join(result)"
   ]
  },
  {
   "cell_type": "code",
   "execution_count": 98,
   "metadata": {},
   "outputs": [
    {
     "name": "stdout",
     "output_type": "stream",
     "text": [
      "-1\n"
     ]
    }
   ],
   "source": [
    "print(answer)"
   ]
  },
  {
   "cell_type": "code",
   "execution_count": 99,
   "metadata": {},
   "outputs": [],
   "source": [
    "# 다중 합집합도 구현해보기"
   ]
  },
  {
   "cell_type": "code",
   "execution_count": null,
   "metadata": {},
   "outputs": [],
   "source": []
  },
  {
   "cell_type": "code",
   "execution_count": null,
   "metadata": {},
   "outputs": [],
   "source": []
  },
  {
   "cell_type": "code",
   "execution_count": 100,
   "metadata": {},
   "outputs": [
    {
     "name": "stdout",
     "output_type": "stream",
     "text": [
      "Counter({'0': 2, '1': 1})\n"
     ]
    },
    {
     "data": {
      "text/plain": [
       "'-1'"
      ]
     },
     "execution_count": 100,
     "metadata": {},
     "output_type": "execute_result"
    }
   ],
   "source": [
    "from collections import Counter ### Counter 이용하기. 갯수 dictionary 형태로 반환\n",
    "# Counter({'0': 2, '1': 1})\n",
    "X = \"100\"\n",
    "Y = '2345'\n",
    "X = Counter(X)\n",
    "Y = Counter(Y)\n",
    "answer = ''\n",
    "print(X)\n",
    "\n",
    "for i in range(9,-1,-1):\n",
    "    mn = min(X[str(i)], Y[str(i)])\n",
    "    answer += str(i) * mn\n",
    "\n",
    "if answer == '':\n",
    "    answer = '-1'\n",
    "elif answer[0] == '0':\n",
    "    answer = '0'\n",
    "else:\n",
    "    pass\n",
    "answer"
   ]
  },
  {
   "cell_type": "code",
   "execution_count": null,
   "metadata": {},
   "outputs": [],
   "source": []
  }
 ],
 "metadata": {
  "kernelspec": {
   "display_name": "Python 3",
   "language": "python",
   "name": "python3"
  },
  "language_info": {
   "codemirror_mode": {
    "name": "ipython",
    "version": 3
   },
   "file_extension": ".py",
   "mimetype": "text/x-python",
   "name": "python",
   "nbconvert_exporter": "python",
   "pygments_lexer": "ipython3",
   "version": "3.8.3"
  }
 },
 "nbformat": 4,
 "nbformat_minor": 4
}
