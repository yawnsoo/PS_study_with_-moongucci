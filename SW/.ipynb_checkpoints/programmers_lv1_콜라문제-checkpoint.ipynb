{
 "cells": [
  {
   "cell_type": "code",
   "execution_count": 136,
   "metadata": {},
   "outputs": [],
   "source": [
    "a = 3\n",
    "b= 1\n",
    "n = 20"
   ]
  },
  {
   "cell_type": "code",
   "execution_count": 137,
   "metadata": {},
   "outputs": [
    {
     "name": "stdout",
     "output_type": "stream",
     "text": [
      "9\n"
     ]
    }
   ],
   "source": [
    "temp = 0\n",
    "answer = 0\n",
    "\n",
    "while (n >= a):\n",
    "    \n",
    "    if n % a == 0:\n",
    "        n = b*(n//a)\n",
    "        answer += n\n",
    "    else:   \n",
    "        temp = (n%a)\n",
    "        n = b*(n//a)\n",
    "        answer += n\n",
    "        \n",
    "        # 먼저 몫을 정답에 추가해주고 (새 콜라병 수)\n",
    "        #그다음 잉여콜라를 남은 전체에 다시 더해주고 반복\n",
    "        n += temp\n",
    "\n",
    "\n",
    "print(answer)\n",
    "\n",
    "#틀림. 나머지 병이 생길때마다 개수에 포함시켜 다시 고려해야 할 듯\n"
   ]
  },
  {
   "cell_type": "code",
   "execution_count": null,
   "metadata": {},
   "outputs": [],
   "source": []
  },
  {
   "cell_type": "code",
   "execution_count": null,
   "metadata": {},
   "outputs": [],
   "source": []
  }
 ],
 "metadata": {
  "kernelspec": {
   "display_name": "Python 3",
   "language": "python",
   "name": "python3"
  },
  "language_info": {
   "codemirror_mode": {
    "name": "ipython",
    "version": 3
   },
   "file_extension": ".py",
   "mimetype": "text/x-python",
   "name": "python",
   "nbconvert_exporter": "python",
   "pygments_lexer": "ipython3",
   "version": "3.8.3"
  }
 },
 "nbformat": 4,
 "nbformat_minor": 4
}
