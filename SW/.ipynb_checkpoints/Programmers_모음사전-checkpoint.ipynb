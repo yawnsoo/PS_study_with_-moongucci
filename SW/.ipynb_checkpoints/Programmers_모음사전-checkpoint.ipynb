{
 "cells": [
  {
   "cell_type": "code",
   "execution_count": 183,
   "metadata": {},
   "outputs": [],
   "source": [
    "word = \"AAAE\"\n",
    "\n",
    "x5 = [5**4,5**3,5**2,5**1, 1]\n",
    "\n",
    "###1 5*5 2중배열+점화식\n",
    "\n",
    "###2 DFS"
   ]
  },
  {
   "cell_type": "code",
   "execution_count": 184,
   "metadata": {},
   "outputs": [],
   "source": [
    "cnt = 0\n",
    "N = len(word)\n",
    "\n",
    "for i in range(N):\n",
    "    if ( 'A' == word[-(i+1)]):\n",
    "        cnt += 1\n",
    "    elif ('E' == word[-(i+1)]):\n",
    "        cnt += 2 * x5[:N][-(i+1)]\n",
    "    elif ('I' == word[-(i+1)]):\n",
    "        cnt += 3 * x5[:N][-(i+1)]\n",
    "    elif ('O' == word[-(i+1)]):\n",
    "        cnt += 4 * x5[:N][-(i+1)]\n",
    "    elif ('U' == word[-(i+1)]):\n",
    "        cnt += 5 * x5[:N][-(i+1)]"
   ]
  },
  {
   "cell_type": "code",
   "execution_count": 185,
   "metadata": {},
   "outputs": [
    {
     "data": {
      "text/plain": [
       "13"
      ]
     },
     "execution_count": 185,
     "metadata": {},
     "output_type": "execute_result"
    }
   ],
   "source": [
    "cnt"
   ]
  },
  {
   "cell_type": "code",
   "execution_count": null,
   "metadata": {},
   "outputs": [],
   "source": []
  },
  {
   "cell_type": "code",
   "execution_count": null,
   "metadata": {},
   "outputs": [],
   "source": []
  }
 ],
 "metadata": {
  "kernelspec": {
   "display_name": "Python 3",
   "language": "python",
   "name": "python3"
  },
  "language_info": {
   "codemirror_mode": {
    "name": "ipython",
    "version": 3
   },
   "file_extension": ".py",
   "mimetype": "text/x-python",
   "name": "python",
   "nbconvert_exporter": "python",
   "pygments_lexer": "ipython3",
   "version": "3.8.3"
  }
 },
 "nbformat": 4,
 "nbformat_minor": 4
}
