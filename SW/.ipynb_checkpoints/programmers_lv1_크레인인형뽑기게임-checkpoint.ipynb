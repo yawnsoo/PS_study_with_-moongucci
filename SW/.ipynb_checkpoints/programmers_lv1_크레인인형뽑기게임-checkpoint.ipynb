{
 "cells": [
  {
   "cell_type": "code",
   "execution_count": 21,
   "metadata": {},
   "outputs": [
    {
     "name": "stdout",
     "output_type": "stream",
     "text": [
      "4\n"
     ]
    }
   ],
   "source": [
    "board = [[0,0,0,0,0],[0,0,1,0,3],[0,2,5,0,1],[4,2,4,4,2],[3,5,1,3,1]]\n",
    "\n",
    "moves = [1,5,3,5,1,2,1,4]\n",
    "answer = 0     \n",
    "pod = []\n",
    "\n",
    "\n",
    "#방법 1 : 인형 뽑을 때마다 처리\n",
    "for x in moves:\n",
    "    for b in board:\n",
    "        # 0이면 패스\n",
    "        if b[x-1] == 0:\n",
    "            pass\n",
    "        # 0이 아니면 뽑아서 pod에 담고 0으로 초기화\n",
    "        else:\n",
    "            # 스택에 아무것도 없으면\n",
    "            if len(pod) == 0:\n",
    "                pod.append(b[x-1])            \n",
    "                b[x-1] = 0\n",
    "            #스택에 1개 있으면\n",
    "            elif len(pod) == 1:\n",
    "                if pod[0] == b[x-1]:\n",
    "                    answer += 2\n",
    "                    b[x-1] = 0\n",
    "                    pod.pop()\n",
    "                else:\n",
    "                    pod.append(b[x-1])\n",
    "                    b[x-1] = 0\n",
    "            #스택에 2개 이상 있으면\n",
    "            else:\n",
    "                if pod[-1] == b[x-1]:\n",
    "                    answer += 2\n",
    "                    b[x-1] = 0\n",
    "                    pod.pop()\n",
    "                else:\n",
    "                    pod.append(b[x-1])\n",
    "                    b[x-1] = 0\n",
    "            \n",
    "            break\n",
    "                \n",
    "    \n",
    "    \n",
    "print(answer)\n",
    "#방법 2 : 배열 다 만들어 놓고 중간부터 처리 \n",
    "\n",
    "\n",
    "# 연속된 숫자 stack에서 pop하며 찾고 갯수 count \n",
    "# 배열 완성상태에서는 하면 안됨\n",
    "# first = pod.pop()\n",
    "# while (len(pod) > 0):\n",
    "#     print(pod)\n",
    "#     a = pod.pop()\n",
    "#     if first == a:\n",
    "#         answer += 2\n",
    "#     else:\n",
    "#         first = a\n"
   ]
  },
  {
   "cell_type": "code",
   "execution_count": null,
   "metadata": {},
   "outputs": [],
   "source": []
  },
  {
   "cell_type": "code",
   "execution_count": null,
   "metadata": {},
   "outputs": [],
   "source": []
  }
 ],
 "metadata": {
  "kernelspec": {
   "display_name": "Python 3",
   "language": "python",
   "name": "python3"
  },
  "language_info": {
   "codemirror_mode": {
    "name": "ipython",
    "version": 3
   },
   "file_extension": ".py",
   "mimetype": "text/x-python",
   "name": "python",
   "nbconvert_exporter": "python",
   "pygments_lexer": "ipython3",
   "version": "3.8.3"
  }
 },
 "nbformat": 4,
 "nbformat_minor": 4
}
