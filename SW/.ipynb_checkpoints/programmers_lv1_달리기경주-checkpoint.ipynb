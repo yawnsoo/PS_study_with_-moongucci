{
 "cells": [
  {
   "cell_type": "code",
   "execution_count": 68,
   "metadata": {},
   "outputs": [
    {
     "name": "stdout",
     "output_type": "stream",
     "text": [
      "['mumu', 'kai', 'mine', 'soe', 'poe']\n"
     ]
    }
   ],
   "source": [
    "#달리기 경주\n",
    "\n",
    "players = [\"mumu\", \"soe\", \"poe\", \"kai\", \"mine\"]\n",
    "callings = [\"kai\", \"kai\", \"mine\", \"mine\"]\n",
    "\n",
    "\n",
    "while (len(callings) > 0):\n",
    "    i = players.index(callings.pop(0))\n",
    "    temp = players[i-1]\n",
    "    players[i-1] = players[i]\n",
    "    players[i] = temp\n",
    "\n",
    "#player는 5만 #callings는 1백만까지\n",
    "\n",
    "print(answer)\n",
    "\n",
    "#테스트 9~13 시간 초과"
   ]
  },
  {
   "cell_type": "code",
   "execution_count": 50,
   "metadata": {},
   "outputs": [
    {
     "name": "stdout",
     "output_type": "stream",
     "text": [
      "['mumu', 'kai', 'mine', 'soe', 'poe']\n"
     ]
    }
   ],
   "source": [
    "#callings 의 갯수를 줄여서 한번에 스위칭\n",
    "\n",
    "players = [\"mumu\", \"soe\", \"poe\", \"kai\", \"mine\"]\n",
    "callings = [\"kai\", \"kai\", \"mine\", \"mine\"]\n",
    "\n",
    "call = set(callings)\n",
    "call_list = list(call)\n",
    "dic = {}\n",
    "\n",
    "for name in call_list:\n",
    "    num = callings.count(name)\n",
    "    dic[name] = num          ### dictionary 에서는 append 안됨. dic[key] = value 로 추가하기\n",
    "    \n",
    "\n",
    "\n",
    "for c in call_list:\n",
    "    i = players.index(c)\n",
    "    temp = players[i-dic[c]]\n",
    "    players[i-dic[c]] = players[i]\n",
    "    players[i] = temp\n",
    "    \n",
    "print(players)\n",
    "\n",
    "# 1, 14 빼고 실패(시간초과 및 틀림)"
   ]
  },
  {
   "cell_type": "code",
   "execution_count": 63,
   "metadata": {},
   "outputs": [
    {
     "name": "stdout",
     "output_type": "stream",
     "text": [
      "['mumu', 'kai', 'mine', 'soe', 'poe']\n"
     ]
    }
   ],
   "source": [
    "#callings 의 갯수를 줄여서 한번에 스위칭\n",
    "\n",
    "players = [\"mumu\", \"soe\", \"poe\", \"kai\", \"mine\"]\n",
    "callings = [\"kai\", \"kai\", \"mine\", \"mine\"]\n",
    "\n",
    "call = set(callings)\n",
    "call_list = list(call)\n",
    "dic = {}\n",
    "\n",
    "for name in call_list:\n",
    "    num = callings.count(name)\n",
    "    dic[name] = num          \n",
    "\n",
    "dic = sorted(dic.items()) # 이름 중복횟수 오름차순. 추월 적은 인원부터 스위칭\n",
    "\n",
    "for k, v in dic:\n",
    "    i = players.index(k)\n",
    "    temp = players[i-v]\n",
    "    players[i-v] = players[i]\n",
    "    players[i] = temp\n",
    "    \n",
    "print(players)\n",
    "\n",
    "# 인덱스가 -1이하로 떨어지면 안되기 때문에 제일 후순위 player, 혹은 추월 적은 순서부터 스위칭\n",
    "\n",
    "\n",
    "#이렇게 하면 안됨. <순서대로>\n",
    "#마찬가지로 1, 14 빼고 실패"
   ]
  },
  {
   "cell_type": "code",
   "execution_count": 104,
   "metadata": {},
   "outputs": [
    {
     "name": "stdout",
     "output_type": "stream",
     "text": [
      "['mumu', 'kai', 'mine', 'soe', 'poe']\n"
     ]
    }
   ],
   "source": [
    "players = [\"mumu\", \"soe\", \"poe\", \"kai\", \"mine\"]\n",
    "callings = [\"kai\", \"kai\", \"mine\", \"mine\"]\n",
    "\n",
    "order = {}\n",
    "\n",
    "for k,v in enumerate(players):\n",
    "    order[v] = k\n",
    "    \n",
    "\n",
    "while (len(callings) > 0):\n",
    "    select = callings.pop(0) #name\n",
    "    n = order[select] #index\n",
    "    \n",
    "    \n",
    "    order[select] = n-1\n",
    "    order[players[n-1]] = n\n",
    "    \n",
    "    players[n] = players[n-1]\n",
    "    players[n-1] = select\n",
    "    \n",
    "order = dict(sorted(order.items(), key = lambda x: x[1])) # 결국 여기서도 sort를 쓰기 때문에 문제 해결 X\n",
    "answer = list(order.keys())\n",
    "\n",
    "print(answer)\n",
    "\n",
    "#test 10~13 초과\n"
   ]
  },
  {
   "cell_type": "code",
   "execution_count": 121,
   "metadata": {},
   "outputs": [
    {
     "name": "stdout",
     "output_type": "stream",
     "text": [
      "['mumu', 'kai', 'mine', 'soe', 'poe']\n"
     ]
    }
   ],
   "source": [
    "players = [\"mumu\", \"soe\", \"poe\", \"kai\", \"mine\"]\n",
    "callings = [\"kai\", \"kai\", \"mine\", \"mine\"]\n",
    "\n",
    "rank = {}\n",
    "for idx, player in enumerate(players):\n",
    "    rank[player] = idx\n",
    "    \n",
    "for player in callings:\n",
    "    \n",
    "    #호출된 선수의 인덱스\n",
    "    idx = rank.get(player)\n",
    "    \n",
    "    #앞에 있던 선수의 이름\n",
    "    front = players[idx - 1]\n",
    "    \n",
    "    #딕셔너리 순위 변경\n",
    "    rank[player] = idx-1\n",
    "    rank[front] = idx\n",
    "    \n",
    "    #리스트 순위 변경\n",
    "    players[idx-1] = player\n",
    "    players[idx] = front\n",
    "    \n",
    "answer = players\n",
    "print(answer)"
   ]
  },
  {
   "cell_type": "code",
   "execution_count": null,
   "metadata": {},
   "outputs": [],
   "source": []
  }
 ],
 "metadata": {
  "kernelspec": {
   "display_name": "Python 3",
   "language": "python",
   "name": "python3"
  },
  "language_info": {
   "codemirror_mode": {
    "name": "ipython",
    "version": 3
   },
   "file_extension": ".py",
   "mimetype": "text/x-python",
   "name": "python",
   "nbconvert_exporter": "python",
   "pygments_lexer": "ipython3",
   "version": "3.8.3"
  }
 },
 "nbformat": 4,
 "nbformat_minor": 4
}
