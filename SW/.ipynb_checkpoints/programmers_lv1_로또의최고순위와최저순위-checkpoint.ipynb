{
 "cells": [
  {
   "cell_type": "code",
   "execution_count": 1,
   "metadata": {},
   "outputs": [],
   "source": [
    "def solution(lottos, win_nums):\n",
    "    answer = []\n",
    "    cnt = 0\n",
    "    zero = 0\n",
    "    for x in lottos:\n",
    "        if x in win_nums:\n",
    "            cnt += 1\n",
    "        elif x == 0:\n",
    "            zero += 1\n",
    "    \n",
    "    rank = {6:1, 5:2, 4:3, 3:4, 2:5, 1:6, 0:6}\n",
    "    answer = [rank[cnt+zero], rank[cnt]]\n",
    "\n",
    "    return answer"
   ]
  },
  {
   "cell_type": "code",
   "execution_count": 2,
   "metadata": {},
   "outputs": [],
   "source": [
    "# 프로그래머스 환경 내에서 풀기 연습"
   ]
  },
  {
   "cell_type": "code",
   "execution_count": null,
   "metadata": {},
   "outputs": [],
   "source": []
  }
 ],
 "metadata": {
  "kernelspec": {
   "display_name": "Python 3",
   "language": "python",
   "name": "python3"
  },
  "language_info": {
   "codemirror_mode": {
    "name": "ipython",
    "version": 3
   },
   "file_extension": ".py",
   "mimetype": "text/x-python",
   "name": "python",
   "nbconvert_exporter": "python",
   "pygments_lexer": "ipython3",
   "version": "3.8.3"
  }
 },
 "nbformat": 4,
 "nbformat_minor": 4
}
