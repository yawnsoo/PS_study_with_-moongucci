{
 "cells": [
  {
   "cell_type": "code",
   "execution_count": 69,
   "metadata": {},
   "outputs": [],
   "source": [
    "numbers = [1, 1, 1, 1, 1]\n",
    "target = 3"
   ]
  },
  {
   "cell_type": "code",
   "execution_count": 70,
   "metadata": {},
   "outputs": [],
   "source": [
    "answer = 0\n",
    "\n",
    "def dfs(idx, prsum):\n",
    "    ## 1 . 탈출조건\n",
    "    global answer\n",
    "    \n",
    "    if (idx == len(numbers)):\n",
    "        if (prsum == target):\n",
    "            answer += 1\n",
    "        return\n",
    "    ## 2. 수행동작\n",
    "    dfs(idx+1, prsum + numbers[idx])\n",
    "    dfs(idx+1, prsum - numbers[idx])\n",
    "        \n",
    "\n",
    "dfs(0,0)"
   ]
  },
  {
   "cell_type": "code",
   "execution_count": 72,
   "metadata": {},
   "outputs": [
    {
     "data": {
      "text/plain": [
       "5"
      ]
     },
     "execution_count": 72,
     "metadata": {},
     "output_type": "execute_result"
    }
   ],
   "source": [
    "answer"
   ]
  },
  {
   "cell_type": "code",
   "execution_count": null,
   "metadata": {},
   "outputs": [],
   "source": []
  }
 ],
 "metadata": {
  "kernelspec": {
   "display_name": "Python 3",
   "language": "python",
   "name": "python3"
  },
  "language_info": {
   "codemirror_mode": {
    "name": "ipython",
    "version": 3
   },
   "file_extension": ".py",
   "mimetype": "text/x-python",
   "name": "python",
   "nbconvert_exporter": "python",
   "pygments_lexer": "ipython3",
   "version": "3.8.3"
  }
 },
 "nbformat": 4,
 "nbformat_minor": 4
}
