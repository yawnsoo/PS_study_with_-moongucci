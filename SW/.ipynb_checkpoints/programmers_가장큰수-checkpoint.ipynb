{
 "cells": [
  {
   "cell_type": "code",
   "execution_count": 161,
   "metadata": {},
   "outputs": [],
   "source": [
    "numbers = [3,30,34,5,9]"
   ]
  },
  {
   "cell_type": "code",
   "execution_count": 163,
   "metadata": {
    "scrolled": true
   },
   "outputs": [
    {
     "name": "stdout",
     "output_type": "stream",
     "text": [
      "9543330\n"
     ]
    }
   ],
   "source": [
    "#원소 한 자리로 분해\n",
    "\n",
    "ans = []\n",
    "\n",
    "for item in numbers:\n",
    "    if ( 100 <= item <=1000):\n",
    "        ans.append(int(item / 100))\n",
    "        ans.append(int(item % ((item / 100) + (item % 10))))\n",
    "        ans.append(int(item % 10))\n",
    "        \n",
    "    elif ( 10 <= item < 100):\n",
    "        ans.append(int(item / 10))\n",
    "        ans.append(int(item % 10))\n",
    "    else:\n",
    "        ans.append(item)\n",
    "\n",
    "# 원소 내림차순 정렬\n",
    "\n",
    "ans = sorted(ans, reverse=True)\n",
    "ans2 = list(map(str, ans)) #ans의 원소를 문자열로 형변환한 새로운 리스트 생성\n",
    "\n",
    "#리스트 내의 원소를 문자열로 이어붙여 출력\n",
    "print(''.join(ans2))  # ans2 리스트 내의 원소 이어붙이기 (공백으로 조인)"
   ]
  },
  {
   "cell_type": "code",
   "execution_count": 39,
   "metadata": {
    "scrolled": true
   },
   "outputs": [
    {
     "name": "stdout",
     "output_type": "stream",
     "text": [
      "['9534330']\n"
     ]
    }
   ],
   "source": [
    "#정렬에 대한 재정의\n",
    "numbers = [3, 30, 34, 5, 9]\n",
    "\n",
    "numbers = list(map(str,numbers))\n",
    "\n",
    "numbers = sorted(numbers)\n",
    "\n",
    "\n",
    "ans = ''\n",
    "n = len(numbers)-1\n",
    "\n",
    "def compare(a, b):\n",
    "        c = int(a+b)\n",
    "        d = int(b+a)\n",
    "        if (c >= d):\n",
    "            return True\n",
    "        else:\n",
    "            return False\n",
    "               \n",
    "for i in range(n):\n",
    "    if (compare(numbers[0], numbers[1])):\n",
    "        ans = (numbers[0] + numbers[1])\n",
    "        del numbers[0]\n",
    "        del numbers[0]\n",
    "        numbers.insert(0, ans)\n",
    "        ans = ''\n",
    "    else:\n",
    "        ans = (numbers[1] + numbers[0])\n",
    "        del numbers[0]\n",
    "        del numbers[0]\n",
    "        numbers.insert(0, ans)\n",
    "        ans = ''\n",
    "\n",
    "print(numbers)\n",
    "    "
   ]
  },
  {
   "cell_type": "code",
   "execution_count": null,
   "metadata": {},
   "outputs": [],
   "source": []
  },
  {
   "cell_type": "code",
   "execution_count": null,
   "metadata": {},
   "outputs": [],
   "source": []
  },
  {
   "cell_type": "code",
   "execution_count": 119,
   "metadata": {},
   "outputs": [
    {
     "data": {
      "text/plain": [
       "['9', '5', '34', '30', '3']"
      ]
     },
     "execution_count": 119,
     "metadata": {},
     "output_type": "execute_result"
    }
   ],
   "source": [
    "numbers = [3, 30, 34, 5, 9]\n",
    "numbers = list(map(str,numbers))\n",
    "numbers = sorted(numbers,reverse=True)\n",
    "numbers"
   ]
  },
  {
   "cell_type": "code",
   "execution_count": null,
   "metadata": {},
   "outputs": [],
   "source": []
  },
  {
   "cell_type": "code",
   "execution_count": 158,
   "metadata": {},
   "outputs": [
    {
     "data": {
      "text/plain": [
       "'6210'"
      ]
     },
     "execution_count": 158,
     "metadata": {},
     "output_type": "execute_result"
    }
   ],
   "source": [
    "numbers = [6,10,2]\n",
    "visited = [0 for _ in range(len(numbers))]\n",
    "answer = []\n",
    "\n",
    "def dfs(cnt, list):\n",
    "    if cnt == len(numbers):\n",
    "        answer.append(list[:])\n",
    "        return\n",
    "    \n",
    "    for i, val in enumerate(numbers):\n",
    "        # 만약 방문했다면 건너뛰기( 순열을 위함 )\n",
    "        if visited[i] == 1:\n",
    "            continue\n",
    "        #현재까지의 list에 값을 추가하고 방문 표시하기\n",
    "        list.append(val)\n",
    "        visited[i] = 1\n",
    "        \n",
    "        dfs(cnt+1, list)\n",
    "        #방금 전 list에 추가한 값과 방문한 것을 되돌려주기\n",
    "        list.pop()\n",
    "        visited[i] = 0\n",
    "\n",
    "dfs(0, [])\n",
    "ans_1 = []\n",
    "for x in answer:\n",
    "    ans_1.append(list(map(str,x)))\n",
    "ans_2 = []\n",
    "for a in ans_1:\n",
    "    ans_2.append(''.join(a))\n",
    "sorted(ans_2)[-1]\n",
    "\n",
    "\n",
    "#런타임 에러\n"
   ]
  },
  {
   "cell_type": "code",
   "execution_count": 75,
   "metadata": {},
   "outputs": [],
   "source": []
  },
  {
   "cell_type": "code",
   "execution_count": 12,
   "metadata": {},
   "outputs": [
    {
     "name": "stdout",
     "output_type": "stream",
     "text": [
      "초기상태 스택 : [([3], [0]), ([30], [1]), ([34], [2]), ([5], [3]), ([9], [4])]\n",
      "9534330\n"
     ]
    }
   ],
   "source": [
    "#스택을 이용하여 순열 구하기.\n",
    "numbers = [3,30,34,5,9]\n",
    "n = len(numbers)\n",
    "\n",
    "permutations = []\n",
    "stack = [([x],[i]) for i, x in enumerate(numbers)]\n",
    "print('초기상태 스택 :', stack)\n",
    "\n",
    "while stack:\n",
    "    per, idx_list = stack.pop()\n",
    "    \n",
    "    #n개를 모두 뽑은 경우 순열을 추가한 후 continue\n",
    "    if len(per) == n:\n",
    "        permutations.append(per)\n",
    "        continue\n",
    "        \n",
    "    #n개를 뽑지 않은 경우\n",
    "    for i in range(len(numbers)):\n",
    "        #뽑은 인덱스리스트에 포함되지 않은 경우 추가\n",
    "        if i not in idx_list:\n",
    "            stack.append((per+[numbers[i]], idx_list+[i]))\n",
    "            \n",
    "list_1 = []\n",
    "list_2 = []\n",
    "for p in sorted(permutations):\n",
    "    list_1.append(list(map(str, p)))\n",
    "for x in list_1:\n",
    "    list_2.append(''.join(x))\n",
    "\n",
    "print(sorted(list_2)[-1])\n",
    "\n",
    "##런타임 에러"
   ]
  },
  {
   "cell_type": "code",
   "execution_count": 1,
   "metadata": {},
   "outputs": [
    {
     "data": {
      "text/plain": [
       "'9534330'"
      ]
     },
     "execution_count": 1,
     "metadata": {},
     "output_type": "execute_result"
    }
   ],
   "source": [
    "#재귀함수를 이용하여 순열 구하기. 5P4\n",
    "numbers = [3,30,34,5,9]\n",
    "\n",
    "\n",
    "def perm(lst, n):\n",
    "    result = []\n",
    "    if n > len(lst):\n",
    "        return result\n",
    "\n",
    "    if n == 1:\n",
    "        for i in lst:\n",
    "            result.append([i])\n",
    "\n",
    "    elif n > 1:\n",
    "        for i in range(len(lst)):\n",
    "            temp = [i for i in lst]\n",
    "            temp.remove(lst[i])\n",
    "            for p in perm(temp, n - 1):\n",
    "                result.append([lst[i]] + p)\n",
    "\n",
    "    return result  \n",
    "\n",
    "list_1 = []\n",
    "list_2 = []\n",
    "for p in (perm(numbers, len(numbers))):\n",
    "    list_1.append(list(map(str, p)))\n",
    "for x in list_1:\n",
    "    list_2.append(''.join(x))\n",
    "\n",
    "#최대값 호출\n",
    "sorted(list_2)[-1]\n",
    "\n",
    "#런타임 에러\n"
   ]
  },
  {
   "cell_type": "code",
   "execution_count": null,
   "metadata": {},
   "outputs": [],
   "source": []
  },
  {
   "cell_type": "code",
   "execution_count": 17,
   "metadata": {},
   "outputs": [
    {
     "name": "stdout",
     "output_type": "stream",
     "text": [
      "[1, 2, 3, 4]\n",
      "['1', '2', '3', '4']\n"
     ]
    }
   ],
   "source": [
    "#메모\n",
    "list_str = ['1','2','3','4']\n",
    "list_int = list(map(int, list_str)) # 정수로 변환\n",
    "list_str2 = list(map(str, list_int)) # 다시 문자열로 변환\n",
    "\n",
    "print(list_int)\n",
    "print(list_str2)"
   ]
  },
  {
   "cell_type": "code",
   "execution_count": null,
   "metadata": {},
   "outputs": [],
   "source": [
    "#정렬에 대한 재정의\n",
    "numbers = [3, 30, 34, 5, 9]\n",
    "\n",
    "numbers = list(map(str,numbers))\n",
    "\n",
    "numbers = sorted(numbers)\n",
    "\n",
    "\n",
    "ans = ''\n",
    "n = len(numbers)-1\n",
    "\n",
    "def compare(a, b):\n",
    "        c = int(a+b)\n",
    "        d = int(b+a)\n",
    "        if (c >= d):\n",
    "            return True\n",
    "        else:\n",
    "            return False\n",
    "               \n",
    "for i in range(n):\n",
    "    if (compare(numbers[0], numbers[1])):\n",
    "        ans = (numbers[0] + numbers[1])\n",
    "        del numbers[0]\n",
    "        del numbers[0]\n",
    "        numbers.insert(0, ans)\n",
    "        ans = ''\n",
    "    else:\n",
    "        ans = (numbers[1] + numbers[0])\n",
    "        del numbers[0]\n",
    "        del numbers[0]\n",
    "        numbers.insert(0, ans)\n",
    "        ans = ''\n",
    "\n",
    "print(numbers)\n",
    "    "
   ]
  },
  {
   "cell_type": "code",
   "execution_count": null,
   "metadata": {},
   "outputs": [],
   "source": [
    "def solution(numbers):\n",
    "    # 1. 모든 수를 문자열로 변환\n",
    "    numbers = list(map(str, numbers))\n",
    "\n",
    "    # 2. x+y와 y+x를 비교하여 정렬\n",
    "    numbers.sort(key=lambda x: (x * 4)[:4], reverse=True)\n",
    "    # 문제 제약조건 최대 4자리\n",
    "    # 3. 정렬된 numbers를 이어붙인 뒤 반환\n",
    "    answer = ''.join(numbers)\n",
    "\n",
    "    # 0이 여러개일 경우, \"000\" 대신 \"0\"을 반환하도록 예외처리\n",
    "    if answer[0] == '0':\n",
    "        return '0'\n",
    "    else:\n",
    "        return answer\n",
    "    \n",
    "solution([2,6,10])"
   ]
  },
  {
   "cell_type": "code",
   "execution_count": null,
   "metadata": {},
   "outputs": [],
   "source": []
  }
 ],
 "metadata": {
  "kernelspec": {
   "display_name": "Python 3",
   "language": "python",
   "name": "python3"
  },
  "language_info": {
   "codemirror_mode": {
    "name": "ipython",
    "version": 3
   },
   "file_extension": ".py",
   "mimetype": "text/x-python",
   "name": "python",
   "nbconvert_exporter": "python",
   "pygments_lexer": "ipython3",
   "version": "3.8.3"
  }
 },
 "nbformat": 4,
 "nbformat_minor": 4
}
