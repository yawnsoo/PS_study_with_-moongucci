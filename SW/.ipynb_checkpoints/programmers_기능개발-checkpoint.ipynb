{
 "cells": [
  {
   "cell_type": "code",
   "execution_count": 99,
   "metadata": {},
   "outputs": [],
   "source": [
    "progresses = [93, 30, 55]\n",
    "speeds = [1, 30, 5]\n",
    "\n",
    "answer = []"
   ]
  },
  {
   "cell_type": "code",
   "execution_count": 100,
   "metadata": {},
   "outputs": [
    {
     "name": "stdout",
     "output_type": "stream",
     "text": [
      "[2, 1]\n"
     ]
    }
   ],
   "source": [
    "def solution(progresses, speeds):\n",
    "    answer = []\n",
    "    days = 0 # 날짜 세기\n",
    "    cnt = 0 # 완료된 기능\n",
    "    while len(progresses) > 0:\n",
    "    \t# 기능의 진행상황과 그 동안 지난 날짜만큼의 speed를 구해서 더하기\n",
    "        if(progresses[0]+days*speeds[0])>=100:\n",
    "            # 완료되면 리스트에서 제거\n",
    "            progresses.pop(0)\n",
    "            speeds.pop(0)\n",
    "            # 완료된 기능 수\n",
    "            cnt += 1\n",
    "        else:\n",
    "        \t# 만약 완료된 기능이 있다면 answer에 더해주고 0으로 초기화\n",
    "            if cnt > 0:\n",
    "                answer.append(cnt)\n",
    "                cnt = 0\n",
    "            # 완료된 기능이 없으면 days 추가\n",
    "            else:\n",
    "                days+=1\n",
    "    answer.append(cnt)\n",
    "    return answer"
   ]
  },
  {
   "cell_type": "code",
   "execution_count": null,
   "metadata": {},
   "outputs": [],
   "source": []
  }
 ],
 "metadata": {
  "kernelspec": {
   "display_name": "Python 3",
   "language": "python",
   "name": "python3"
  },
  "language_info": {
   "codemirror_mode": {
    "name": "ipython",
    "version": 3
   },
   "file_extension": ".py",
   "mimetype": "text/x-python",
   "name": "python",
   "nbconvert_exporter": "python",
   "pygments_lexer": "ipython3",
   "version": "3.8.3"
  }
 },
 "nbformat": 4,
 "nbformat_minor": 4
}
