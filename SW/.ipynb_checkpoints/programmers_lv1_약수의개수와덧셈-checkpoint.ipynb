{
 "cells": [
  {
   "cell_type": "code",
   "execution_count": 22,
   "metadata": {},
   "outputs": [],
   "source": [
    "left = 13\n",
    "right = 17"
   ]
  },
  {
   "cell_type": "code",
   "execution_count": 23,
   "metadata": {},
   "outputs": [],
   "source": [
    "def yaksu(n):\n",
    "    yak = []\n",
    "    for i in range(1, n+1):\n",
    "        if (n % i) == 0:\n",
    "            yak.append(i)\n",
    "        else:\n",
    "            pass\n",
    "    num = 0    \n",
    "    if len(yak) % 2 == 0:\n",
    "        num = max(yak)\n",
    "    else:\n",
    "        num = -max(yak)\n",
    "    return num"
   ]
  },
  {
   "cell_type": "code",
   "execution_count": 24,
   "metadata": {},
   "outputs": [],
   "source": [
    "answer = 0\n",
    "for x in range(left, right+1):\n",
    "    answer += yaksu(x)"
   ]
  },
  {
   "cell_type": "code",
   "execution_count": null,
   "metadata": {},
   "outputs": [],
   "source": []
  }
 ],
 "metadata": {
  "kernelspec": {
   "display_name": "Python 3",
   "language": "python",
   "name": "python3"
  },
  "language_info": {
   "codemirror_mode": {
    "name": "ipython",
    "version": 3
   },
   "file_extension": ".py",
   "mimetype": "text/x-python",
   "name": "python",
   "nbconvert_exporter": "python",
   "pygments_lexer": "ipython3",
   "version": "3.8.3"
  }
 },
 "nbformat": 4,
 "nbformat_minor": 4
}
