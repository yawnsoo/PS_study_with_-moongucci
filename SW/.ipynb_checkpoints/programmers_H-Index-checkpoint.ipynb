{
 "cells": [
  {
   "cell_type": "code",
   "execution_count": 9,
   "metadata": {},
   "outputs": [
    {
     "data": {
      "text/plain": [
       "[3, 1]"
      ]
     },
     "execution_count": 9,
     "metadata": {},
     "output_type": "execute_result"
    }
   ],
   "source": [
    "citations = [3,0,6,1,5]\n",
    "\n",
    "item_list = []\n",
    "\n",
    "for item in citations:\n",
    "    if (item >= 1):\n",
    "        cnt_over = 0\n",
    "        cnt_under = 0\n",
    "        for i in range(len(citations)):\n",
    "            if (citations[i] >= item):\n",
    "                cnt_over += 1\n",
    "            if (citations[i] <= item):\n",
    "                cnt_under += 1\n",
    "        if (cnt_over >= item & cnt_under <= item): ### h + (n - h) = n\n",
    "            item_list.append(item)\n",
    "        \n",
    "    else:\n",
    "        pass\n",
    "\n",
    "item_list"
   ]
  },
  {
   "cell_type": "code",
   "execution_count": 17,
   "metadata": {},
   "outputs": [],
   "source": [
    "citations = [3, 0, 6, 1, 5]\n",
    "\n",
    "def solution(citations):\n",
    "    citations.sort()\n",
    "\n",
    "\n",
    "    N = len(citations)\n",
    "\n",
    "    for i in range(N):\n",
    "        if (citations[i] >= N - i): # i번째 이후의 N-i 편의 논문들은 전부 i번째의 논문보다 인용횟수가 큼을 이용\n",
    "            return N-i\n",
    "\n",
    "    return 0"
   ]
  },
  {
   "cell_type": "code",
   "execution_count": null,
   "metadata": {},
   "outputs": [],
   "source": []
  }
 ],
 "metadata": {
  "kernelspec": {
   "display_name": "Python 3",
   "language": "python",
   "name": "python3"
  },
  "language_info": {
   "codemirror_mode": {
    "name": "ipython",
    "version": 3
   },
   "file_extension": ".py",
   "mimetype": "text/x-python",
   "name": "python",
   "nbconvert_exporter": "python",
   "pygments_lexer": "ipython3",
   "version": "3.8.3"
  }
 },
 "nbformat": 4,
 "nbformat_minor": 4
}
