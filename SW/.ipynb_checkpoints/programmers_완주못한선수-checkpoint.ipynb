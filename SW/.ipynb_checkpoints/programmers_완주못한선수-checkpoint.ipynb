{
 "cells": [
  {
   "cell_type": "code",
   "execution_count": 16,
   "metadata": {},
   "outputs": [],
   "source": [
    "participant = [\"mislav\", \"stanko\", \"mislav\", \"ana\"]\n",
    "completion = [\"stanko\", \"ana\", \"mislav\"]"
   ]
  },
  {
   "cell_type": "code",
   "execution_count": 39,
   "metadata": {},
   "outputs": [],
   "source": [
    "play = {}\n",
    "for man in participant:\n",
    "    play[man]=0\n",
    "\n",
    "for man in participant:\n",
    "    play[man]+=1\n",
    "for man in completion:\n",
    "    play[man]-=1   \n",
    "\n",
    "answer = [k for k ,v in play.items() if v == 1][0]"
   ]
  },
  {
   "cell_type": "code",
   "execution_count": null,
   "metadata": {},
   "outputs": [],
   "source": []
  }
 ],
 "metadata": {
  "kernelspec": {
   "display_name": "Python 3",
   "language": "python",
   "name": "python3"
  },
  "language_info": {
   "codemirror_mode": {
    "name": "ipython",
    "version": 3
   },
   "file_extension": ".py",
   "mimetype": "text/x-python",
   "name": "python",
   "nbconvert_exporter": "python",
   "pygments_lexer": "ipython3",
   "version": "3.8.3"
  }
 },
 "nbformat": 4,
 "nbformat_minor": 4
}
