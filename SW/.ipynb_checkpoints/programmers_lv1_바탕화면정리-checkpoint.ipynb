{
 "cells": [
  {
   "cell_type": "code",
   "execution_count": 34,
   "metadata": {},
   "outputs": [],
   "source": [
    "wallpaper =[\"..........\", \".....#....\", \"......##..\", \"...##.....\", \"....#.....\"]"
   ]
  },
  {
   "cell_type": "code",
   "execution_count": 37,
   "metadata": {},
   "outputs": [
    {
     "name": "stdout",
     "output_type": "stream",
     "text": [
      "[1, 3, 5, 8]\n"
     ]
    }
   ],
   "source": [
    "dx = [] # 세로\n",
    "dy = [] # 가로\n",
    "\n",
    "for k,v in enumerate(wallpaper):\n",
    "    if '#' in v:\n",
    "        dx.append(k)\n",
    "    for j,q in enumerate(v):\n",
    "        if q =='#':\n",
    "            dy.append(j)\n",
    "            \n",
    "\n",
    "lux = min(dx)\n",
    "luy = min(dy)\n",
    "rdx = max(dx)+1\n",
    "rdy = max(dy)+1\n",
    "answer = [lux,luy, rdx, rdy]\n",
    "print(answer)"
   ]
  },
  {
   "cell_type": "code",
   "execution_count": null,
   "metadata": {},
   "outputs": [],
   "source": []
  },
  {
   "cell_type": "code",
   "execution_count": null,
   "metadata": {},
   "outputs": [],
   "source": []
  },
  {
   "cell_type": "code",
   "execution_count": null,
   "metadata": {},
   "outputs": [],
   "source": []
  }
 ],
 "metadata": {
  "kernelspec": {
   "display_name": "Python 3",
   "language": "python",
   "name": "python3"
  },
  "language_info": {
   "codemirror_mode": {
    "name": "ipython",
    "version": 3
   },
   "file_extension": ".py",
   "mimetype": "text/x-python",
   "name": "python",
   "nbconvert_exporter": "python",
   "pygments_lexer": "ipython3",
   "version": "3.8.3"
  }
 },
 "nbformat": 4,
 "nbformat_minor": 4
}
