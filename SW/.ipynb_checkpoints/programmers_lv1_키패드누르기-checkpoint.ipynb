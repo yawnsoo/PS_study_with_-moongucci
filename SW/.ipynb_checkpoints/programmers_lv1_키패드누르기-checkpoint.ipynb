{
 "cells": [
  {
   "cell_type": "code",
   "execution_count": 43,
   "metadata": {},
   "outputs": [],
   "source": [
    "numbers = [1, 3, 4, 5, 8, 2, 1, 4, 5, 9, 5]\n",
    "\n",
    "hand = 'right'"
   ]
  },
  {
   "cell_type": "code",
   "execution_count": 44,
   "metadata": {},
   "outputs": [],
   "source": [
    "import math\n",
    "\n",
    "answer = ''\n",
    "l_now = 4\n",
    "r_now = 4\n",
    "for x in numbers:\n",
    "    if x == 1 or x == 4 or x ==7:\n",
    "        answer += 'L'\n",
    "        l_now = math.ceil(math.sqrt(x))\n",
    "    elif x == 3 or x == 6 or x ==9:\n",
    "        answer += 'R'\n",
    "        r_now = int(x/3)\n",
    "    else:\n",
    "        if l_now == 4 and r_now == 4:\n",
    "            answer += hand[0].upper()\n",
    "        else:\n",
    "            if x == 2:\n",
    "                if l_now < r_now:\n",
    "                    answer += 'L'\n",
    "                elif l_now > r_now:\n",
    "                    answer += 'R'\n",
    "                else:\n",
    "                    answer += hand[0].upper()\n",
    "                \n",
    "            elif x == 5:\n",
    "                if abs(l_now-2) > abs(r_now-2):\n",
    "                    answer += 'R'\n",
    "                elif abs(l_now-2) < abs(r_now-2):\n",
    "                    answer += 'L'\n",
    "                else:\n",
    "                    answer += hand[0].upper()\n",
    "                    \n",
    "            elif x == 8:\n",
    "                if abs(l_now-3) > abs(r_now-3):\n",
    "                    answer += 'R'\n",
    "                elif abs(l_now-3) < abs(r_now-3):\n",
    "                    answer += 'L'\n",
    "                else:\n",
    "                    answer += hand[0].upper()\n",
    "            else:\n",
    "                if abs(l_now-4) > abs(r_now-4):\n",
    "                    answer += 'R'\n",
    "                elif abs(l_now-4) < abs(r_now-4):\n",
    "                    answer += 'L'\n",
    "                else:\n",
    "                    answer += hand[0].upper()\n",
    "                "
   ]
  },
  {
   "cell_type": "code",
   "execution_count": 45,
   "metadata": {},
   "outputs": [
    {
     "data": {
      "text/plain": [
       "'LRLLLRLLLRL'"
      ]
     },
     "execution_count": 45,
     "metadata": {},
     "output_type": "execute_result"
    }
   ],
   "source": [
    "answer"
   ]
  },
  {
   "cell_type": "code",
   "execution_count": null,
   "metadata": {},
   "outputs": [],
   "source": [
    "### 층으로 접근 X.\n",
    "### L 과 R의 위치를 저장해가며 순간마다 계산\n",
    "\n"
   ]
  },
  {
   "cell_type": "code",
   "execution_count": 21,
   "metadata": {},
   "outputs": [],
   "source": [
    "# L. R 현재 키패드의 위치 추적.\n",
    "\n",
    "# for문 돌때마다 거리비교.\n",
    "\n",
    "numbers = [7, 0, 8, 2, 8, 3, 1, 5, 7, 6, 2]\n",
    "hand = 'right'\n",
    "\n",
    "l_now = '*'\n",
    "r_low = '#'"
   ]
  },
  {
   "cell_type": "code",
   "execution_count": 22,
   "metadata": {},
   "outputs": [
    {
     "data": {
      "text/plain": [
       "True"
      ]
     },
     "execution_count": 22,
     "metadata": {},
     "output_type": "execute_result"
    }
   ],
   "source": [
    "type(l_now) == str"
   ]
  },
  {
   "cell_type": "code",
   "execution_count": 26,
   "metadata": {},
   "outputs": [],
   "source": [
    "# 키패드 마다 좌표를 dictionary로 생성. 거리비교 가능"
   ]
  },
  {
   "cell_type": "code",
   "execution_count": 47,
   "metadata": {},
   "outputs": [],
   "source": [
    "arr = []\n",
    "for i in range(3):\n",
    "    for j in range(3):\n",
    "        arr.append([i,j])\n",
    "\n",
    "key_pad = {}\n",
    "for x in range(1,10):\n",
    "    key_pad[x] = (0,0)\n",
    "key_pad['*'] = [3,0]\n",
    "key_pad[0] = [3,1]\n",
    "key_pad['#'] = [3,2]\n",
    "\n",
    "for i in range(1,10):\n",
    "    key_pad[i] = arr[i-1]\n",
    "\n",
    "answer = ''\n",
    "\n",
    "for x in numbers:\n",
    "    \n",
    "    if x == 1 or x == 4 or x == 7:\n",
    "        l_now = x\n",
    "        answer += 'L'\n",
    "    elif x == 3 or x== 6 or  x==9:\n",
    "        r_now = x\n",
    "        answer += 'R'\n",
    "    else:\n",
    "#         #현재 L 위치\n",
    "#         key_pad[l_now][0], key_pad[l_now][1]\n",
    "#         해당 위치\n",
    "#         key_pad[x][0], key_pad[x][1]\n",
    "        # 왼손과 해당 거리가 더 멀면 \n",
    "\n",
    "        if abs(key_pad[l_now][0]-key_pad[x][0]) + abs(key_pad[l_now][1]-key_pad[x][1]) > abs(key_pad[r_now][0]-key_pad[x][0]) + abs(key_pad[r_now][1]-key_pad[x][1]):\n",
    "            r_now = x\n",
    "            answer += 'R'\n",
    "        elif abs(key_pad[l_now][0]-key_pad[x][0]) + abs(key_pad[l_now][1]-key_pad[x][1]) < abs(key_pad[r_now][0]-key_pad[x][0]) + abs(key_pad[r_now][1]-key_pad[x][1]):\n",
    "            l_now = x\n",
    "            answer += 'L'\n",
    "        #같으면\n",
    "        else:\n",
    "            if hand == 'right':\n",
    "                r_now = x\n",
    "                answer += 'R'\n",
    "            else:\n",
    "                l_now = x\n",
    "                answer += 'L'"
   ]
  },
  {
   "cell_type": "code",
   "execution_count": 67,
   "metadata": {},
   "outputs": [
    {
     "data": {
      "text/plain": [
       "'LLLRLRLRLRR'"
      ]
     },
     "execution_count": 67,
     "metadata": {},
     "output_type": "execute_result"
    }
   ],
   "source": [
    "answer"
   ]
  },
  {
   "cell_type": "code",
   "execution_count": 68,
   "metadata": {},
   "outputs": [
    {
     "data": {
      "text/plain": [
       "2"
      ]
     },
     "execution_count": 68,
     "metadata": {},
     "output_type": "execute_result"
    }
   ],
   "source": [
    "key_pad[l_now][0]"
   ]
  },
  {
   "cell_type": "code",
   "execution_count": null,
   "metadata": {},
   "outputs": [],
   "source": []
  },
  {
   "cell_type": "code",
   "execution_count": null,
   "metadata": {},
   "outputs": [],
   "source": []
  }
 ],
 "metadata": {
  "kernelspec": {
   "display_name": "Python 3",
   "language": "python",
   "name": "python3"
  },
  "language_info": {
   "codemirror_mode": {
    "name": "ipython",
    "version": 3
   },
   "file_extension": ".py",
   "mimetype": "text/x-python",
   "name": "python",
   "nbconvert_exporter": "python",
   "pygments_lexer": "ipython3",
   "version": "3.8.3"
  }
 },
 "nbformat": 4,
 "nbformat_minor": 4
}
