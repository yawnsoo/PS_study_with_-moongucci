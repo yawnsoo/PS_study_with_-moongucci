{
 "cells": [
  {
   "cell_type": "code",
   "execution_count": 55,
   "metadata": {},
   "outputs": [
    {
     "name": "stdout",
     "output_type": "stream",
     "text": [
      "[1, 0, 2, 0, 1]\n"
     ]
    },
    {
     "data": {
      "text/plain": [
       "4"
      ]
     },
     "execution_count": 55,
     "metadata": {},
     "output_type": "execute_result"
    }
   ],
   "source": [
    "n = 5\n",
    "lost = [2,4]\n",
    "reserve = [3]\n",
    "\n",
    "l = [1 for _ in range(n)]\n",
    "\n",
    "\n",
    "for x in lost:\n",
    "    l[x-1] = 0\n",
    "\n",
    "for i in reserve:\n",
    "    l[i-1] += 1\n",
    "print(l)\n",
    "    \n",
    "N = n-1    \n",
    "\n",
    "if l[0] == 2 and l[1] < 2: #앞에 상황 되면 주기\n",
    "        l[0] -= 1\n",
    "        l[1] += 1\n",
    "        \n",
    "if l[N] == 2 and l[N-1] < 2: #뒤에 상황 되면 주기\n",
    "        l[N] -= 1\n",
    "        l[N-1] += 1        \n",
    "        \n",
    "for i in range(1, N):\n",
    "    if (l[i] == 2 and (l[i-1] == 0 or l[i+1] == 0)):\n",
    "        if l[i-1] ==0:\n",
    "            l[i-1] +=1\n",
    "            l[i] -= 1\n",
    "        elif l[i+1] ==0:\n",
    "            l[i+1] +=1\n",
    "            l[i] -= 1\n",
    "\n",
    "for idx, x in enumerate(l):\n",
    "    if x==2 or x==3:\n",
    "        l[idx] = 1\n",
    "\n",
    "sum(l)\n",
    "\n",
    "#test case 8,12 실패"
   ]
  },
  {
   "cell_type": "code",
   "execution_count": 78,
   "metadata": {},
   "outputs": [
    {
     "name": "stdout",
     "output_type": "stream",
     "text": [
      "[2, 1, 0]\n",
      "[1, 1, 0]\n"
     ]
    }
   ],
   "source": [
    "n = 3\n",
    "lost = [3]\n",
    "reserve = [1]\n",
    "\n",
    "l = [1 for _ in range(n)]\n",
    "\n",
    "for i in lost:\n",
    "    l[i-1] = 0\n",
    "    \n",
    "for i in reserve:\n",
    "    l[i-1] += 1\n",
    "\n",
    "print(l)    \n",
    "    \n",
    "if l[0] == 2 and l[1] < 2:\n",
    "        l[0] -= 1\n",
    "        l[1] += 1\n",
    "\n",
    "for i in reserve:\n",
    "    if (l[i-1] == 2 and (l[i-2] == 0 or l[i] == 0)):\n",
    "        if l[i-2] ==0:\n",
    "            l[i-2] +=1\n",
    "            l[i-1] -= 1\n",
    "        elif l[i] ==0:\n",
    "            l[i] +=1\n",
    "            l[i-1] -= 1\n",
    "            \n",
    "for idx, x in enumerate(l):\n",
    "    if x==2 or x==3:\n",
    "        l[idx] = 1\n",
    "print(l)"
   ]
  },
  {
   "cell_type": "code",
   "execution_count": null,
   "metadata": {},
   "outputs": [],
   "source": []
  },
  {
   "cell_type": "code",
   "execution_count": null,
   "metadata": {},
   "outputs": [],
   "source": []
  }
 ],
 "metadata": {
  "kernelspec": {
   "display_name": "Python 3",
   "language": "python",
   "name": "python3"
  },
  "language_info": {
   "codemirror_mode": {
    "name": "ipython",
    "version": 3
   },
   "file_extension": ".py",
   "mimetype": "text/x-python",
   "name": "python",
   "nbconvert_exporter": "python",
   "pygments_lexer": "ipython3",
   "version": "3.8.3"
  }
 },
 "nbformat": 4,
 "nbformat_minor": 4
}
