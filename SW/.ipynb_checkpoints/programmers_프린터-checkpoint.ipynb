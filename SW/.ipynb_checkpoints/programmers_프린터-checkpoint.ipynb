{
 "cells": [
  {
   "cell_type": "code",
   "execution_count": 11,
   "metadata": {},
   "outputs": [],
   "source": [
    "priorities = [2, 1, 3, 2]\n",
    "location = 2"
   ]
  },
  {
   "cell_type": "code",
   "execution_count": 12,
   "metadata": {},
   "outputs": [],
   "source": [
    "target = priorities[location]"
   ]
  },
  {
   "cell_type": "code",
   "execution_count": 25,
   "metadata": {
    "scrolled": true
   },
   "outputs": [
    {
     "ename": "ValueError",
     "evalue": "max() arg is an empty sequence",
     "output_type": "error",
     "traceback": [
      "\u001b[1;31m---------------------------------------------------------------------------\u001b[0m",
      "\u001b[1;31mValueError\u001b[0m                                Traceback (most recent call last)",
      "\u001b[1;32m<ipython-input-25-39ad0b9a105c>\u001b[0m in \u001b[0;36m<module>\u001b[1;34m\u001b[0m\n\u001b[0;32m     13\u001b[0m \u001b[1;33m\u001b[0m\u001b[0m\n\u001b[0;32m     14\u001b[0m     \u001b[0ma\u001b[0m \u001b[1;33m=\u001b[0m \u001b[0mq\u001b[0m\u001b[1;33m.\u001b[0m\u001b[0mpopleft\u001b[0m\u001b[1;33m(\u001b[0m\u001b[1;33m)\u001b[0m\u001b[1;33m\u001b[0m\u001b[1;33m\u001b[0m\u001b[0m\n\u001b[1;32m---> 15\u001b[1;33m     \u001b[0mb\u001b[0m \u001b[1;33m=\u001b[0m \u001b[0mmax\u001b[0m\u001b[1;33m(\u001b[0m\u001b[0mq\u001b[0m\u001b[1;33m)\u001b[0m\u001b[1;33m\u001b[0m\u001b[1;33m\u001b[0m\u001b[0m\n\u001b[0m\u001b[0;32m     16\u001b[0m     \u001b[1;32mif\u001b[0m \u001b[1;33m(\u001b[0m\u001b[0ma\u001b[0m \u001b[1;33m>=\u001b[0m \u001b[0mb\u001b[0m\u001b[1;33m)\u001b[0m \u001b[1;33m:\u001b[0m \u001b[1;31m#나머지 목록 탐색 후 중요도 높은게 하나라도 있으면 맨 뒤로 보내기 / 아니라면 그대로 두기\u001b[0m\u001b[1;33m\u001b[0m\u001b[1;33m\u001b[0m\u001b[0m\n\u001b[0;32m     17\u001b[0m         \u001b[0msub\u001b[0m\u001b[1;33m.\u001b[0m\u001b[0mappend\u001b[0m\u001b[1;33m(\u001b[0m\u001b[0ma\u001b[0m\u001b[1;33m)\u001b[0m\u001b[1;33m\u001b[0m\u001b[1;33m\u001b[0m\u001b[0m\n",
      "\u001b[1;31mValueError\u001b[0m: max() arg is an empty sequence"
     ]
    }
   ],
   "source": [
    "from collections import deque\n",
    "\n",
    "\n",
    "q = deque(priorities)\n",
    "\n",
    "sub = deque()\n",
    "\n",
    "N = len(priorities)\n",
    "\n",
    "\n",
    "while ( N > 0):\n",
    "# 가장 앞에 있는 문서 꺼내기\n",
    "\n",
    "    a = q.popleft() \n",
    "    b = max(q)\n",
    "    if (a >= b) : #나머지 목록 탐색 후 중요도 높은게 하나라도 있으면 맨 뒤로 보내기 / 아니라면 그대로 두기\n",
    "        sub.append(a)\n",
    "        pass\n",
    "    else :\n",
    "        priorities.append(a)\n",
    "    N -= 1\n",
    "        \n",
    "\n",
    "#     a = q.popleft()\n",
    "#     if (a >= max(q)):\n",
    "#         l.append(a)\n",
    "#     else:\n",
    "#         l.appendleft(a)\n",
    "\n",
    "\n",
    "#출력 순서 return 해보기"
   ]
  },
  {
   "cell_type": "code",
   "execution_count": 94,
   "metadata": {},
   "outputs": [],
   "source": [
    "priorities = [1, 1, 9, 1, 1, 1]\n",
    "location = 0"
   ]
  },
  {
   "cell_type": "code",
   "execution_count": 95,
   "metadata": {},
   "outputs": [
    {
     "name": "stdout",
     "output_type": "stream",
     "text": [
      "5\n"
     ]
    }
   ],
   "source": [
    "queue = [(i,p) for i, p in enumerate(priorities)]\n",
    "answer = 0 # N번째 출력임을 저장하는 변수\n",
    "\n",
    "while True:\n",
    "    tmp = queue.pop(0) #첫 번째 원소\n",
    "    if any(tmp[1] < q[1] for q in queue): # 가 다른 원소들보다 작으면 \n",
    "        queue.append(tmp) #후순위 이동 . 반복\n",
    "    else:\n",
    "        answer += 1 #첫 번째 원소가 제일 크다면\n",
    "        if (tmp[0] == location): # 인쇄 요청 되었을 때 인덱스가 원하는 location이면\n",
    "            print(answer) #인쇄 요청 및 출력됨\n",
    "            break\n",
    "            \n",
    "            \n",
    "            #priorities = [1, 1, 9, 1, 1, 1]\n",
    "            #일 때\n",
    "            # p[0] = 1 뒤로가기\n",
    "            # p[1] = 1 뒤로가기\n",
    "            #p[2] = 9 출력 (1번째 출력)\n",
    "            # p[3] = 1 출력 (2번째 출력)\n",
    "            # p[4] = 1 출력 (3번째 출력)\n",
    "            #p[5] = 1 출력 (4번째 출력)\n",
    "            #p[0] = 1가 뒤로 와서 붙어 1 출력 (5번째 출력)\n",
    "            \n",
    "            #location = 0 이었으므로 p[0]는 5번째로 인쇄. return"
   ]
  },
  {
   "cell_type": "code",
   "execution_count": null,
   "metadata": {},
   "outputs": [],
   "source": []
  },
  {
   "cell_type": "code",
   "execution_count": null,
   "metadata": {},
   "outputs": [],
   "source": []
  }
 ],
 "metadata": {
  "kernelspec": {
   "display_name": "Python 3",
   "language": "python",
   "name": "python3"
  },
  "language_info": {
   "codemirror_mode": {
    "name": "ipython",
    "version": 3
   },
   "file_extension": ".py",
   "mimetype": "text/x-python",
   "name": "python",
   "nbconvert_exporter": "python",
   "pygments_lexer": "ipython3",
   "version": "3.8.3"
  }
 },
 "nbformat": 4,
 "nbformat_minor": 4
}
