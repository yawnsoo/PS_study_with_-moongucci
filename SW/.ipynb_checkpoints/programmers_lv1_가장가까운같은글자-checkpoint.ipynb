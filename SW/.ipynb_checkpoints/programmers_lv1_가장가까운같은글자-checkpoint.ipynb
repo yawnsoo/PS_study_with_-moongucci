{
 "cells": [
  {
   "cell_type": "code",
   "execution_count": 72,
   "metadata": {},
   "outputs": [],
   "source": [
    "s = \"foobar\"\n",
    "\n",
    "answer = []\n",
    "\n",
    "check = list(s)\n",
    "checked = []\n",
    "\n",
    "\n",
    "for v in check:\n",
    "    # checked 리스트에 없으면 -1 그리고 문자 추가,\n",
    "    if v not in checked:\n",
    "        answer.append(-1)\n",
    "        checked.append(v)\n",
    "    \n",
    "    \n",
    "    #있으면 checked 리스트에서 역순으로 같은 문자 탐색하여 인덱스 차이 계산\n",
    "    else:\n",
    "        for idx, x in enumerate(checked[::-1]):\n",
    "            if x == v:\n",
    "                answer.append(idx+1)\n",
    "                checked.append(v)\n",
    "                break\n",
    "            else:\n",
    "                pass\n",
    "            "
   ]
  },
  {
   "cell_type": "code",
   "execution_count": 73,
   "metadata": {},
   "outputs": [
    {
     "data": {
      "text/plain": [
       "[-1, -1, 1, -1, -1, -1]"
      ]
     },
     "execution_count": 73,
     "metadata": {},
     "output_type": "execute_result"
    }
   ],
   "source": [
    "answer"
   ]
  },
  {
   "cell_type": "code",
   "execution_count": null,
   "metadata": {},
   "outputs": [],
   "source": []
  },
  {
   "cell_type": "code",
   "execution_count": null,
   "metadata": {},
   "outputs": [],
   "source": []
  }
 ],
 "metadata": {
  "kernelspec": {
   "display_name": "Python 3",
   "language": "python",
   "name": "python3"
  },
  "language_info": {
   "codemirror_mode": {
    "name": "ipython",
    "version": 3
   },
   "file_extension": ".py",
   "mimetype": "text/x-python",
   "name": "python",
   "nbconvert_exporter": "python",
   "pygments_lexer": "ipython3",
   "version": "3.8.3"
  }
 },
 "nbformat": 4,
 "nbformat_minor": 4
}
