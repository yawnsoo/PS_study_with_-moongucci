{
 "cells": [
  {
   "cell_type": "code",
   "execution_count": 142,
   "metadata": {},
   "outputs": [],
   "source": [
    "brown = 24\n",
    "yellow = 24"
   ]
  },
  {
   "cell_type": "code",
   "execution_count": 152,
   "metadata": {},
   "outputs": [],
   "source": [
    "width = 0\n",
    "height = 0\n",
    "ans = []\n",
    "\n",
    "def rec(n):\n",
    "    if (n % 2 == 0):\n",
    "        n /= 2\n",
    "        if (n == 1):\n",
    "            return False\n",
    "        else:\n",
    "            pass\n",
    "        recur(n)\n",
    "    else:\n",
    "        return True\n",
    "\n",
    "        #직사각형 판단"
   ]
  },
  {
   "cell_type": "code",
   "execution_count": 153,
   "metadata": {},
   "outputs": [
    {
     "name": "stdout",
     "output_type": "stream",
     "text": [
      "True\n"
     ]
    }
   ],
   "source": [
    "if (yellow % 2 != 0): #yellow가 홀수면\n",
    "    width = yellow + 2\n",
    "    height = 3\n",
    "    if ((width * height) == (brown+yellow)):\n",
    "        ans.append(width)\n",
    "        ans.append(height)\n",
    "elif (rec(yellow)): #가로로 긴 직사각형\n",
    "    width = int(yellow/2) + 2\n",
    "    height = int(yellow / (yellow /2)) +2\n",
    "    if (width * height == brown+yellow):\n",
    "        ans.append(width)\n",
    "        ans.append(height)\n",
    "else : #정사각형\n",
    "    width = yellow\n",
    "    height = yellow\n",
    "    if (width * height == brown+yellow):\n",
    "        ans.append(width)\n",
    "        ans.append(height)\n",
    "        "
   ]
  },
  {
   "cell_type": "code",
   "execution_count": 154,
   "metadata": {},
   "outputs": [
    {
     "data": {
      "text/plain": [
       "[]"
      ]
     },
     "execution_count": 154,
     "metadata": {},
     "output_type": "execute_result"
    }
   ],
   "source": [
    "ans"
   ]
  },
  {
   "cell_type": "code",
   "execution_count": 155,
   "metadata": {},
   "outputs": [],
   "source": [
    "brown = 24\n",
    "yellow = 24"
   ]
  },
  {
   "cell_type": "code",
   "execution_count": 157,
   "metadata": {},
   "outputs": [
    {
     "name": "stdout",
     "output_type": "stream",
     "text": [
      "True\n"
     ]
    }
   ],
   "source": [
    "rec(yellow)"
   ]
  },
  {
   "cell_type": "code",
   "execution_count": null,
   "metadata": {},
   "outputs": [],
   "source": []
  },
  {
   "cell_type": "code",
   "execution_count": 250,
   "metadata": {},
   "outputs": [],
   "source": [
    "def issquare(n):\n",
    "    return int(n**0.5) ** 2 == n\n",
    "\n",
    "brown = 24\n",
    "yellow = 24\n",
    "total = brown+yellow\n",
    "\n",
    "ans = []\n",
    "\n",
    "if (yellow % 2 != 0): #yellow가 홀수면\n",
    "    if (issquare(yellow)): #제곱수이면\n",
    "        width = int(yellow**(0.5))+2\n",
    "        height = width\n",
    "        if (int(width * height) == brown+yellow):\n",
    "            ans.append(width)\n",
    "            ans.append(height)\n",
    "        else:           \n",
    "            width = yellow + 2\n",
    "            hieght = 3\n",
    "            ans.append(width)\n",
    "            ans.append(height)     \n",
    "    else :\n",
    "        width = yellow + 2\n",
    "        height = 3\n",
    "        ans.append(width)\n",
    "        ans.append(height)\n",
    "        \n",
    "else:\n",
    "    for i in range(2,yellow+1,2):\n",
    "        width = int(yellow / i) + 2\n",
    "        height = int(yellow /(yellow / i)) + 2\n",
    "        if (int(width * height) == brown+yellow):\n",
    "            if (width >= height):\n",
    "                ans.append(width)\n",
    "                ans.append(height)   \n",
    "            else:\n",
    "                ans.append(height)\n",
    "                ans.append(width)\n",
    "            break\n",
    "            \n",
    "        else:\n",
    "            pass"
   ]
  },
  {
   "cell_type": "code",
   "execution_count": 251,
   "metadata": {
    "scrolled": true
   },
   "outputs": [
    {
     "data": {
      "text/plain": [
       "[8, 6]"
      ]
     },
     "execution_count": 251,
     "metadata": {},
     "output_type": "execute_result"
    }
   ],
   "source": [
    "ans"
   ]
  },
  {
   "cell_type": "code",
   "execution_count": 282,
   "metadata": {},
   "outputs": [
    {
     "name": "stdout",
     "output_type": "stream",
     "text": [
      "[3, 3]\n"
     ]
    }
   ],
   "source": [
    "brown = 8\n",
    "yellow = 1\n",
    "total = brown+yellow\n",
    "\n",
    "ans = []\n",
    "y_list = []\n",
    "\n",
    "for i in range(1, yellow+1):\n",
    "    if (yellow % i == 0):\n",
    "        y_list.append(i)\n",
    "    else:\n",
    "        pass\n",
    " \n",
    "    \n",
    "if (yellow % 2 != 0):    \n",
    "    width = yellow + 2\n",
    "    hieght = 3\n",
    "    if (int(width * height) == total):\n",
    "        ans.append(width)\n",
    "        ans.append(height)\n",
    "    else:\n",
    "        width = int(yellow**(0.5))+2\n",
    "        height = width\n",
    "        ans.append(width)\n",
    "        ans.append(height)\n",
    "\n",
    "else:\n",
    "    for x in y_list:\n",
    "        width = int(yellow / x) + 2\n",
    "        height = x + 2\n",
    "        if (width * height == total and width >= height):\n",
    "            ans.append(width)\n",
    "            ans.append(height)\n",
    "            break\n",
    "        else:\n",
    "            width = 0\n",
    "            height = 0\n",
    "            pass\n",
    "    \n"
   ]
  },
  {
   "cell_type": "code",
   "execution_count": null,
   "metadata": {},
   "outputs": [],
   "source": [
    "\n"
   ]
  },
  {
   "cell_type": "code",
   "execution_count": null,
   "metadata": {},
   "outputs": [],
   "source": []
  }
 ],
 "metadata": {
  "kernelspec": {
   "display_name": "Python 3",
   "language": "python",
   "name": "python3"
  },
  "language_info": {
   "codemirror_mode": {
    "name": "ipython",
    "version": 3
   },
   "file_extension": ".py",
   "mimetype": "text/x-python",
   "name": "python",
   "nbconvert_exporter": "python",
   "pygments_lexer": "ipython3",
   "version": "3.8.3"
  }
 },
 "nbformat": 4,
 "nbformat_minor": 4
}
