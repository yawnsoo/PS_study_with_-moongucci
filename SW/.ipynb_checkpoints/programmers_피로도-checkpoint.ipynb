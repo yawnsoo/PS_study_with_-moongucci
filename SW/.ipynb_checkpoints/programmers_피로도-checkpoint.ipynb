{
 "cells": [
  {
   "cell_type": "code",
   "execution_count": 110,
   "metadata": {},
   "outputs": [
    {
     "name": "stdout",
     "output_type": "stream",
     "text": [
      "3\n"
     ]
    }
   ],
   "source": [
    "import itertools\n",
    "\n",
    "k = 80\n",
    "dungeons = [[80,20],[50,40],[30,10]]\n",
    "\n",
    "\n",
    "nPr = itertools.permutations(dungeons, len(dungeons))\n",
    "\n",
    "cnt = 0\n",
    "ans = []\n",
    "for lst in nPr:\n",
    "    K = k\n",
    "    for x in lst:\n",
    "        if ( K >= x[0]):\n",
    "            K -= x[1]\n",
    "            cnt += 1\n",
    "        else:\n",
    "            pass\n",
    "    ans.append(cnt)\n",
    "    cnt = 0\n",
    "    \n",
    "print(max(ans))"
   ]
  },
  {
   "cell_type": "code",
   "execution_count": null,
   "metadata": {},
   "outputs": [],
   "source": []
  },
  {
   "cell_type": "code",
   "execution_count": null,
   "metadata": {},
   "outputs": [],
   "source": []
  }
 ],
 "metadata": {
  "kernelspec": {
   "display_name": "Python 3",
   "language": "python",
   "name": "python3"
  },
  "language_info": {
   "codemirror_mode": {
    "name": "ipython",
    "version": 3
   },
   "file_extension": ".py",
   "mimetype": "text/x-python",
   "name": "python",
   "nbconvert_exporter": "python",
   "pygments_lexer": "ipython3",
   "version": "3.8.3"
  }
 },
 "nbformat": 4,
 "nbformat_minor": 4
}
