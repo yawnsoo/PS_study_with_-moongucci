{
 "cells": [
  {
   "cell_type": "code",
   "execution_count": 13,
   "metadata": {},
   "outputs": [
    {
     "data": {
      "text/plain": [
       "{'A': 0,\n",
       " 'B': 1,\n",
       " 'C': 2,\n",
       " 'D': 3,\n",
       " 'E': 4,\n",
       " 'F': 5,\n",
       " 'G': 6,\n",
       " 'H': 7,\n",
       " 'I': 8,\n",
       " 'J': 9,\n",
       " 'K': 10,\n",
       " 'L': 11,\n",
       " 'M': 12,\n",
       " 'N': 13,\n",
       " 'O': 12,\n",
       " 'P': 11,\n",
       " 'Q': 10,\n",
       " 'R': 9,\n",
       " 'S': 8,\n",
       " 'T': 7,\n",
       " 'U': 6,\n",
       " 'V': 5,\n",
       " 'W': 4,\n",
       " 'X': 3,\n",
       " 'Y': 2,\n",
       " 'Z': 1}"
      ]
     },
     "execution_count": 13,
     "metadata": {},
     "output_type": "execute_result"
    }
   ],
   "source": [
    "alpha_dict"
   ]
  },
  {
   "cell_type": "code",
   "execution_count": 18,
   "metadata": {},
   "outputs": [
    {
     "data": {
      "text/plain": [
       "56"
      ]
     },
     "execution_count": 18,
     "metadata": {},
     "output_type": "execute_result"
    }
   ],
   "source": [
    "# 1. A가 아니면 위로. 우측검사\n",
    "# 2.우측이 A이면 왼쪽 커서. 계속 왼쪽탐색\n",
    "# 3. 우측이 A가 아니면 오른쪽 커서. 계속 오른쪽 탐색\n",
    "\n",
    "# name = \"JAZ\"\n",
    "# name = \"JAN\"\n",
    "name = \"JEROEN\"\n",
    "\n",
    "alpha = 'ABCDEFGHIJKLMNOPQRSTUVWXYZ'\n",
    "alpha_list = []\n",
    "for item in alpha:\n",
    "    alpha_list.append(item)\n",
    "\n",
    "num_list = []\n",
    "for i in range(13):\n",
    "    num_list.append(i)\n",
    "\n",
    "for i in range(13,0,-1):\n",
    "    num_list.append(i)\n",
    "\n",
    "# 리스트 두개 합치기 1\n",
    "alpha_dict = {alpha : num for alpha, num in zip(alpha_list, num_list)}\n",
    "\n",
    "# 리스트 두개 합치기 2\n",
    "alpha_dict = dict(zip(alpha_list, num_list))\n",
    "\n",
    "alpha_dict \n",
    "\n",
    "name_list = []\n",
    "for item in name:\n",
    "    name_list.append(item)\n",
    "\n",
    "name_list\n",
    "\n",
    "cnt = 0\n",
    "temp = 0\n",
    "\n",
    "if name_list[-1] == 'A':  # 오른쪽으로 탐색\n",
    "    for i in range(len(name_list)-1):\n",
    "        if name_list[i] != 'A': \n",
    "            cnt += alpha_dict[name_list[i]]\n",
    "            cnt += 1\n",
    "        else:\n",
    "            cnt += 1\n",
    "    cnt -= 1 # 마지막은 갈 필요 없음\n",
    "    \n",
    "elif name_list[1] == 'A': #반대로 탐색\n",
    "    cnt += alpha_dict[name_list[0]] #첫글자\n",
    "    cnt += 1 # 맨 뒤로 이동\n",
    "    for i in range(len(name_list)-1, 1, -1): # 앞에 두개는 이미 위에서 결정\n",
    "        if name_list[i] != 'A': # A가 아니면\n",
    "            cnt += alpha_dict[name_list[i]]\n",
    "            cnt += 1 #앞으로 한 칸 이동\n",
    "        else: #A이면\n",
    "            cnt += alpha_dict[name_list[i]]\n",
    "            cnt += 1 #앞으로 한 칸 이동\n",
    "    cnt -= 1\n",
    "\n",
    "else:\n",
    "    for i in range(len(name_list)):\n",
    "        cnt += alpha_dict[name_list[i]]\n",
    "        cnt += 1\n",
    "    cnt -= 1\n",
    "cnt"
   ]
  },
  {
   "cell_type": "code",
   "execution_count": 11,
   "metadata": {
    "scrolled": true
   },
   "outputs": [
    {
     "name": "stdout",
     "output_type": "stream",
     "text": [
      "Z\n"
     ]
    }
   ],
   "source": [
    "for i in range(len(name_list)-1, 1, -1):\n",
    "    print(name_list[i])"
   ]
  },
  {
   "cell_type": "code",
   "execution_count": 5,
   "metadata": {},
   "outputs": [
    {
     "name": "stdout",
     "output_type": "stream",
     "text": [
      "J\n",
      "A\n",
      "Z\n"
     ]
    }
   ],
   "source": [
    "for i in range(len(name_list)):\n",
    "    print(name_list[i])"
   ]
  },
  {
   "cell_type": "code",
   "execution_count": null,
   "metadata": {},
   "outputs": [],
   "source": []
  }
 ],
 "metadata": {
  "kernelspec": {
   "display_name": "Python 3",
   "language": "python",
   "name": "python3"
  },
  "language_info": {
   "codemirror_mode": {
    "name": "ipython",
    "version": 3
   },
   "file_extension": ".py",
   "mimetype": "text/x-python",
   "name": "python",
   "nbconvert_exporter": "python",
   "pygments_lexer": "ipython3",
   "version": "3.8.3"
  }
 },
 "nbformat": 4,
 "nbformat_minor": 4
}
