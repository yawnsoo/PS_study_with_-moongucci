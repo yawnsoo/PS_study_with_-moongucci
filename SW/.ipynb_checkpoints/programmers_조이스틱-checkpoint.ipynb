{
 "cells": [
  {
   "cell_type": "code",
   "execution_count": 13,
   "metadata": {},
   "outputs": [
    {
     "data": {
      "text/plain": [
       "{'A': 0,\n",
       " 'B': 1,\n",
       " 'C': 2,\n",
       " 'D': 3,\n",
       " 'E': 4,\n",
       " 'F': 5,\n",
       " 'G': 6,\n",
       " 'H': 7,\n",
       " 'I': 8,\n",
       " 'J': 9,\n",
       " 'K': 10,\n",
       " 'L': 11,\n",
       " 'M': 12,\n",
       " 'N': 13,\n",
       " 'O': 12,\n",
       " 'P': 11,\n",
       " 'Q': 10,\n",
       " 'R': 9,\n",
       " 'S': 8,\n",
       " 'T': 7,\n",
       " 'U': 6,\n",
       " 'V': 5,\n",
       " 'W': 4,\n",
       " 'X': 3,\n",
       " 'Y': 2,\n",
       " 'Z': 1}"
      ]
     },
     "execution_count": 13,
     "metadata": {},
     "output_type": "execute_result"
    }
   ],
   "source": [
    "alpha_dict"
   ]
  },
  {
   "cell_type": "code",
   "execution_count": 18,
   "metadata": {},
   "outputs": [
    {
     "data": {
      "text/plain": [
       "56"
      ]
     },
     "execution_count": 18,
     "metadata": {},
     "output_type": "execute_result"
    }
   ],
   "source": [
    "# 1. A가 아니면 위로. 우측검사\n",
    "# 2.우측이 A이면 왼쪽 커서. 계속 왼쪽탐색\n",
    "# 3. 우측이 A가 아니면 오른쪽 커서. 계속 오른쪽 탐색\n",
    "\n",
    "# name = \"JAZ\"\n",
    "# name = \"JAN\"\n",
    "name = \"JEROEN\"\n",
    "\n",
    "alpha = 'ABCDEFGHIJKLMNOPQRSTUVWXYZ'\n",
    "alpha_list = []\n",
    "for item in alpha:\n",
    "    alpha_list.append(item)\n",
    "\n",
    "num_list = []\n",
    "for i in range(13):\n",
    "    num_list.append(i)\n",
    "\n",
    "for i in range(13,0,-1):\n",
    "    num_list.append(i)\n",
    "\n",
    "# 리스트 두개 합치기 1\n",
    "alpha_dict = {alpha : num for alpha, num in zip(alpha_list, num_list)}\n",
    "\n",
    "# 리스트 두개 합치기 2\n",
    "alpha_dict = dict(zip(alpha_list, num_list))\n",
    "\n",
    "alpha_dict \n",
    "\n",
    "name_list = []\n",
    "for item in name:\n",
    "    name_list.append(item)\n",
    "\n",
    "name_list\n",
    "\n",
    "cnt = 0\n",
    "temp = 0\n",
    "\n",
    "if name_list[-1] == 'A':  # 오른쪽으로 탐색\n",
    "    for i in range(len(name_list)-1):\n",
    "        if name_list[i] != 'A': \n",
    "            cnt += alpha_dict[name_list[i]]\n",
    "            cnt += 1\n",
    "        else:\n",
    "            cnt += 1\n",
    "    cnt -= 1 # 마지막은 갈 필요 없음\n",
    "    \n",
    "elif name_list[1] == 'A': #반대로 탐색\n",
    "    cnt += alpha_dict[name_list[0]] #첫글자\n",
    "    cnt += 1 # 맨 뒤로 이동\n",
    "    for i in range(len(name_list)-1, 1, -1): # 앞에 두개는 이미 위에서 결정\n",
    "        if name_list[i] != 'A': # A가 아니면\n",
    "            cnt += alpha_dict[name_list[i]]\n",
    "            cnt += 1 #앞으로 한 칸 이동\n",
    "        else: #A이면\n",
    "            cnt += alpha_dict[name_list[i]]\n",
    "            cnt += 1 #앞으로 한 칸 이동\n",
    "    cnt -= 1\n",
    "\n",
    "else:\n",
    "    for i in range(len(name_list)):\n",
    "        cnt += alpha_dict[name_list[i]]\n",
    "        cnt += 1\n",
    "    cnt -= 1\n",
    "cnt"
   ]
  },
  {
   "cell_type": "code",
   "execution_count": 11,
   "metadata": {
    "scrolled": true
   },
   "outputs": [
    {
     "name": "stdout",
     "output_type": "stream",
     "text": [
      "Z\n"
     ]
    }
   ],
   "source": [
    "for i in range(len(name_list)-1, 1, -1):\n",
    "    print(name_list[i])"
   ]
  },
  {
   "cell_type": "code",
   "execution_count": 5,
   "metadata": {},
   "outputs": [
    {
     "name": "stdout",
     "output_type": "stream",
     "text": [
      "J\n",
      "A\n",
      "Z\n"
     ]
    }
   ],
   "source": [
    "for i in range(len(name_list)):\n",
    "    print(name_list[i])"
   ]
  },
  {
   "cell_type": "code",
   "execution_count": 19,
   "metadata": {},
   "outputs": [],
   "source": [
    "# 위 아래 조작은 상관없음\n",
    "# 좌 우 조작으로 A가 아닌 모든 알파벳을 방문하는 경우의 수의 최솟값을 구하고\n",
    "# 상 하 조작은 dict로 합산\n",
    "\n"
   ]
  },
  {
   "cell_type": "code",
   "execution_count": 1,
   "metadata": {},
   "outputs": [],
   "source": [
    "alpha = 'ABCDEFGHIJKLMNOPQRSTUVWXYZ'"
   ]
  },
  {
   "cell_type": "code",
   "execution_count": 6,
   "metadata": {},
   "outputs": [
    {
     "data": {
      "text/plain": [
       "13"
      ]
     },
     "execution_count": 6,
     "metadata": {},
     "output_type": "execute_result"
    }
   ],
   "source": [
    "int(len(alpha)/2)"
   ]
  },
  {
   "cell_type": "code",
   "execution_count": 8,
   "metadata": {},
   "outputs": [
    {
     "data": {
      "text/plain": [
       "13"
      ]
     },
     "execution_count": 8,
     "metadata": {},
     "output_type": "execute_result"
    }
   ],
   "source": [
    "len(alpha[int(len(alpha)/2):])"
   ]
  },
  {
   "cell_type": "code",
   "execution_count": 62,
   "metadata": {},
   "outputs": [
    {
     "data": {
      "text/plain": [
       "12"
      ]
     },
     "execution_count": 62,
     "metadata": {},
     "output_type": "execute_result"
    }
   ],
   "source": [
    "alpha.index('M')"
   ]
  },
  {
   "cell_type": "code",
   "execution_count": 63,
   "metadata": {},
   "outputs": [],
   "source": [
    "alpha = list('ABCDEFGHIJKLMNOPQRSTUVWXYZ')"
   ]
  },
  {
   "cell_type": "code",
   "execution_count": null,
   "metadata": {},
   "outputs": [],
   "source": []
  },
  {
   "cell_type": "code",
   "execution_count": 58,
   "metadata": {},
   "outputs": [],
   "source": [
    "r = []\n",
    "for x in alpha:\n",
    "    r.append(alpha.pop())"
   ]
  },
  {
   "cell_type": "code",
   "execution_count": 61,
   "metadata": {},
   "outputs": [
    {
     "data": {
      "text/plain": [
       "12"
      ]
     },
     "execution_count": 61,
     "metadata": {},
     "output_type": "execute_result"
    }
   ],
   "source": [
    "r.index('N')"
   ]
  },
  {
   "cell_type": "code",
   "execution_count": 36,
   "metadata": {},
   "outputs": [],
   "source": [
    "name = \"JAN\"\n",
    "up = 0\n",
    "for i in range(len(name)):\n",
    "    if alpha.index(name[i]) <= 13:\n",
    "        up += alpha.index(name[i])\n",
    "    else:\n",
    "        down += alpha.index(name[i])"
   ]
  },
  {
   "cell_type": "code",
   "execution_count": 68,
   "metadata": {},
   "outputs": [],
   "source": [
    "visited = [False for _ in range(len(name))]"
   ]
  },
  {
   "cell_type": "code",
   "execution_count": 69,
   "metadata": {},
   "outputs": [
    {
     "data": {
      "text/plain": [
       "[False, False, False]"
      ]
     },
     "execution_count": 69,
     "metadata": {},
     "output_type": "execute_result"
    }
   ],
   "source": [
    "visited"
   ]
  },
  {
   "cell_type": "code",
   "execution_count": 37,
   "metadata": {},
   "outputs": [
    {
     "data": {
      "text/plain": [
       "22"
      ]
     },
     "execution_count": 37,
     "metadata": {},
     "output_type": "execute_result"
    }
   ],
   "source": [
    "up"
   ]
  },
  {
   "cell_type": "code",
   "execution_count": 79,
   "metadata": {},
   "outputs": [],
   "source": [
    "name = \"JEROEN\""
   ]
  },
  {
   "cell_type": "code",
   "execution_count": 75,
   "metadata": {},
   "outputs": [
    {
     "data": {
      "text/plain": [
       "'J'"
      ]
     },
     "execution_count": 75,
     "metadata": {},
     "output_type": "execute_result"
    }
   ],
   "source": [
    "list(name).pop(0)"
   ]
  },
  {
   "cell_type": "code",
   "execution_count": 76,
   "metadata": {},
   "outputs": [
    {
     "data": {
      "text/plain": [
       "['J', 'E', 'R', 'O', 'E', 'N']"
      ]
     },
     "execution_count": 76,
     "metadata": {},
     "output_type": "execute_result"
    }
   ],
   "source": [
    "list(name).pop()"
   ]
  },
  {
   "cell_type": "code",
   "execution_count": 80,
   "metadata": {},
   "outputs": [],
   "source": [
    "r_name = []\n",
    "temp = list(name)\n",
    "r_name.append(temp.pop(0))\n",
    "for x in range(len(temp)):\n",
    "    r_name.append(temp.pop())\n"
   ]
  },
  {
   "cell_type": "code",
   "execution_count": 81,
   "metadata": {},
   "outputs": [
    {
     "data": {
      "text/plain": [
       "['J', 'N', 'E', 'O', 'R', 'E']"
      ]
     },
     "execution_count": 81,
     "metadata": {},
     "output_type": "execute_result"
    }
   ],
   "source": [
    "r_name"
   ]
  },
  {
   "cell_type": "code",
   "execution_count": 82,
   "metadata": {},
   "outputs": [],
   "source": [
    "def solution(name):\n",
    "    answer = 0\n",
    "    \n",
    "    name = \"JAN\"\n",
    "    \n",
    "    alpha = list('ABCDEFGHIJKLMNOPQRSTUVWXYZ')\n",
    "    r = []\n",
    "    for i in range(len(alpha)):\n",
    "        r.append(alpha.pop())\n",
    "        \n",
    "    alpha = list('ABCDEFGHIJKLMNOPQRSTUVWXYZ')    \n",
    "    up = 0\n",
    "    down = 0\n",
    "    right = 0 \n",
    "    left = 0\n",
    "    \n",
    "    visited = [0 for _ in range(len(name))]\n",
    "    for i in range(len(name)):\n",
    "        if name[i] == 'A':\n",
    "            visited[i] == 1\n",
    "    \n",
    "    \n",
    "    \n",
    "    # 오른쪽으로 이동 \n",
    "    for i in range(len(name)):\n",
    "        visited[i] = 1\n",
    "        if name[i] != 'A':\n",
    "            if alpha.index(name[i]) <= 13:\n",
    "                up += alpha.index(name[i])\n",
    "            else:\n",
    "                down += (r.index(name[i])+1)\n",
    "            right += 1\n",
    "        else:\n",
    "            # 뒤에 모든 알파벳이 A이면 break\n",
    "            if sum(visited[i+1:len(name)]) == len(visited[i+1:len(name)]):\n",
    "                right += 1\n",
    "                break            \n",
    "            #아니면 진행\n",
    "            right += 1\n",
    "            \n",
    "            \n",
    "    right -= 1\n",
    "    ans1 = up + down + right\n",
    "\n",
    "    \n",
    "    #초기화\n",
    "    up = 0\n",
    "    down = 0\n",
    "    right = 0 \n",
    "    left = 0\n",
    "    \n",
    "    visited = [0 for _ in range(len(name))]\n",
    "    for i in range(len(name)):\n",
    "        if name[i] == 'A':\n",
    "            visited[i] == 1\n",
    "    \n",
    "    \n",
    "\n",
    "    # 왼쪽으로 이동하는 순서리스트 생성\n",
    "    r_name = []\n",
    "    temp = list(name)\n",
    "    r_name.append(temp.pop(0))\n",
    "    for x in range(len(temp)):\n",
    "        r_name.append(temp.pop())\n",
    "    \n",
    "    #왼쪽으로 이동\n",
    "    \n",
    "    for i in range(len(r_name)):\n",
    "        visited[i] = 1\n",
    "        if r_name[i] != 'A':\n",
    "            if alpha.index(r_name[i]) <= 13:\n",
    "                up += alpha.index(r_name[i])\n",
    "            else:\n",
    "                down += (r.index(r_name[i])+1)\n",
    "            left += 1\n",
    "        else:\n",
    "            # 뒤에 모든 알파벳이 A이면 break\n",
    "            if sum(visited[i+1:len(r_name)]) == len(visited[i+1:len(r_name)]):\n",
    "                left += 1\n",
    "                break            \n",
    "            #아니면 진행\n",
    "            left += 1\n",
    "            \n",
    "            \n",
    "    left -= 1\n",
    "    ans2 = up + down + left     \n",
    "    \n",
    "    \n",
    "    # 두 값 중 min값 호출\n",
    "    answer = min(ans1, ans2)\n",
    "    \n",
    "    return answer"
   ]
  },
  {
   "cell_type": "code",
   "execution_count": 91,
   "metadata": {},
   "outputs": [],
   "source": [
    "a_pos = ord('A') # A : 65\n",
    "z_pos = ord('Z') # Z : 90"
   ]
  },
  {
   "cell_type": "code",
   "execution_count": 92,
   "metadata": {},
   "outputs": [
    {
     "name": "stdout",
     "output_type": "stream",
     "text": [
      "65\n"
     ]
    }
   ],
   "source": [
    "print(a_pos)"
   ]
  },
  {
   "cell_type": "code",
   "execution_count": 93,
   "metadata": {},
   "outputs": [],
   "source": [
    "cnt = [min(ord(c)-a_pos, (z_pos+1) - ord(c)) for c in name]"
   ]
  },
  {
   "cell_type": "code",
   "execution_count": 94,
   "metadata": {},
   "outputs": [
    {
     "data": {
      "text/plain": [
       "[9, 4, 9, 12, 4, 13]"
      ]
     },
     "execution_count": 94,
     "metadata": {},
     "output_type": "execute_result"
    }
   ],
   "source": [
    "cnt"
   ]
  },
  {
   "cell_type": "code",
   "execution_count": null,
   "metadata": {},
   "outputs": [],
   "source": [
    "for i in range(len(name)//2 +1):\n",
    "    l_to_r = name[-i:] + name[:-i]\n",
    "    r_to_l = name[:i] + name[i+1:]"
   ]
  },
  {
   "cell_type": "code",
   "execution_count": 95,
   "metadata": {},
   "outputs": [
    {
     "data": {
      "text/plain": [
       "'JEROEN'"
      ]
     },
     "execution_count": 95,
     "metadata": {},
     "output_type": "execute_result"
    }
   ],
   "source": [
    "name"
   ]
  },
  {
   "cell_type": "code",
   "execution_count": 98,
   "metadata": {},
   "outputs": [
    {
     "data": {
      "text/plain": [
       "'REJNEO'"
      ]
     },
     "execution_count": 98,
     "metadata": {},
     "output_type": "execute_result"
    }
   ],
   "source": [
    "name[2: : -1] + name[3:][::-1]"
   ]
  },
  {
   "cell_type": "code",
   "execution_count": null,
   "metadata": {},
   "outputs": [],
   "source": []
  }
 ],
 "metadata": {
  "kernelspec": {
   "display_name": "Python 3",
   "language": "python",
   "name": "python3"
  },
  "language_info": {
   "codemirror_mode": {
    "name": "ipython",
    "version": 3
   },
   "file_extension": ".py",
   "mimetype": "text/x-python",
   "name": "python",
   "nbconvert_exporter": "python",
   "pygments_lexer": "ipython3",
   "version": "3.8.3"
  }
 },
 "nbformat": 4,
 "nbformat_minor": 4
}
