{
 "cells": [
  {
   "cell_type": "code",
   "execution_count": 168,
   "metadata": {},
   "outputs": [],
   "source": [
    "ingredient =[2, 1, 1, 2, 3, 1, 2, 3, 1]"
   ]
  },
  {
   "cell_type": "code",
   "execution_count": 169,
   "metadata": {},
   "outputs": [],
   "source": [
    "# 빵 야채 고기 빵 순서가 있어야 1개\n",
    "\n",
    "# 빵 1 야채 2 고기 3"
   ]
  },
  {
   "cell_type": "code",
   "execution_count": 170,
   "metadata": {},
   "outputs": [],
   "source": [
    "#즉 '1231 묶음이 있는지 확인해야 함'"
   ]
  },
  {
   "cell_type": "code",
   "execution_count": 172,
   "metadata": {},
   "outputs": [
    {
     "name": "stdout",
     "output_type": "stream",
     "text": [
      "2\n"
     ]
    }
   ],
   "source": [
    "#1. ingredient에서 빵이 나타나면 인덱스 체크. 이후 2,3 순서대로 체크하고 다시 1 나타나면 체크 후 카운트\n",
    "#체크한 인덱스 리스트에서 제거하고 재탐색 \n",
    "\n",
    "answer = 0\n",
    "\n",
    "# 2. 0~3 묶음\n",
    "# 1~4 묶음\n",
    "# 2~5....\n",
    "# n-3~n 묶음\n",
    "\n",
    "# [1.2.3.1] 배열을 확인하면 그것만 지우고 다시 처음으로 탐색 불가\n",
    "\n",
    "#따라서 stack 에 순서대로 쌓으며 [1,2,3,1] 배열이 되는 순간 answer 카운트 해주면 됨\n",
    "\n",
    "stack = []\n",
    "for i in ingredient:\n",
    "    stack.append(i)\n",
    "    if stack[-4:] == [1,2,3,1]:\n",
    "        answer +=1\n",
    "        for k in range(4):\n",
    "            stack.pop()\n",
    "            \n",
    "print(answer)"
   ]
  },
  {
   "cell_type": "code",
   "execution_count": 173,
   "metadata": {},
   "outputs": [],
   "source": [
    "#내가 푼 것\n",
    "\n",
    "answer = 0\n",
    "stack = []\n",
    "\n",
    "for i in range(len(ingredient)):\n",
    "   # 여기서 pop()을 사용한 것 자체가 탐색을 한번 더 하는거기 때문에 시간복잡도 증가함\n",
    "    # 인덱스로 뽑아내서 제거할 필요가 전혀 없음\n",
    "    # 위에 반복문도 마찬가지로 item 바로 꺼내오면 됨.\n",
    "    stack.append(ingredient.pop(0))\n",
    "    # 뒤에서 4개 선택할 때, 시작은 -4 하면 뒤에서부터 거꾸로 4번째 인덱스 ~ 공백(끝까지) [-4: ]\n",
    "    if stack[-4:] == [1,2,3,1]:\n",
    "        answer +=1\n",
    "        for x in range(4):\n",
    "            stack.pop()\n"
   ]
  },
  {
   "cell_type": "code",
   "execution_count": null,
   "metadata": {},
   "outputs": [],
   "source": []
  },
  {
   "cell_type": "code",
   "execution_count": null,
   "metadata": {},
   "outputs": [],
   "source": []
  },
  {
   "cell_type": "code",
   "execution_count": null,
   "metadata": {},
   "outputs": [],
   "source": []
  }
 ],
 "metadata": {
  "kernelspec": {
   "display_name": "Python 3",
   "language": "python",
   "name": "python3"
  },
  "language_info": {
   "codemirror_mode": {
    "name": "ipython",
    "version": 3
   },
   "file_extension": ".py",
   "mimetype": "text/x-python",
   "name": "python",
   "nbconvert_exporter": "python",
   "pygments_lexer": "ipython3",
   "version": "3.8.3"
  }
 },
 "nbformat": 4,
 "nbformat_minor": 4
}
