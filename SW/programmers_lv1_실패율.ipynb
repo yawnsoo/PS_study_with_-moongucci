{
 "cells": [
  {
   "cell_type": "code",
   "execution_count": 1,
   "metadata": {},
   "outputs": [],
   "source": [
    "#  실패율 : 스테이지에 도달했으나 아직 클리어하지 못한 플레이어의 수 / 스테이지에 도달한 플레이어 수"
   ]
  },
  {
   "cell_type": "code",
   "execution_count": null,
   "metadata": {},
   "outputs": [],
   "source": []
  },
  {
   "cell_type": "code",
   "execution_count": 19,
   "metadata": {},
   "outputs": [],
   "source": [
    "N = 5 \n",
    "stages = [2, 1, 2, 6, 2, 4, 3, 3]"
   ]
  },
  {
   "cell_type": "code",
   "execution_count": 26,
   "metadata": {},
   "outputs": [],
   "source": [
    "f_rate = {}\n",
    "\n",
    "# 실패율 계산 -> 내림차순 정렬\n",
    "\n",
    "\n",
    "# N ~ 500 S ~ 200000\n",
    "# 1억이라 런타임 에러\n",
    "\n",
    "for i in range(1, N+1):\n",
    "    f_rate[i] = 0\n",
    "    f_cnt = 0\n",
    "    entire = 0\n",
    "    for s in stages:\n",
    "        if i < s:\n",
    "            entire += 1\n",
    "        elif i == s:\n",
    "            f_cnt += 1\n",
    "            entire += 1\n",
    "        else:\n",
    "            pass\n",
    "\n",
    "    f = f_cnt / entire\n",
    "    f_rate[i] = f\n",
    "\n",
    "\n",
    "result = sorted(f_rate.items(), key=lambda x : x[1], reverse=True)\n",
    "answer = []\n",
    "\n",
    "for x in result:\n",
    "    answer.append(x[0])\n",
    "\n"
   ]
  },
  {
   "cell_type": "code",
   "execution_count": 27,
   "metadata": {},
   "outputs": [
    {
     "data": {
      "text/plain": [
       "[3, 4, 2, 1, 5]"
      ]
     },
     "execution_count": 27,
     "metadata": {},
     "output_type": "execute_result"
    }
   ],
   "source": [
    "answer"
   ]
  },
  {
   "cell_type": "code",
   "execution_count": 45,
   "metadata": {},
   "outputs": [],
   "source": [
    "N = 5 \n",
    "stages = [2,2,1,1,1]"
   ]
  },
  {
   "cell_type": "code",
   "execution_count": 49,
   "metadata": {},
   "outputs": [],
   "source": [
    "f_rate = {}\n",
    "\n",
    "# 실패율 계산 -> 내림차순 정렬\n",
    "\n",
    "\n",
    "# N ~ 500 S ~ 200000\n",
    "# 1억이라 런타임 에러\n",
    "pre = 0\n",
    "for i in range(1, N+1):\n",
    "    # 해당 스테이지에 머물러 있는 갯수(실패인원)\n",
    "    f_cnt = stages.count(i)\n",
    "    # 전체 인원에서 해당 스테이지와 기존 스테이지에 머무른 인원들 제외\n",
    "    entire = len(stages) - pre\n",
    "    # 낮은 스테이지 머무른 사람들 누적해서 제외시켜야 함\n",
    "    pre += f_cnt\n",
    "    \n",
    "    if entire == 0:\n",
    "        f = 1\n",
    "    else:\n",
    "        f = f_cnt / entire\n",
    "\n",
    "    f_rate[i] = f\n",
    "result = sorted(f_rate.items(), key=lambda x : x[1], reverse=True)\n",
    "answer = []\n",
    "\n",
    "for x in result:\n",
    "    answer.append(x[0])\n",
    "\n",
    "#마찬가지로 런타임 에러"
   ]
  },
  {
   "cell_type": "code",
   "execution_count": 50,
   "metadata": {},
   "outputs": [
    {
     "data": {
      "text/plain": [
       "[(1, 1.0), (2, 1), (3, 1), (4, 1), (5, 1)]"
      ]
     },
     "execution_count": 50,
     "metadata": {},
     "output_type": "execute_result"
    }
   ],
   "source": [
    "result"
   ]
  },
  {
   "cell_type": "code",
   "execution_count": 51,
   "metadata": {},
   "outputs": [
    {
     "data": {
      "text/plain": [
       "[1, 2, 3, 4, 5]"
      ]
     },
     "execution_count": 51,
     "metadata": {},
     "output_type": "execute_result"
    }
   ],
   "source": [
    "answer"
   ]
  },
  {
   "cell_type": "code",
   "execution_count": 1,
   "metadata": {},
   "outputs": [],
   "source": [
    "N = 5\n",
    "stages = \t[2, 1, 2, 6, 2, 4, 3, 3]"
   ]
  },
  {
   "cell_type": "code",
   "execution_count": 2,
   "metadata": {},
   "outputs": [],
   "source": [
    "stages_dic = {}\n",
    "\n",
    "entire = len(stages)\n",
    "\n",
    "for i in range(1,N+1):\n",
    "    if entire != 0:\n",
    "        f = stages.count(i)\n",
    "        stages_dic[i] = f / entire\n",
    "        entire -= f\n",
    "        \n",
    "    else:\n",
    "        stages[i] = 0\n",
    "        \n",
    "\n",
    "answer = sorted(stages_dic, key=lambda x : stages_dic[x], reverse=True)\n"
   ]
  },
  {
   "cell_type": "code",
   "execution_count": 3,
   "metadata": {},
   "outputs": [
    {
     "data": {
      "text/plain": [
       "{1: 0.125, 2: 0.42857142857142855, 3: 0.5, 4: 0.5, 5: 0.0}"
      ]
     },
     "execution_count": 3,
     "metadata": {},
     "output_type": "execute_result"
    }
   ],
   "source": [
    "stages_dic"
   ]
  },
  {
   "cell_type": "code",
   "execution_count": 4,
   "metadata": {},
   "outputs": [
    {
     "data": {
      "text/plain": [
       "[3, 4, 2, 1, 5]"
      ]
     },
     "execution_count": 4,
     "metadata": {},
     "output_type": "execute_result"
    }
   ],
   "source": [
    "answer"
   ]
  },
  {
   "cell_type": "code",
   "execution_count": null,
   "metadata": {},
   "outputs": [],
   "source": []
  },
  {
   "cell_type": "code",
   "execution_count": 141,
   "metadata": {},
   "outputs": [],
   "source": [
    "##정답 풀이\n",
    "\n",
    "\n",
    "def solution(N, stages):\n",
    "    results = {}\n",
    "    length = len(stages)\n",
    "    for n in range(1, N+1):\n",
    "        if length != 0 :\n",
    "            count = stages.count(n)\n",
    "            results[n] = count / length\n",
    "            length -= count\n",
    "        else:\n",
    "            results[n] = 0 \n",
    "        \n",
    "    return sorted(results, key=lambda x: results[x], reverse=True)\n",
    "\n"
   ]
  },
  {
   "cell_type": "code",
   "execution_count": null,
   "metadata": {},
   "outputs": [],
   "source": []
  }
 ],
 "metadata": {
  "kernelspec": {
   "display_name": "Python 3",
   "language": "python",
   "name": "python3"
  },
  "language_info": {
   "codemirror_mode": {
    "name": "ipython",
    "version": 3
   },
   "file_extension": ".py",
   "mimetype": "text/x-python",
   "name": "python",
   "nbconvert_exporter": "python",
   "pygments_lexer": "ipython3",
   "version": "3.8.3"
  }
 },
 "nbformat": 4,
 "nbformat_minor": 4
}
