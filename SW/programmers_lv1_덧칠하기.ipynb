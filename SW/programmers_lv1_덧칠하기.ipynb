{
 "cells": [
  {
   "cell_type": "code",
   "execution_count": 18,
   "metadata": {},
   "outputs": [
    {
     "name": "stdout",
     "output_type": "stream",
     "text": [
      "2\n"
     ]
    }
   ],
   "source": [
    "n = 8\n",
    "m = 4\n",
    "section = [2, 3, 6]\n",
    "\n",
    "answer = 0\n",
    "\n",
    "if m==1:\n",
    "    answer = len(section)\n",
    "else:\n",
    "    while len(section) > 0:\n",
    "        \n",
    "        l = min(section)\n",
    "        r = max(section)\n",
    "        for i in range(l, l+m):\n",
    "            if i in section:\n",
    "                section.remove(i)\n",
    "            else:\n",
    "                pass\n",
    "        answer += 1\n",
    "        \n",
    "print(answer) #시간 초과 ( while , for 둘 중 한개만)"
   ]
  },
  {
   "cell_type": "code",
   "execution_count": 12,
   "metadata": {},
   "outputs": [
    {
     "data": {
      "text/plain": [
       "4"
      ]
     },
     "execution_count": 12,
     "metadata": {},
     "output_type": "execute_result"
    }
   ],
   "source": [
    "answer"
   ]
  },
  {
   "cell_type": "code",
   "execution_count": 1,
   "metadata": {},
   "outputs": [],
   "source": [
    "n = 8\n",
    "m = 4\n",
    "section = [2, 3, 6]\n"
   ]
  },
  {
   "cell_type": "code",
   "execution_count": 4,
   "metadata": {},
   "outputs": [
    {
     "name": "stdout",
     "output_type": "stream",
     "text": [
      "2\n"
     ]
    }
   ],
   "source": [
    "answer = 0 \n",
    "\n",
    "remain = section\n",
    "\n",
    "if m==1:\n",
    "    answer = len(section)\n",
    "else:\n",
    "    while len(remain) > 0:\n",
    "        r = remain[0] + m - 1\n",
    "        answer += 1\n",
    "        remain = [i for i in remain if i > r]\n",
    "        \n",
    "print(answer)\n",
    "#while 안에 있는 구조 다시 생각하기        "
   ]
  },
  {
   "cell_type": "code",
   "execution_count": null,
   "metadata": {},
   "outputs": [],
   "source": []
  }
 ],
 "metadata": {
  "kernelspec": {
   "display_name": "Python 3",
   "language": "python",
   "name": "python3"
  },
  "language_info": {
   "codemirror_mode": {
    "name": "ipython",
    "version": 3
   },
   "file_extension": ".py",
   "mimetype": "text/x-python",
   "name": "python",
   "nbconvert_exporter": "python",
   "pygments_lexer": "ipython3",
   "version": "3.8.3"
  }
 },
 "nbformat": 4,
 "nbformat_minor": 4
}
