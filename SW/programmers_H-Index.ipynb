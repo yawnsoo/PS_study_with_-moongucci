{
 "cells": [
  {
   "cell_type": "code",
   "execution_count": 46,
   "metadata": {},
   "outputs": [
    {
     "data": {
      "text/plain": [
       "3"
      ]
     },
     "execution_count": 46,
     "metadata": {},
     "output_type": "execute_result"
    }
   ],
   "source": [
    "citations = [3,0,6,1,5]\n",
    "item_list = []\n",
    "\n",
    "for item in citations:\n",
    "    if (item >= 1):\n",
    "        cnt_over = 0\n",
    "        cnt_under = 0\n",
    "        for i in range(len(citations)):\n",
    "            if (citations[i] >= item):\n",
    "                cnt_over += 1\n",
    "            if (citations[i] <= item):\n",
    "                cnt_under += 1\n",
    "        if (cnt_over >= item & cnt_under <= item): ### h + (n - h) = n\n",
    "            item_list.append(item)\n",
    "        \n",
    "    else:\n",
    "        pass\n",
    "\n",
    "max(item_list)"
   ]
  },
  {
   "cell_type": "code",
   "execution_count": null,
   "metadata": {},
   "outputs": [],
   "source": []
  },
  {
   "cell_type": "code",
   "execution_count": null,
   "metadata": {},
   "outputs": [],
   "source": []
  },
  {
   "cell_type": "code",
   "execution_count": null,
   "metadata": {},
   "outputs": [],
   "source": []
  }
 ],
 "metadata": {
  "kernelspec": {
   "display_name": "Python 3",
   "language": "python",
   "name": "python3"
  },
  "language_info": {
   "codemirror_mode": {
    "name": "ipython",
    "version": 3
   },
   "file_extension": ".py",
   "mimetype": "text/x-python",
   "name": "python",
   "nbconvert_exporter": "python",
   "pygments_lexer": "ipython3",
   "version": "3.8.5"
  }
 },
 "nbformat": 4,
 "nbformat_minor": 4
}
