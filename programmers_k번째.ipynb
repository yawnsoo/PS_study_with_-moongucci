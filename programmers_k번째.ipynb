{
 "cells": [
  {
   "cell_type": "code",
   "execution_count": null,
   "metadata": {},
   "outputs": [],
   "source": [
    "def command(s, e, se):\n",
    "    array1 = [1,5,2,6,3,7,4]\n",
    "    start_num = int(s)\n",
    "    end_num = int(e)\n",
    "    select = int(se)\n",
    "\n",
    "\n",
    "\n",
    "command(2,5,3)\n",
    "ans1 = sorted(array1[(start_num-1):(end_num)])\n",
    "print(ans1[select-1])\n",
    "\n",
    "command(4,4,1)\n",
    "print(start_num)\n",
    "ans2 = sorted(array1[(start_num-1):(end_num)])\n",
    "print(ans2)\n",
    "\n",
    "command(1,7,3)\n",
    "ans3 = sorted(array1[(start_num-1):(end_num)])\n",
    "print(ans3)\n",
    "\n",
    "#이러면 왜 안되는지,\n",
    "\n",
    "\n",
    "# for i in range(len(array1)-1):\n",
    "#     print(i)\n",
    "#     if (array1[i] > array1[i+1]):\n",
    "#             temp = array1[i]\n",
    "#             array1[i] = array1[i+1]\n",
    "#             array1[i+1] = temp\n",
    "#     else:\n",
    "#             pass\n",
    " \n",
    "#왜 안되는지\n"
   ]
  },
  {
   "cell_type": "code",
   "execution_count": null,
   "metadata": {},
   "outputs": [],
   "source": [
    "parameter = [[2,5,3],[4,4,1],[1,7,3]]\n",
    "ans_list = []\n",
    "\n",
    "def commands(s, e, se):\n",
    "    array = [1,5,2,6,3,7,4]\n",
    "    start_num = int(s)\n",
    "    end_num = int(e)\n",
    "    select = int(se)\n",
    "    ans = sorted(array[(start_num-1):(end_num)])[select-1]\n",
    "    ans_list.append(ans)\n",
    "\n",
    "\n",
    "for i in range(len(parameter)):\n",
    "        commands(parameter[i][0],parameter[i][1],parameter[i][2])\n",
    "\n",
    "print(ans_list)"
   ]
  },
  {
   "cell_type": "code",
   "execution_count": null,
   "metadata": {},
   "outputs": [],
   "source": [
    "#내가 쓴 정답\n",
    "\n",
    "def solution(array, commands):\n",
    "    \n",
    "    answer = []\n",
    "    \n",
    "    for i in range(len(commands)):\n",
    "        start_num = commands[i][0]\n",
    "        end_num = commands[i][1]\n",
    "        select = commands[i][2]\n",
    "        ans = sorted(array[(start_num-1):(end_num)])[select-1]\n",
    "        answer.append(ans)\n",
    "    \n",
    "    \n",
    "    return answer\n",
    "\n",
    "solution([1,5,2,6,3,7,4],[[2,5,3],[4,4,1],[1,7,3]])"
   ]
  },
  {
   "cell_type": "code",
   "execution_count": null,
   "metadata": {},
   "outputs": [],
   "source": []
  },
  {
   "cell_type": "code",
   "execution_count": null,
   "metadata": {},
   "outputs": [],
   "source": []
  },
  {
   "cell_type": "code",
   "execution_count": 1,
   "metadata": {},
   "outputs": [],
   "source": [
    "#번외\n",
    "\n",
    "#외부 라이브러리 사용 금지\n",
    "\n",
    "import numpy as np\n",
    "\n",
    "def commands(arr, idx):\n",
    "    array = np.array(arr)\n",
    "    index = np.array(idx)\n",
    "    i = index[0]\n",
    "    j = index[1]\n",
    "    k = index[2]\n",
    "    \n",
    "    ans = sorted(array[(i-1):(j)])[k-1]\n",
    "    print(ans) "
   ]
  }
 ],
 "metadata": {
  "kernelspec": {
   "display_name": "Python 3",
   "language": "python",
   "name": "python3"
  },
  "language_info": {
   "codemirror_mode": {
    "name": "ipython",
    "version": 3
   },
   "file_extension": ".py",
   "mimetype": "text/x-python",
   "name": "python",
   "nbconvert_exporter": "python",
   "pygments_lexer": "ipython3",
   "version": "3.8.5"
  }
 },
 "nbformat": 4,
 "nbformat_minor": 4
}
